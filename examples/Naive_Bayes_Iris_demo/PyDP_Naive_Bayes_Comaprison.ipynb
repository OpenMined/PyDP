{
 "cells": [
  {
   "cell_type": "code",
   "execution_count": 1,
   "id": "molecular-treasurer",
   "metadata": {},
   "outputs": [],
   "source": [
    "import pandas as pd\n",
    "import numpy as np\n",
    "import matplotlib.pyplot as plt\n",
    "import seaborn as sns\n",
    "%matplotlib inline\n",
    "sns.set_theme(style=\"white\")\n",
    "\n",
    "np.random.seed(0)\n",
    "\n",
    "from sklearn.model_selection import KFold"
   ]
  },
  {
   "cell_type": "code",
   "execution_count": 2,
   "id": "comparative-balloon",
   "metadata": {},
   "outputs": [],
   "source": [
    "import data_utils\n",
    "\n",
    "datasets = {\n",
    "    \"adult\": data_utils.load_adult_dataset(),\n",
    "    \"mushroom\": data_utils.load_mushroom_dataset(),\n",
    "    \"nursery\": data_utils.load_nursery_dataset(),\n",
    "    \"digit\": data_utils.load_digit_dataset(),\n",
    "    \"skin\": data_utils.load_skin_dataset(),\n",
    "}"
   ]
  },
  {
   "cell_type": "code",
   "execution_count": 3,
   "id": "approximate-craft",
   "metadata": {},
   "outputs": [
    {
     "name": "stderr",
     "output_type": "stream",
     "text": [
      "/home/gilang/.cache/pypoetry/virtualenvs/pydp-FONabfq3-py3.6/lib/python3.6/site-packages/sklearn/model_selection/_split.py:297: FutureWarning: Setting a random_state has no effect since shuffle is False. This will raise an error in 0.24. You should leave random_state to its default (None), or set shuffle=True.\n",
      "  FutureWarning\n"
     ]
    }
   ],
   "source": [
    "# Train GaussianNB from Sklearn for basline 10-fold average training and testing accuracies\n",
    "\n",
    "from sklearn.naive_bayes import GaussianNB\n",
    "\n",
    "clf = GaussianNB()\n",
    "\n",
    "kfold = KFold(n_splits=10, random_state=42)"
   ]
  },
  {
   "cell_type": "code",
   "execution_count": 4,
   "id": "pregnant-newark",
   "metadata": {},
   "outputs": [
    {
     "name": "stdout",
     "output_type": "stream",
     "text": [
      "Average Training Accuracy\n",
      "0.7951810130150003\n",
      "Average Testing Accuracy\n",
      "0.7953074892935194\n",
      "Average Training Accuracy\n",
      "0.965356642758566\n",
      "Average Testing Accuracy\n",
      "0.9367470719042167\n",
      "Average Training Accuracy\n",
      "0.83596536351166\n",
      "Average Testing Accuracy\n",
      "0.7715277777777778\n",
      "Average Training Accuracy\n",
      "0.7993080268880981\n",
      "Average Testing Accuracy\n",
      "0.7909252669039146\n",
      "Average Training Accuracy\n",
      "0.9253783621397431\n",
      "Average Testing Accuracy\n",
      "0.8928012046502467\n"
     ]
    }
   ],
   "source": [
    "def get_fit_result(clf, kfold, df, X, y):\n",
    "    \n",
    "    training_accuracies = []\n",
    "    testing_accuracies = []\n",
    "\n",
    "    for train, test in kfold.split(df.values):\n",
    "\n",
    "        X_train = X.values[train]\n",
    "        y_train = y.values[train]\n",
    "\n",
    "        X_test = X.values[test]\n",
    "        y_test = y.values[test]\n",
    "\n",
    "        clf.fit(X_train, y_train)\n",
    "\n",
    "        training_acucracy = clf.score(X_train, y_train)\n",
    "        testing_acucracy = clf.score(X_test, y_test)\n",
    "\n",
    "        training_accuracies.append(training_acucracy)\n",
    "        testing_accuracies.append(testing_acucracy)\n",
    "\n",
    "    mean_train_acc = np.mean(training_accuracies)\n",
    "    mean_test_acc = np.mean(testing_accuracies)\n",
    "    \n",
    "    print(\"Average Training Accuracy\")\n",
    "    print(mean_train_acc)\n",
    "    print(\"Average Testing Accuracy\")\n",
    "    print(mean_test_acc)\n",
    "    \n",
    "    return mean_train_acc , mean_test_acc\n",
    "\n",
    "baselines = {}\n",
    "\n",
    "for name, dataset in datasets.items():\n",
    "    baseline_result = get_fit_result(clf, kfold, dataset[0], dataset[1], dataset[2])\n",
    "    baselines[name] = baseline_result"
   ]
  },
  {
   "cell_type": "code",
   "execution_count": 5,
   "id": "equivalent-submission",
   "metadata": {
    "scrolled": true
   },
   "outputs": [
    {
     "name": "stderr",
     "output_type": "stream",
     "text": [
      "/home/gilang/PyDP/src/pydp/ml/naive_bayes.py:103: PrivacyLeakWarning: Bounds have not been specified and will be calculated on the data provided. This will result in additional privacy leakage. To ensure differential privacy and no additional privacy leakage, specify bounds for each dimension.\n",
      "  PrivacyLeakWarning,\n"
     ]
    },
    {
     "name": "stdout",
     "output_type": "stream",
     "text": [
      "Average Training Accuracy\n",
      "0.758798009399016\n",
      "Average Testing Accuracy\n",
      "0.7583307621686498\n"
     ]
    },
    {
     "name": "stderr",
     "output_type": "stream",
     "text": [
      "/home/gilang/PyDP/src/pydp/ml/naive_bayes.py:103: PrivacyLeakWarning: Bounds have not been specified and will be calculated on the data provided. This will result in additional privacy leakage. To ensure differential privacy and no additional privacy leakage, specify bounds for each dimension.\n",
      "  PrivacyLeakWarning,\n"
     ]
    },
    {
     "name": "stdout",
     "output_type": "stream",
     "text": [
      "Average Training Accuracy\n",
      "0.6911780070076436\n",
      "Average Testing Accuracy\n",
      "0.6914400961376707\n"
     ]
    },
    {
     "name": "stderr",
     "output_type": "stream",
     "text": [
      "/home/gilang/PyDP/src/pydp/ml/naive_bayes.py:103: PrivacyLeakWarning: Bounds have not been specified and will be calculated on the data provided. This will result in additional privacy leakage. To ensure differential privacy and no additional privacy leakage, specify bounds for each dimension.\n",
      "  PrivacyLeakWarning,\n"
     ]
    },
    {
     "name": "stdout",
     "output_type": "stream",
     "text": [
      "Average Training Accuracy\n",
      "0.6901169080234085\n",
      "Average Testing Accuracy\n",
      "0.6876304976090054\n"
     ]
    },
    {
     "name": "stderr",
     "output_type": "stream",
     "text": [
      "/home/gilang/PyDP/src/pydp/ml/naive_bayes.py:103: PrivacyLeakWarning: Bounds have not been specified and will be calculated on the data provided. This will result in additional privacy leakage. To ensure differential privacy and no additional privacy leakage, specify bounds for each dimension.\n",
      "  PrivacyLeakWarning,\n"
     ]
    },
    {
     "name": "stdout",
     "output_type": "stream",
     "text": [
      "Average Training Accuracy\n",
      "0.6233382362524147\n",
      "Average Testing Accuracy\n",
      "0.6268954450025988\n"
     ]
    },
    {
     "name": "stderr",
     "output_type": "stream",
     "text": [
      "/home/gilang/PyDP/src/pydp/ml/naive_bayes.py:103: PrivacyLeakWarning: Bounds have not been specified and will be calculated on the data provided. This will result in additional privacy leakage. To ensure differential privacy and no additional privacy leakage, specify bounds for each dimension.\n",
      "  PrivacyLeakWarning,\n"
     ]
    },
    {
     "name": "stdout",
     "output_type": "stream",
     "text": [
      "Average Training Accuracy\n",
      "0.3987363325774006\n",
      "Average Testing Accuracy\n",
      "0.4002249831962758\n"
     ]
    },
    {
     "name": "stderr",
     "output_type": "stream",
     "text": [
      "/home/gilang/PyDP/src/pydp/ml/naive_bayes.py:103: PrivacyLeakWarning: Bounds have not been specified and will be calculated on the data provided. This will result in additional privacy leakage. To ensure differential privacy and no additional privacy leakage, specify bounds for each dimension.\n",
      "  PrivacyLeakWarning,\n"
     ]
    },
    {
     "name": "stdout",
     "output_type": "stream",
     "text": [
      "Average Training Accuracy\n",
      "0.5204769154304216\n",
      "Average Testing Accuracy\n",
      "0.5171452301940482\n"
     ]
    },
    {
     "name": "stderr",
     "output_type": "stream",
     "text": [
      "/home/gilang/PyDP/src/pydp/ml/naive_bayes.py:103: PrivacyLeakWarning: Bounds have not been specified and will be calculated on the data provided. This will result in additional privacy leakage. To ensure differential privacy and no additional privacy leakage, specify bounds for each dimension.\n",
      "  PrivacyLeakWarning,\n"
     ]
    },
    {
     "name": "stdout",
     "output_type": "stream",
     "text": [
      "Average Training Accuracy\n",
      "0.402092611837536\n",
      "Average Testing Accuracy\n",
      "0.4049677919189739\n"
     ]
    },
    {
     "name": "stderr",
     "output_type": "stream",
     "text": [
      "/home/gilang/PyDP/src/pydp/ml/naive_bayes.py:103: PrivacyLeakWarning: Bounds have not been specified and will be calculated on the data provided. This will result in additional privacy leakage. To ensure differential privacy and no additional privacy leakage, specify bounds for each dimension.\n",
      "  PrivacyLeakWarning,\n"
     ]
    },
    {
     "name": "stdout",
     "output_type": "stream",
     "text": [
      "Average Training Accuracy\n",
      "0.8886817195215866\n",
      "Average Testing Accuracy\n",
      "0.7972282309029988\n"
     ]
    },
    {
     "name": "stderr",
     "output_type": "stream",
     "text": [
      "/home/gilang/PyDP/src/pydp/ml/naive_bayes.py:103: PrivacyLeakWarning: Bounds have not been specified and will be calculated on the data provided. This will result in additional privacy leakage. To ensure differential privacy and no additional privacy leakage, specify bounds for each dimension.\n",
      "  PrivacyLeakWarning,\n"
     ]
    },
    {
     "name": "stdout",
     "output_type": "stream",
     "text": [
      "Average Training Accuracy\n",
      "0.7093375079726092\n",
      "Average Testing Accuracy\n",
      "0.5656341834354304\n"
     ]
    },
    {
     "name": "stderr",
     "output_type": "stream",
     "text": [
      "/home/gilang/PyDP/src/pydp/ml/naive_bayes.py:103: PrivacyLeakWarning: Bounds have not been specified and will be calculated on the data provided. This will result in additional privacy leakage. To ensure differential privacy and no additional privacy leakage, specify bounds for each dimension.\n",
      "  PrivacyLeakWarning,\n"
     ]
    },
    {
     "name": "stdout",
     "output_type": "stream",
     "text": [
      "Average Training Accuracy\n",
      "0.4725374065397694\n",
      "Average Testing Accuracy\n",
      "0.4938155526875466\n"
     ]
    },
    {
     "name": "stderr",
     "output_type": "stream",
     "text": [
      "/home/gilang/PyDP/src/pydp/ml/naive_bayes.py:103: PrivacyLeakWarning: Bounds have not been specified and will be calculated on the data provided. This will result in additional privacy leakage. To ensure differential privacy and no additional privacy leakage, specify bounds for each dimension.\n",
      "  PrivacyLeakWarning,\n"
     ]
    },
    {
     "name": "stdout",
     "output_type": "stream",
     "text": [
      "Average Training Accuracy\n",
      "0.5275844329622909\n",
      "Average Testing Accuracy\n",
      "0.3643876598864511\n"
     ]
    },
    {
     "name": "stderr",
     "output_type": "stream",
     "text": [
      "/home/gilang/PyDP/src/pydp/ml/naive_bayes.py:103: PrivacyLeakWarning: Bounds have not been specified and will be calculated on the data provided. This will result in additional privacy leakage. To ensure differential privacy and no additional privacy leakage, specify bounds for each dimension.\n",
      "  PrivacyLeakWarning,\n"
     ]
    },
    {
     "name": "stdout",
     "output_type": "stream",
     "text": [
      "Average Training Accuracy\n",
      "0.49563870402112825\n",
      "Average Testing Accuracy\n",
      "0.48739631238676917\n"
     ]
    },
    {
     "name": "stderr",
     "output_type": "stream",
     "text": [
      "/home/gilang/PyDP/src/pydp/ml/naive_bayes.py:103: PrivacyLeakWarning: Bounds have not been specified and will be calculated on the data provided. This will result in additional privacy leakage. To ensure differential privacy and no additional privacy leakage, specify bounds for each dimension.\n",
      "  PrivacyLeakWarning,\n"
     ]
    },
    {
     "name": "stdout",
     "output_type": "stream",
     "text": [
      "Average Training Accuracy\n",
      "0.4919848919990171\n",
      "Average Testing Accuracy\n",
      "0.5118597725386121\n"
     ]
    },
    {
     "name": "stderr",
     "output_type": "stream",
     "text": [
      "/home/gilang/PyDP/src/pydp/ml/naive_bayes.py:103: PrivacyLeakWarning: Bounds have not been specified and will be calculated on the data provided. This will result in additional privacy leakage. To ensure differential privacy and no additional privacy leakage, specify bounds for each dimension.\n",
      "  PrivacyLeakWarning,\n"
     ]
    },
    {
     "name": "stdout",
     "output_type": "stream",
     "text": [
      "Average Training Accuracy\n",
      "0.48387284253187623\n",
      "Average Testing Accuracy\n",
      "0.5104179921109555\n"
     ]
    },
    {
     "name": "stderr",
     "output_type": "stream",
     "text": [
      "/home/gilang/PyDP/src/pydp/ml/naive_bayes.py:103: PrivacyLeakWarning: Bounds have not been specified and will be calculated on the data provided. This will result in additional privacy leakage. To ensure differential privacy and no additional privacy leakage, specify bounds for each dimension.\n",
      "  PrivacyLeakWarning,\n"
     ]
    },
    {
     "name": "stdout",
     "output_type": "stream",
     "text": [
      "Average Training Accuracy\n",
      "0.8704389574759945\n",
      "Average Testing Accuracy\n",
      "0.7926697530864197\n"
     ]
    },
    {
     "name": "stderr",
     "output_type": "stream",
     "text": [
      "/home/gilang/PyDP/src/pydp/ml/naive_bayes.py:103: PrivacyLeakWarning: Bounds have not been specified and will be calculated on the data provided. This will result in additional privacy leakage. To ensure differential privacy and no additional privacy leakage, specify bounds for each dimension.\n",
      "  PrivacyLeakWarning,\n"
     ]
    },
    {
     "name": "stdout",
     "output_type": "stream",
     "text": [
      "Average Training Accuracy\n",
      "0.6382115912208504\n",
      "Average Testing Accuracy\n",
      "0.5773148148148148\n"
     ]
    },
    {
     "name": "stderr",
     "output_type": "stream",
     "text": [
      "/home/gilang/PyDP/src/pydp/ml/naive_bayes.py:103: PrivacyLeakWarning: Bounds have not been specified and will be calculated on the data provided. This will result in additional privacy leakage. To ensure differential privacy and no additional privacy leakage, specify bounds for each dimension.\n",
      "  PrivacyLeakWarning,\n"
     ]
    },
    {
     "name": "stdout",
     "output_type": "stream",
     "text": [
      "Average Training Accuracy\n",
      "0.31644375857338825\n",
      "Average Testing Accuracy\n",
      "0.33595679012345675\n"
     ]
    },
    {
     "name": "stderr",
     "output_type": "stream",
     "text": [
      "/home/gilang/PyDP/src/pydp/ml/naive_bayes.py:103: PrivacyLeakWarning: Bounds have not been specified and will be calculated on the data provided. This will result in additional privacy leakage. To ensure differential privacy and no additional privacy leakage, specify bounds for each dimension.\n",
      "  PrivacyLeakWarning,\n"
     ]
    },
    {
     "name": "stdout",
     "output_type": "stream",
     "text": [
      "Average Training Accuracy\n",
      "0.29188100137174205\n",
      "Average Testing Accuracy\n",
      "0.28479938271604943\n"
     ]
    },
    {
     "name": "stderr",
     "output_type": "stream",
     "text": [
      "/home/gilang/PyDP/src/pydp/ml/naive_bayes.py:103: PrivacyLeakWarning: Bounds have not been specified and will be calculated on the data provided. This will result in additional privacy leakage. To ensure differential privacy and no additional privacy leakage, specify bounds for each dimension.\n",
      "  PrivacyLeakWarning,\n"
     ]
    },
    {
     "name": "stdout",
     "output_type": "stream",
     "text": [
      "Average Training Accuracy\n",
      "0.24055212620027439\n",
      "Average Testing Accuracy\n",
      "0.22013888888888888\n"
     ]
    },
    {
     "name": "stderr",
     "output_type": "stream",
     "text": [
      "/home/gilang/PyDP/src/pydp/ml/naive_bayes.py:103: PrivacyLeakWarning: Bounds have not been specified and will be calculated on the data provided. This will result in additional privacy leakage. To ensure differential privacy and no additional privacy leakage, specify bounds for each dimension.\n",
      "  PrivacyLeakWarning,\n"
     ]
    },
    {
     "name": "stdout",
     "output_type": "stream",
     "text": [
      "Average Training Accuracy\n",
      "0.23736282578875167\n",
      "Average Testing Accuracy\n",
      "0.23888888888888887\n"
     ]
    },
    {
     "name": "stderr",
     "output_type": "stream",
     "text": [
      "/home/gilang/PyDP/src/pydp/ml/naive_bayes.py:103: PrivacyLeakWarning: Bounds have not been specified and will be calculated on the data provided. This will result in additional privacy leakage. To ensure differential privacy and no additional privacy leakage, specify bounds for each dimension.\n",
      "  PrivacyLeakWarning,\n"
     ]
    },
    {
     "name": "stdout",
     "output_type": "stream",
     "text": [
      "Average Training Accuracy\n",
      "0.27031893004115226\n",
      "Average Testing Accuracy\n",
      "0.2575617283950617\n"
     ]
    },
    {
     "name": "stderr",
     "output_type": "stream",
     "text": [
      "/home/gilang/PyDP/src/pydp/ml/naive_bayes.py:103: PrivacyLeakWarning: Bounds have not been specified and will be calculated on the data provided. This will result in additional privacy leakage. To ensure differential privacy and no additional privacy leakage, specify bounds for each dimension.\n",
      "  PrivacyLeakWarning,\n"
     ]
    },
    {
     "name": "stdout",
     "output_type": "stream",
     "text": [
      "Average Training Accuracy\n",
      "0.418564650059312\n",
      "Average Testing Accuracy\n",
      "0.40444839857651244\n"
     ]
    },
    {
     "name": "stderr",
     "output_type": "stream",
     "text": [
      "/home/gilang/PyDP/src/pydp/ml/naive_bayes.py:103: PrivacyLeakWarning: Bounds have not been specified and will be calculated on the data provided. This will result in additional privacy leakage. To ensure differential privacy and no additional privacy leakage, specify bounds for each dimension.\n",
      "  PrivacyLeakWarning,\n"
     ]
    },
    {
     "name": "stdout",
     "output_type": "stream",
     "text": [
      "Average Training Accuracy\n",
      "0.13792012653222618\n",
      "Average Testing Accuracy\n",
      "0.12526690391459078\n"
     ]
    },
    {
     "name": "stderr",
     "output_type": "stream",
     "text": [
      "/home/gilang/PyDP/src/pydp/ml/naive_bayes.py:103: PrivacyLeakWarning: Bounds have not been specified and will be calculated on the data provided. This will result in additional privacy leakage. To ensure differential privacy and no additional privacy leakage, specify bounds for each dimension.\n",
      "  PrivacyLeakWarning,\n"
     ]
    },
    {
     "name": "stdout",
     "output_type": "stream",
     "text": [
      "Average Training Accuracy\n",
      "0.12829181494661918\n",
      "Average Testing Accuracy\n",
      "0.12508896797153027\n"
     ]
    },
    {
     "name": "stderr",
     "output_type": "stream",
     "text": [
      "/home/gilang/PyDP/src/pydp/ml/naive_bayes.py:103: PrivacyLeakWarning: Bounds have not been specified and will be calculated on the data provided. This will result in additional privacy leakage. To ensure differential privacy and no additional privacy leakage, specify bounds for each dimension.\n",
      "  PrivacyLeakWarning,\n"
     ]
    },
    {
     "name": "stdout",
     "output_type": "stream",
     "text": [
      "Average Training Accuracy\n",
      "0.10294582839066826\n",
      "Average Testing Accuracy\n",
      "0.10302491103202846\n"
     ]
    },
    {
     "name": "stderr",
     "output_type": "stream",
     "text": [
      "/home/gilang/PyDP/src/pydp/ml/naive_bayes.py:103: PrivacyLeakWarning: Bounds have not been specified and will be calculated on the data provided. This will result in additional privacy leakage. To ensure differential privacy and no additional privacy leakage, specify bounds for each dimension.\n",
      "  PrivacyLeakWarning,\n"
     ]
    },
    {
     "name": "stdout",
     "output_type": "stream",
     "text": [
      "Average Training Accuracy\n",
      "0.11633056544088574\n",
      "Average Testing Accuracy\n",
      "0.12473309608540925\n"
     ]
    },
    {
     "name": "stderr",
     "output_type": "stream",
     "text": [
      "/home/gilang/PyDP/src/pydp/ml/naive_bayes.py:103: PrivacyLeakWarning: Bounds have not been specified and will be calculated on the data provided. This will result in additional privacy leakage. To ensure differential privacy and no additional privacy leakage, specify bounds for each dimension.\n",
      "  PrivacyLeakWarning,\n"
     ]
    },
    {
     "name": "stdout",
     "output_type": "stream",
     "text": [
      "Average Training Accuracy\n",
      "0.10719652036378016\n",
      "Average Testing Accuracy\n",
      "0.10960854092526691\n"
     ]
    },
    {
     "name": "stderr",
     "output_type": "stream",
     "text": [
      "/home/gilang/PyDP/src/pydp/ml/naive_bayes.py:103: PrivacyLeakWarning: Bounds have not been specified and will be calculated on the data provided. This will result in additional privacy leakage. To ensure differential privacy and no additional privacy leakage, specify bounds for each dimension.\n",
      "  PrivacyLeakWarning,\n"
     ]
    },
    {
     "name": "stdout",
     "output_type": "stream",
     "text": [
      "Average Training Accuracy\n",
      "0.09881376037959669\n",
      "Average Testing Accuracy\n",
      "0.10302491103202846\n"
     ]
    },
    {
     "name": "stderr",
     "output_type": "stream",
     "text": [
      "/home/gilang/PyDP/src/pydp/ml/naive_bayes.py:103: PrivacyLeakWarning: Bounds have not been specified and will be calculated on the data provided. This will result in additional privacy leakage. To ensure differential privacy and no additional privacy leakage, specify bounds for each dimension.\n",
      "  PrivacyLeakWarning,\n"
     ]
    },
    {
     "name": "stdout",
     "output_type": "stream",
     "text": [
      "Average Training Accuracy\n",
      "0.925819529775682\n",
      "Average Testing Accuracy\n",
      "0.8835830578232817\n"
     ]
    },
    {
     "name": "stderr",
     "output_type": "stream",
     "text": [
      "/home/gilang/PyDP/src/pydp/ml/naive_bayes.py:103: PrivacyLeakWarning: Bounds have not been specified and will be calculated on the data provided. This will result in additional privacy leakage. To ensure differential privacy and no additional privacy leakage, specify bounds for each dimension.\n",
      "  PrivacyLeakWarning,\n"
     ]
    },
    {
     "name": "stdout",
     "output_type": "stream",
     "text": [
      "Average Training Accuracy\n",
      "0.8076923786311779\n",
      "Average Testing Accuracy\n",
      "0.760947822462993\n"
     ]
    },
    {
     "name": "stderr",
     "output_type": "stream",
     "text": [
      "/home/gilang/PyDP/src/pydp/ml/naive_bayes.py:103: PrivacyLeakWarning: Bounds have not been specified and will be calculated on the data provided. This will result in additional privacy leakage. To ensure differential privacy and no additional privacy leakage, specify bounds for each dimension.\n",
      "  PrivacyLeakWarning,\n"
     ]
    },
    {
     "name": "stdout",
     "output_type": "stream",
     "text": [
      "Average Training Accuracy\n",
      "0.808439158584523\n",
      "Average Testing Accuracy\n",
      "0.7467100057511867\n"
     ]
    },
    {
     "name": "stderr",
     "output_type": "stream",
     "text": [
      "/home/gilang/PyDP/src/pydp/ml/naive_bayes.py:103: PrivacyLeakWarning: Bounds have not been specified and will be calculated on the data provided. This will result in additional privacy leakage. To ensure differential privacy and no additional privacy leakage, specify bounds for each dimension.\n",
      "  PrivacyLeakWarning,\n"
     ]
    },
    {
     "name": "stdout",
     "output_type": "stream",
     "text": [
      "Average Training Accuracy\n",
      "0.8223266226870212\n",
      "Average Testing Accuracy\n",
      "0.7822570603157569\n"
     ]
    },
    {
     "name": "stderr",
     "output_type": "stream",
     "text": [
      "/home/gilang/PyDP/src/pydp/ml/naive_bayes.py:103: PrivacyLeakWarning: Bounds have not been specified and will be calculated on the data provided. This will result in additional privacy leakage. To ensure differential privacy and no additional privacy leakage, specify bounds for each dimension.\n",
      "  PrivacyLeakWarning,\n"
     ]
    },
    {
     "name": "stdout",
     "output_type": "stream",
     "text": [
      "Average Training Accuracy\n",
      "0.8051505821441538\n",
      "Average Testing Accuracy\n",
      "0.7411806473637917\n"
     ]
    },
    {
     "name": "stderr",
     "output_type": "stream",
     "text": [
      "/home/gilang/PyDP/src/pydp/ml/naive_bayes.py:103: PrivacyLeakWarning: Bounds have not been specified and will be calculated on the data provided. This will result in additional privacy leakage. To ensure differential privacy and no additional privacy leakage, specify bounds for each dimension.\n",
      "  PrivacyLeakWarning,\n"
     ]
    },
    {
     "name": "stdout",
     "output_type": "stream",
     "text": [
      "Average Training Accuracy\n",
      "0.8144894637957835\n",
      "Average Testing Accuracy\n",
      "0.7200298869547174\n"
     ]
    },
    {
     "name": "stderr",
     "output_type": "stream",
     "text": [
      "/home/gilang/PyDP/src/pydp/ml/naive_bayes.py:103: PrivacyLeakWarning: Bounds have not been specified and will be calculated on the data provided. This will result in additional privacy leakage. To ensure differential privacy and no additional privacy leakage, specify bounds for each dimension.\n",
      "  PrivacyLeakWarning,\n"
     ]
    },
    {
     "name": "stdout",
     "output_type": "stream",
     "text": [
      "Average Training Accuracy\n",
      "0.7047217261818646\n",
      "Average Testing Accuracy\n",
      "0.6622325237282457\n"
     ]
    }
   ],
   "source": [
    "from pydp.ml.naive_bayes import GaussianNB\n",
    "\n",
    "\n",
    "epsilons = [10.0, 1.0, 0.1, 0.05, 0.01, 0.005, 0.001]\n",
    "\n",
    "dp_results = {}\n",
    "\n",
    "for name, dataset in datasets.items():\n",
    "    \n",
    "    mean_train_accs = []\n",
    "    mean_test_accs = []\n",
    "    \n",
    "    for epsilon in epsilons:\n",
    "        clf = GaussianNB(epsilon=epsilon)\n",
    "\n",
    "        training_accuracy, test_accuracy = get_fit_result(clf, kfold, dataset[0], dataset[1], dataset[2])\n",
    "\n",
    "        mean_train_accs.append(training_accuracy * 100)\n",
    "        mean_test_accs.append(test_accuracy * 100 )\n",
    "        \n",
    "    dp_results[name] = mean_train_accs, mean_test_accs"
   ]
  },
  {
   "cell_type": "code",
   "execution_count": 6,
   "id": "systematic-thesis",
   "metadata": {},
   "outputs": [],
   "source": [
    "def plot_result(ax, dataset_name, baseline_train, baseline_test, dp_train, dp_test, epsilons):\n",
    "    ax.plot(epsilons, dp_train, marker=\"o\", label=\"Train (DP)\")\n",
    "    ax.plot(epsilons, dp_test, marker=\"x\", label=\"Test (DP)\")\n",
    "\n",
    "    # Set limit on y and axis\n",
    "    ax.set_xlim(0.1, -3.)\n",
    "    ax.set_ylim(0, 100)\n",
    "\n",
    "    # Set title\n",
    "    ax.set_title(f\"{dataset_name.capitalize()} Dataset:Average Accuracy over 10-fold Cross Validation\")\n",
    "\n",
    "    # Set label on y and axis\n",
    "    ax.set_ylabel(\"Train Accuracy (linear scale)\")\n",
    "    ax.set_xlabel(\"Epsilons (log scale 10^)\")\n",
    "\n",
    "    # Turn off grid background\n",
    "    ax.grid(False)\n",
    "\n",
    "    # Adjust x axis to display only specific numbers\n",
    "    ax.set_xticks(np.arange(ax.get_xticks().min(), ax.get_xticks().max(), 1.0))\n",
    "\n",
    "    # Draw the read line\n",
    "    ax.axhline(baseline_train * 100, color=\"r\", linewidth=2, label=\"Baseline Train\")\n",
    "    ax.axhline(baseline_test * 100, color=\"c\", linewidth=2, label=\"Baseline Test\")"
   ]
  },
  {
   "cell_type": "code",
   "execution_count": 7,
   "id": "british-rider",
   "metadata": {},
   "outputs": [
    {
     "data": {
      "image/png": "[encoded data removed]",
      "text/plain": [
       "<Figure size 1080x1080 with 6 Axes>"
      ]
     },
     "metadata": {},
     "output_type": "display_data"
    }
   ],
   "source": [
    "fig, axs = plt.subplots(3,2,figsize=(15,15), constrained_layout=True)\n",
    "\n",
    "fig.delaxes(axs[2,1])\n",
    "\n",
    "epsilons = np.log10(epsilons)\n",
    "\n",
    "dataset_name = \"adult\"\n",
    "plot_result(\n",
    "    axs[0,0], \n",
    "    dataset_name, \n",
    "    baselines[dataset_name][0],\n",
    "    baselines[dataset_name][1], \n",
    "    dp_results[dataset_name][0], \n",
    "    dp_results[dataset_name][1], \n",
    "    epsilons\n",
    ")\n",
    "\n",
    "dataset_name = \"mushroom\"\n",
    "plot_result(\n",
    "    axs[0,1], \n",
    "    dataset_name, \n",
    "    baselines[dataset_name][0],\n",
    "    baselines[dataset_name][1], \n",
    "    dp_results[dataset_name][0], \n",
    "    dp_results[dataset_name][1], \n",
    "    epsilons\n",
    ")\n",
    "\n",
    "dataset_name = \"nursery\"\n",
    "plot_result(\n",
    "    axs[1,0], \n",
    "    dataset_name, \n",
    "    baselines[dataset_name][0],\n",
    "    baselines[dataset_name][1], \n",
    "    dp_results[dataset_name][0], \n",
    "    dp_results[dataset_name][1], \n",
    "    epsilons\n",
    ")\n",
    "\n",
    "dataset_name = \"digit\"\n",
    "plot_result(\n",
    "    axs[1,1], \n",
    "    dataset_name, \n",
    "    baselines[dataset_name][0],\n",
    "    baselines[dataset_name][1], \n",
    "    dp_results[dataset_name][0], \n",
    "    dp_results[dataset_name][1], \n",
    "    epsilons\n",
    ")\n",
    "\n",
    "dataset_name = \"skin\"\n",
    "plot_result(\n",
    "    axs[2,0], \n",
    "    dataset_name, \n",
    "    baselines[dataset_name][0],\n",
    "    baselines[dataset_name][1], \n",
    "    dp_results[dataset_name][0], \n",
    "    dp_results[dataset_name][1], \n",
    "    epsilons\n",
    ")\n",
    "\n",
    "\n",
    "handles, labels = axs[2,0].get_legend_handles_labels()\n",
    "fig.legend(handles, labels, loc='lower right')\n",
    "\n",
    "plt.savefig(\"./result.png\")"
   ]
  },
  {
   "cell_type": "code",
   "execution_count": null,
   "id": "hybrid-nursery",
   "metadata": {},
   "outputs": [],
   "source": []
  },
  {
   "cell_type": "code",
   "execution_count": null,
   "id": "vietnamese-argentina",
   "metadata": {},
   "outputs": [],
   "source": []
  }
 ],
 "metadata": {
  "kernelspec": {
   "display_name": "Python 3",
   "language": "python",
   "name": "python3"
  },
  "language_info": {
   "codemirror_mode": {
    "name": "ipython",
    "version": 3
   },
   "file_extension": ".py",
   "mimetype": "text/x-python",
   "name": "python",
   "nbconvert_exporter": "python",
   "pygments_lexer": "ipython3",
   "version": "3.6.9"
  }
 },
 "nbformat": 4,
 "nbformat_minor": 5
}
