{
 "cells": [
  {
   "cell_type": "code",
   "execution_count": 1,
   "id": "55e5c01a",
   "metadata": {},
   "outputs": [],
   "source": [
    "from sklearn.naive_bayes import GaussianNB\n",
    "from sklearn.preprocessing import StandardScaler\n",
    "from sklearn.datasets import make_classification\n",
    "from sklearn.model_selection import train_test_split\n",
    "from sklearn.pipeline import Pipeline\n",
    "\n",
    "from pydp.ml.mechanisms.sklearn_pipeline import LaplaceMechanism\n",
    "from pydp.ml.util.accountant import BudgetAccountant"
   ]
  },
  {
   "cell_type": "code",
   "execution_count": 2,
   "id": "3a391b28",
   "metadata": {},
   "outputs": [],
   "source": [
    "# DUMMY DATASET\n",
    "\n",
    "# Create random dataset\n",
    "X, y = make_classification(random_state=0)\n",
    "\n",
    "# Split training test set\n",
    "X_train, X_test, y_train, y_test = train_test_split(X, y,\n",
    "                                                    random_state=0)"
   ]
  },
  {
   "cell_type": "markdown",
   "id": "5565f980",
   "metadata": {},
   "source": [
    "## Simple Sklearn Pipeline Example with Laplace Mechanism"
   ]
  },
  {
   "cell_type": "code",
   "execution_count": 3,
   "id": "71ca131d",
   "metadata": {},
   "outputs": [
    {
     "data": {
      "text/plain": [
       "0.84"
      ]
     },
     "execution_count": 3,
     "metadata": {},
     "output_type": "execute_result"
    }
   ],
   "source": [
    "# Create the pipeline\n",
    "pipe = Pipeline([\n",
    "    ('scaler', StandardScaler()),\n",
    "    ('laplace', LaplaceMechanism()), \n",
    "    ('nb', GaussianNB())\n",
    "])\n",
    "\n",
    "# Train Naive Bayes model with Local DP\n",
    "pipe.fit(X_train, y_train)\n",
    "\n",
    "# Get model score\n",
    "pipe.score(X_test, y_test)"
   ]
  },
  {
   "cell_type": "markdown",
   "id": "2b0e6ad6",
   "metadata": {},
   "source": [
    "## Configuring Epsilon and Sensitivity Params"
   ]
  },
  {
   "cell_type": "code",
   "execution_count": 4,
   "id": "46d88b53",
   "metadata": {},
   "outputs": [
    {
     "data": {
      "text/plain": [
       "0.48"
      ]
     },
     "execution_count": 4,
     "metadata": {},
     "output_type": "execute_result"
    }
   ],
   "source": [
    "# Set laplace mechanism with epsilon 0.1 and sensitivity .5\n",
    "laplace = LaplaceMechanism(epsilon=0.1, sensitivity=0.5)\n",
    "\n",
    "# Initialize scaler and naive bayes extimator\n",
    "scaler = StandardScaler()\n",
    "nb = GaussianNB()\n",
    "\n",
    "# Create the pipeline\n",
    "pipe = Pipeline([('scaler', scaler), ('laplace', laplace), ('nb', nb)])\n",
    "\n",
    "# Train Naive Bayes model with Local DP\n",
    "pipe.fit(X_train, y_train)\n",
    "\n",
    "# Get model score\n",
    "pipe.score(X_test, y_test)"
   ]
  },
  {
   "cell_type": "markdown",
   "id": "3bcf8008",
   "metadata": {},
   "source": [
    "## Sensitivty as Function instead of Number"
   ]
  },
  {
   "cell_type": "code",
   "execution_count": 5,
   "id": "93af586e",
   "metadata": {},
   "outputs": [
    {
     "data": {
      "text/plain": [
       "0.52"
      ]
     },
     "execution_count": 5,
     "metadata": {},
     "output_type": "execute_result"
    }
   ],
   "source": [
    "# Set sensitivity function for numerical data\n",
    "sensitivity = lambda x: (max(x) - min(x))/ (len(x) + 1)\n",
    "\n",
    "# Set laplace mechanism with epsilon 0.1 and sensitivity is function\n",
    "laplace = LaplaceMechanism(epsilon=0.1, sensitivity=sensitivity)\n",
    "\n",
    "# Initialize scaler and naive bayes extimator\n",
    "scaler = StandardScaler()\n",
    "nb = GaussianNB()\n",
    "\n",
    "# Create the pipeline\n",
    "pipe = Pipeline([('scaler', scaler), ('laplace', laplace), ('nb', nb)])\n",
    "\n",
    "# Train Naive Bayes model with Local DP\n",
    "pipe.fit(X_train, y_train)\n",
    "\n",
    "# Get model score\n",
    "pipe.score(X_test, y_test)"
   ]
  },
  {
   "cell_type": "markdown",
   "id": "5481e584",
   "metadata": {},
   "source": [
    "## Budget Accountant"
   ]
  },
  {
   "cell_type": "code",
   "execution_count": 6,
   "id": "eda5ef9c",
   "metadata": {},
   "outputs": [
    {
     "data": {
      "text/plain": [
       "0.6"
      ]
     },
     "execution_count": 6,
     "metadata": {},
     "output_type": "execute_result"
    }
   ],
   "source": [
    "# Set a privacy budget accountant\n",
    "accountant = BudgetAccountant(10000)\n",
    "\n",
    "# Set sensitivity function for numerical data\n",
    "sensitivity = lambda x: (max(x) - min(x))/ (len(x) + 1)\n",
    "\n",
    "# Set laplace mechanism with epsilon, sensitivity, and accountant\n",
    "laplace = LaplaceMechanism(epsilon=0.1, sensitivity=sensitivity, accountant=accountant)\n",
    "\n",
    "# Initialize scaler and naive bayes extimator\n",
    "scaler = StandardScaler()\n",
    "nb = GaussianNB()\n",
    "\n",
    "# Create the pipeline\n",
    "pipe = Pipeline([('scaler', scaler), ('laplace', laplace), ('nb', nb)])\n",
    "\n",
    "# Train Naive Bayes model with Local DP\n",
    "pipe.fit(X_train, y_train)\n",
    "\n",
    "# Get model score\n",
    "pipe.score(X_test, y_test)"
   ]
  },
  {
   "cell_type": "markdown",
   "id": "ed11410c",
   "metadata": {},
   "source": [
    "## Categorical Feature Support"
   ]
  },
  {
   "cell_type": "code",
   "execution_count": 7,
   "id": "e5159900",
   "metadata": {},
   "outputs": [
    {
     "data": {
      "text/plain": [
       "0.48"
      ]
     },
     "execution_count": 7,
     "metadata": {},
     "output_type": "execute_result"
    }
   ],
   "source": [
    "import random\n",
    "\n",
    "# Helper function to inject nominal value to dataset\n",
    "def create_cat_data(idxs, X, cat_data = [0,1, 2, 3, 4, 5]):\n",
    "    \n",
    "    X = X.copy()\n",
    "    \n",
    "    for idx in idxs:\n",
    "        for i in range(len(X[:,idx])):\n",
    "            num = random.choice(cat_data)\n",
    "            X[i,idx] = num\n",
    "        \n",
    "    return X\n",
    "\n",
    "# DUMMY DATASET\n",
    "\n",
    "# Create random dataset\n",
    "X, y = make_classification(random_state=0)\n",
    "\n",
    "# Indecies for caegorical data\n",
    "cat_feat_idxs = [0, 19]\n",
    "\n",
    "# Inject nominal data\n",
    "X = create_cat_data(cat_feat_idxs, X)\n",
    "\n",
    "# Split training test set\n",
    "X_train, X_test, y_train, y_test = train_test_split(X, y,\n",
    "                                                    random_state=0)\n",
    "\n",
    "# Sensitivity function for numeric features\n",
    "calculate_sensitivity = lambda x: (max(x) - min(x))/ (len(x) + 1)\n",
    "\n",
    "# Sensitivity function for categorical features\n",
    "calculate_sensitivity_cat = lambda x: abs(sum(x)/len(x))\n",
    "\n",
    "# Set laplace mechanism with categoical support\n",
    "laplace = LaplaceMechanism(\n",
    "    epsilon=0.1, \n",
    "    sensitivity=calculate_sensitivity,\n",
    "    cat_sensitivity=calculate_sensitivity_cat,\n",
    "    cat_feat_idxs=cat_feat_idxs\n",
    ")\n",
    "\n",
    "# Initialize scaler and naive bayes extimator\n",
    "scaler = StandardScaler()\n",
    "nb = GaussianNB()\n",
    "\n",
    "# Create the pipeline\n",
    "pipe = Pipeline([('scaler', scaler), ('laplace', laplace), ('nb', nb)])\n",
    "\n",
    "# Train Naive Bayes model with Local DP\n",
    "pipe.fit(X_train, y_train)\n",
    "\n",
    "# Get model score\n",
    "pipe.score(X_test, y_test)"
   ]
  },
  {
   "cell_type": "code",
   "execution_count": null,
   "id": "dce26029",
   "metadata": {},
   "outputs": [],
   "source": []
  }
 ],
 "metadata": {
  "kernelspec": {
   "display_name": "Python 3",
   "language": "python",
   "name": "python3"
  },
  "language_info": {
   "codemirror_mode": {
    "name": "ipython",
    "version": 3
   },
   "file_extension": ".py",
   "mimetype": "text/x-python",
   "name": "python",
   "nbconvert_exporter": "python",
   "pygments_lexer": "ipython3",
   "version": "3.8.0"
  }
 },
 "nbformat": 4,
 "nbformat_minor": 5
}
