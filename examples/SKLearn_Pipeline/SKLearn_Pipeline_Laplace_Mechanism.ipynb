{
 "cells": [
  {
   "cell_type": "code",
   "execution_count": 1,
   "id": "55e5c01a",
   "metadata": {},
   "outputs": [],
   "source": [
    "from sklearn.naive_bayes import GaussianNB\n",
    "from sklearn.preprocessing import StandardScaler\n",
    "from sklearn.datasets import make_classification\n",
    "from sklearn.model_selection import train_test_split\n",
    "from sklearn.pipeline import Pipeline\n",
    "\n",
    "from pydp.ml.mechanisms.sklearn_pipeline import LaplaceMechanism\n",
    "from pydp.ml.util.accountant import BudgetAccountant"
   ]
  },
  {
   "cell_type": "code",
   "execution_count": 5,
   "id": "3a391b28",
   "metadata": {},
   "outputs": [],
   "source": [
    "# DUMMY DATASET\n",
    "\n",
    "# Create random dataset\n",
    "X, y = make_classification(random_state=0)\n",
    "\n",
    "# Split training test set\n",
    "X_train, X_test, y_train, y_test = train_test_split(X, y,\n",
    "                                                    random_state=0)"
   ]
  },
  {
   "cell_type": "markdown",
   "id": "5565f980",
   "metadata": {},
   "source": [
    "## Simple Sklearn Pipeline Example with Laplace Mechanism"
   ]
  },
  {
   "cell_type": "code",
   "execution_count": 4,
   "id": "71ca131d",
   "metadata": {},
   "outputs": [
    {
     "data": {
      "text/plain": [
       "0.48"
      ]
     },
     "execution_count": 4,
     "metadata": {},
     "output_type": "execute_result"
    }
   ],
   "source": [
    "# Create the pipeline\n",
    "pipe = Pipeline([\n",
    "    ('scaler', StandardScaler()),\n",
    "    ('laplace', LaplaceMechanism()), \n",
    "    ('nb', GaussianNB())\n",
    "])\n",
    "\n",
    "# Train Naive Bayes model with Local DP\n",
    "pipe.fit(X_train, y_train)\n",
    "\n",
    "# Get model score\n",
    "pipe.score(X_test, y_test)"
   ]
  },
  {
   "cell_type": "markdown",
   "id": "2b0e6ad6",
   "metadata": {},
   "source": [
    "## Configuring Epsilon and Sensitivity Params"
   ]
  },
  {
   "cell_type": "code",
   "execution_count": 6,
   "id": "46d88b53",
   "metadata": {},
   "outputs": [
    {
     "data": {
      "text/plain": [
       "0.52"
      ]
     },
     "execution_count": 6,
     "metadata": {},
     "output_type": "execute_result"
    }
   ],
   "source": [
    "# Set laplace mechanism with epsilon 0.1 and sensitivity .5\n",
    "laplace = LaplaceMechanism(epsilon=0.1, sensitivity=0.5)\n",
    "\n",
    "# Initialize scaler and naive bayes extimator\n",
    "scaler = StandardScaler()\n",
    "nb = GaussianNB()\n",
    "\n",
    "# Create the pipeline\n",
    "pipe = Pipeline([('scaler', scaler), ('laplace', laplace), ('nb', nb)])\n",
    "\n",
    "# Train Naive Bayes model with Local DP\n",
    "pipe.fit(X_train, y_train)\n",
    "\n",
    "# Get model score\n",
    "pipe.score(X_test, y_test)"
   ]
  },
  {
   "cell_type": "markdown",
   "id": "3bcf8008",
   "metadata": {},
   "source": [
    "## Sensitivty as Function instead of Number"
   ]
  },
  {
   "cell_type": "code",
   "execution_count": 7,
   "id": "93af586e",
   "metadata": {},
   "outputs": [
    {
     "data": {
      "text/plain": [
       "0.64"
      ]
     },
     "execution_count": 7,
     "metadata": {},
     "output_type": "execute_result"
    }
   ],
   "source": [
    "# Set sensitivity function for numerical data\n",
    "sensitivity = lambda x: (max(x) - min(x))/ (len(x) + 1)\n",
    "\n",
    "# Set laplace mechanism with epsilon 0.1 and sensitivity is function\n",
    "laplace = LaplaceMechanism(epsilon=0.1, sensitivity=sensitivity)\n",
    "\n",
    "# Initialize scaler and naive bayes extimator\n",
    "scaler = StandardScaler()\n",
    "nb = GaussianNB()\n",
    "\n",
    "# Create the pipeline\n",
    "pipe = Pipeline([('scaler', scaler), ('laplace', laplace), ('nb', nb)])\n",
    "\n",
    "# Train Naive Bayes model with Local DP\n",
    "pipe.fit(X_train, y_train)\n",
    "\n",
    "# Get model score\n",
    "pipe.score(X_test, y_test)"
   ]
  },
  {
   "cell_type": "markdown",
   "id": "5481e584",
   "metadata": {},
   "source": [
    "## Budget Accountant"
   ]
  },
  {
   "cell_type": "code",
   "execution_count": 8,
   "id": "eda5ef9c",
   "metadata": {},
   "outputs": [
    {
     "data": {
      "text/plain": [
       "0.36"
      ]
     },
     "execution_count": 8,
     "metadata": {},
     "output_type": "execute_result"
    }
   ],
   "source": [
    "# Set a privacy budget accountant\n",
    "accountant = BudgetAccountant(10000)\n",
    "\n",
    "# Set sensitivity function for numerical data\n",
    "sensitivity = lambda x: (max(x) - min(x))/ (len(x) + 1)\n",
    "\n",
    "# Set laplace mechanism with epsilon, sensitivity, and accountant\n",
    "laplace = LaplaceMechanism(epsilon=0.1, sensitivity=sensitivity, accountant=accountant)\n",
    "\n",
    "# Initialize scaler and naive bayes extimator\n",
    "scaler = StandardScaler()\n",
    "nb = GaussianNB()\n",
    "\n",
    "# Create the pipeline\n",
    "pipe = Pipeline([('scaler', scaler), ('laplace', laplace), ('nb', nb)])\n",
    "\n",
    "# Train Naive Bayes model with Local DP\n",
    "pipe.fit(X_train, y_train)\n",
    "\n",
    "# Get model score\n",
    "pipe.score(X_test, y_test)"
   ]
  },
  {
   "cell_type": "code",
   "execution_count": null,
   "id": "fdb818d4",
   "metadata": {},
   "outputs": [],
   "source": []
  }
 ],
 "metadata": {
  "kernelspec": {
   "display_name": "Python 3",
   "language": "python",
   "name": "python3"
  },
  "language_info": {
   "codemirror_mode": {
    "name": "ipython",
    "version": 3
   },
   "file_extension": ".py",
   "mimetype": "text/x-python",
   "name": "python",
   "nbconvert_exporter": "python",
   "pygments_lexer": "ipython3",
   "version": "3.8.0"
  }
 },
 "nbformat": 4,
 "nbformat_minor": 5
}
