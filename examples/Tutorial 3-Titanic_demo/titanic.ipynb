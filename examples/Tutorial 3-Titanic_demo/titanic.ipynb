{
 "metadata": {
  "language_info": {
   "codemirror_mode": {
    "name": "ipython",
    "version": 3
   },
   "file_extension": ".py",
   "mimetype": "text/x-python",
   "name": "python",
   "nbconvert_exporter": "python",
   "pygments_lexer": "ipython3",
   "version": 3
  },
  "orig_nbformat": 2
 },
 "nbformat": 4,
 "nbformat_minor": 2,
 "cells": [
  {
   "cell_type": "markdown",
   "metadata": {},
   "source": [
    "\n",
    "## 1.3 Applying PyDP to famous ML dataset\n",
    "\n",
    "The PyDP package provides a Python API into [Google's Differential Privacy library](https://github.com/google/differential-privacy). This example uses the alpha 0.4 version of the package that has the following limitations:\n",
    "\n"
   ]
  },
  {
   "cell_type": "markdown",
   "metadata": {},
   "source": [
    "The sinking of the Titanic is one of the most infamous shipwrecks in history.\n",
    "\n",
    "On April 15, 1912, during her maiden voyage, the widely considered “unsinkable” RMS Titanic sank after colliding with an iceberg. Unfortunately, there weren’t enough lifeboats for everyone onboard, resulting in the death of 1502 out of 2224 passengers and crew.\n",
    "\n",
    "While there was some element of luck involved in surviving, it seems some groups of people were more likely to survive than others.\n",
    "\n"
   ]
  },
  {
   "cell_type": "markdown",
   "metadata": {},
   "source": [
    "### [Titanic Dataset Challenge](https://www.kaggle.com/c/titanic/overview):\n",
    "\n",
    "We ask you to build a predictive model that answers the question: “what sorts of people were more likely to survive?” using passenger data (ie name, age, gender, socio-economic class, etc).\n",
    "\n",
    "### Bias in 2020\n",
    "\n",
    "Its 2020 and we have realized that there are inherent bias in our beliefs and system and moving forward, we need to remove these bias. To solve this, we decided, why not to formulate the most common ML dataset in a more responsible manner. Can we use the technology at hand to solve this?\n",
    "\n",
    "### Enter Differential Privacy\n",
    "\n",
    "Using DP, we aim to reduce such bias in the system and we want all passengers to give an equal chance of survival. \n",
    "\n",
    "Consider a scenraio where there is a ship near the accident site but depending on the demographic of people in Titanic, it would decide whether it will do a rescue operation or not. \n",
    "\n",
    "Now you have the passenger Manifesto in your hand the nearby ship can ask you few statistical questions before it can make a decision. So it as\n",
    "Now the passengers of Titanic decide that they will use DP to \n"
   ]
  },
  {
   "cell_type": "markdown",
   "metadata": {},
   "source": [
    "### Q1. What is the average age of passengers:\n",
    "-> mean of age"
   ]
  },
  {
   "cell_type": "markdown",
   "metadata": {},
   "source": [
    "### Q2: How many Total passengners are on this ship?\n",
    "-> count above()"
   ]
  },
  {
   "cell_type": "markdown",
   "metadata": {},
   "source": [
    "### Q3: What is the age of the yongest passenger on the ship?\n",
    "-> min()"
   ]
  },
  {
   "cell_type": "markdown",
   "metadata": {},
   "source": [
    "### Q4: What is the age of the oldest passenger on the ship?\n",
    "-> max()"
   ]
  },
  {
   "cell_type": "markdown",
   "metadata": {},
   "source": [
    "### Q5: What is the average fare of the passengers?"
   ]
  },
  {
   "cell_type": "markdown",
   "metadata": {},
   "source": [
    "Consider the scenario that after the Tradegy, you are doing the data analysis for the local newspaper on the people who have survived. We divide the data into two bins, survived and not-survived. \n",
    "\n",
    "In the surived subset:"
   ]
  },
  {
   "cell_type": "markdown",
   "metadata": {},
   "source": [
    "### Q6 we want to find mean of fare they paid"
   ]
  },
  {
   "cell_type": "markdown",
   "metadata": {},
   "source": [
    "### Q7 we want to find deviation of fare they paid"
   ]
  }
 ]
}