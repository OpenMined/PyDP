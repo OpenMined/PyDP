{
 "cells": [
  {
   "cell_type": "markdown",
   "metadata": {
    "colab_type": "text",
    "id": "Sixdp-cB5JuE"
   },
   "source": [
    "\n",
    "## 1.3 Applying PyDP to famous ML dataset\n",
    "\n",
    "The PyDP package provides a Python API into [Google's Differential Privacy library](https://github.com/google/differential-privacy). This example uses the alpha 0.1.7 version of the package that has the following limitations:\n",
    "\n"
   ]
  },
  {
   "cell_type": "markdown",
   "metadata": {
    "colab_type": "text",
    "id": "CtdnC8Ly5JuJ"
   },
   "source": [
    "The sinking of the Titanic is one of the most infamous shipwrecks in history.\n",
    "\n",
    "On April 15, 1912, during her maiden voyage, the widely considered “unsinkable” RMS Titanic sank after colliding with an iceberg. Unfortunately, there weren’t enough lifeboats for everyone onboard, resulting in the death of 1502 out of 2224 passengers and crew.\n",
    "\n",
    "While there was some element of luck involved in surviving, it seems some groups of people were more likely to survive than others.\n",
    "\n"
   ]
  },
  {
   "cell_type": "markdown",
   "metadata": {
    "colab_type": "text",
    "id": "VfrNxQz25JuL"
   },
   "source": [
    "### [Titanic Dataset Challenge](https://www.kaggle.com/c/titanic/overview):\n",
    "\n",
    "We ask you to build a predictive model that answers the question: “what sorts of people were more likely to survive?” using passenger data (ie name, age, gender, socio-economic class, etc).\n",
    "\n",
    "### Bias in 2020\n",
    "\n",
    "Its 2020 and we have realized that there are inherent bias in our beliefs and system and moving forward, we need to remove these bias. To solve this, we decided, why not to formulate the most common ML dataset in a more responsible manner. Can we use the technology at hand to solve this?\n",
    "\n",
    "### Enter Differential Privacy\n",
    "\n",
    "Using DP, we aim to reduce such bias in the system and we want all passengers to give an equal chance of survival. \n",
    "\n",
    "Consider a scenario where there is a ship near the accident site but depending on the demographic of people in Titanic, it would decide whether it will do a rescue operation or not. \n",
    "\n",
    "Now you have the passenger Manifesto in your hand the nearby ship can ask you few statistical questions before it can make a decision. So it as\n",
    "Now the passengers of Titanic decide that they will use DP to \n"
   ]
  },
  {
   "cell_type": "code",
   "execution_count": 3,
   "metadata": {
    "colab": {
     "base_uri": "https://localhost:8080/",
     "height": 124
    },
    "colab_type": "code",
    "id": "21lShzsd83XF",
    "outputId": "921ffc8a-1bec-4e5a-8f15-a2a7ec245693"
   },
   "outputs": [
    {
     "name": "stdout",
     "output_type": "stream",
     "text": [
      "Collecting python-dp\n",
      "\u001b[?25l  Downloading https://files.pythonhosted.org/packages/91/7e/aba588a3b69ca0ccd0bf73deac11ea17c2114041f15dac92f8698decca00/python_dp-0.1.7-cp36-cp36m-manylinux1_x86_64.whl (2.8MB)\n",
      "\u001b[K     |████████████████████████████████| 2.8MB 1.4MB/s \n",
      "\u001b[?25hInstalling collected packages: python-dp\n",
      "Successfully installed python-dp-0.1.7\n"
     ]
    }
   ],
   "source": [
    "# Install the PyDP package\n",
    "! pip install python-dp"
   ]
  },
  {
   "cell_type": "code",
   "execution_count": 52,
   "metadata": {
    "colab": {},
    "colab_type": "code",
    "id": "H08wa3hm8vJ0"
   },
   "outputs": [],
   "source": [
    "import pydp as dp # by convention our package is to be imported as dp (for Differential Privacy!)\n",
    "from pydp.algorithms.laplacian import BoundedSum, BoundedMean, Count, Max, Min\n",
    "import pandas as pd\n",
    "import statistics # for calculating mean without applying differential privacy"
   ]
  },
  {
   "cell_type": "code",
   "execution_count": 97,
   "metadata": {
    "colab": {},
    "colab_type": "code",
    "id": "vP_4JbyZN5SR"
   },
   "outputs": [],
   "source": [
    "import numpy as np\n",
    "import seaborn as sns\n",
    "import matplotlib.pyplot as plt"
   ]
  },
  {
   "cell_type": "code",
   "execution_count": 5,
   "metadata": {
    "colab": {
     "base_uri": "https://localhost:8080/",
     "height": 259
    },
    "colab_type": "code",
    "id": "JQAgbYug7jiP",
    "outputId": "096aa09b-3bc2-4346-b3f7-f92ffce3e745"
   },
   "outputs": [
    {
     "data": {
      "text/html": [
       "<div>\n",
       "<style scoped>\n",
       "    .dataframe tbody tr th:only-of-type {\n",
       "        vertical-align: middle;\n",
       "    }\n",
       "\n",
       "    .dataframe tbody tr th {\n",
       "        vertical-align: top;\n",
       "    }\n",
       "\n",
       "    .dataframe thead th {\n",
       "        text-align: right;\n",
       "    }\n",
       "</style>\n",
       "<table border=\"1\" class=\"dataframe\">\n",
       "  <thead>\n",
       "    <tr style=\"text-align: right;\">\n",
       "      <th></th>\n",
       "      <th>Age</th>\n",
       "      <th>Cabin</th>\n",
       "      <th>Embarked</th>\n",
       "      <th>Fare</th>\n",
       "      <th>Name</th>\n",
       "      <th>Parch</th>\n",
       "      <th>PassengerId</th>\n",
       "      <th>Pclass</th>\n",
       "      <th>Sex</th>\n",
       "      <th>SibSp</th>\n",
       "      <th>Survived</th>\n",
       "      <th>Ticket</th>\n",
       "      <th>Title</th>\n",
       "      <th>Family_Size</th>\n",
       "    </tr>\n",
       "  </thead>\n",
       "  <tbody>\n",
       "    <tr>\n",
       "      <th>0</th>\n",
       "      <td>22.0</td>\n",
       "      <td>NaN</td>\n",
       "      <td>S</td>\n",
       "      <td>7.2500</td>\n",
       "      <td>Braund, Mr. Owen Harris</td>\n",
       "      <td>0</td>\n",
       "      <td>1</td>\n",
       "      <td>3</td>\n",
       "      <td>male</td>\n",
       "      <td>1</td>\n",
       "      <td>0.0</td>\n",
       "      <td>A/5 21171</td>\n",
       "      <td>Mr</td>\n",
       "      <td>1</td>\n",
       "    </tr>\n",
       "    <tr>\n",
       "      <th>1</th>\n",
       "      <td>38.0</td>\n",
       "      <td>C85</td>\n",
       "      <td>C</td>\n",
       "      <td>71.2833</td>\n",
       "      <td>Cumings, Mrs. John Bradley (Florence Briggs Th...</td>\n",
       "      <td>0</td>\n",
       "      <td>2</td>\n",
       "      <td>1</td>\n",
       "      <td>female</td>\n",
       "      <td>1</td>\n",
       "      <td>1.0</td>\n",
       "      <td>PC 17599</td>\n",
       "      <td>Mrs</td>\n",
       "      <td>1</td>\n",
       "    </tr>\n",
       "    <tr>\n",
       "      <th>2</th>\n",
       "      <td>26.0</td>\n",
       "      <td>NaN</td>\n",
       "      <td>S</td>\n",
       "      <td>7.9250</td>\n",
       "      <td>Heikkinen, Miss. Laina</td>\n",
       "      <td>0</td>\n",
       "      <td>3</td>\n",
       "      <td>3</td>\n",
       "      <td>female</td>\n",
       "      <td>0</td>\n",
       "      <td>1.0</td>\n",
       "      <td>STON/O2. 3101282</td>\n",
       "      <td>Miss</td>\n",
       "      <td>0</td>\n",
       "    </tr>\n",
       "    <tr>\n",
       "      <th>3</th>\n",
       "      <td>35.0</td>\n",
       "      <td>C123</td>\n",
       "      <td>S</td>\n",
       "      <td>53.1000</td>\n",
       "      <td>Futrelle, Mrs. Jacques Heath (Lily May Peel)</td>\n",
       "      <td>0</td>\n",
       "      <td>4</td>\n",
       "      <td>1</td>\n",
       "      <td>female</td>\n",
       "      <td>1</td>\n",
       "      <td>1.0</td>\n",
       "      <td>113803</td>\n",
       "      <td>Mrs</td>\n",
       "      <td>1</td>\n",
       "    </tr>\n",
       "    <tr>\n",
       "      <th>4</th>\n",
       "      <td>35.0</td>\n",
       "      <td>NaN</td>\n",
       "      <td>S</td>\n",
       "      <td>8.0500</td>\n",
       "      <td>Allen, Mr. William Henry</td>\n",
       "      <td>0</td>\n",
       "      <td>5</td>\n",
       "      <td>3</td>\n",
       "      <td>male</td>\n",
       "      <td>0</td>\n",
       "      <td>0.0</td>\n",
       "      <td>373450</td>\n",
       "      <td>Mr</td>\n",
       "      <td>0</td>\n",
       "    </tr>\n",
       "  </tbody>\n",
       "</table>\n",
       "</div>"
      ],
      "text/plain": [
       "    Age Cabin Embarked     Fare  ... Survived            Ticket  Title  Family_Size\n",
       "0  22.0   NaN        S   7.2500  ...      0.0         A/5 21171     Mr            1\n",
       "1  38.0   C85        C  71.2833  ...      1.0          PC 17599    Mrs            1\n",
       "2  26.0   NaN        S   7.9250  ...      1.0  STON/O2. 3101282   Miss            0\n",
       "3  35.0  C123        S  53.1000  ...      1.0            113803    Mrs            1\n",
       "4  35.0   NaN        S   8.0500  ...      0.0            373450     Mr            0\n",
       "\n",
       "[5 rows x 14 columns]"
      ]
     },
     "execution_count": 5,
     "metadata": {
      "tags": []
     },
     "output_type": "execute_result"
    }
   ],
   "source": [
    "# get the cleaned dataset from our public github repo\n",
    "url = 'https://raw.githubusercontent.com/chinmayshah99/PyDP/demo/titanic/examples/Tutorial%203-Titanic_demo/titanic_clean.csv'\n",
    "df = pd.read_csv(url,sep=\",\", index_col=0)\n",
    "df.head()"
   ]
  },
  {
   "cell_type": "markdown",
   "metadata": {
    "colab_type": "text",
    "id": "lNS_hytE5JuS"
   },
   "source": [
    "### Q1. What is the average age of passengers:"
   ]
  },
  {
   "cell_type": "code",
   "execution_count": 13,
   "metadata": {
    "colab": {},
    "colab_type": "code",
    "id": "KXCZTc4J9CPC"
   },
   "outputs": [],
   "source": [
    "# calculates passenger age mean without applying differential privacy\n",
    "def mean_age() -> float:\n",
    "        return statistics.mean(list(df[\"Age\"]))"
   ]
  },
  {
   "cell_type": "code",
   "execution_count": 61,
   "metadata": {
    "colab": {},
    "colab_type": "code",
    "id": "tFhpBq_39dvH"
   },
   "outputs": [],
   "source": [
    "# calculates passenger age mean applying differential privacy\n",
    "def private_mean(privacy_budget: float) -> float:\n",
    "        x = BoundedMean(privacy_budget, dtype=\"float\")\n",
    "        return x.quick_result(list(df[\"Age\"]))"
   ]
  },
  {
   "cell_type": "code",
   "execution_count": 62,
   "metadata": {
    "colab": {
     "base_uri": "https://localhost:8080/",
     "height": 52
    },
    "colab_type": "code",
    "id": "4momFHrh9jjt",
    "outputId": "44068f57-0a0d-4056-c1f8-42cba1f6ee47"
   },
   "outputs": [
    {
     "name": "stdout",
     "output_type": "stream",
     "text": [
      "Mean:  29.445196408529743\n",
      "Private Mean:  30.61579266512488\n"
     ]
    }
   ],
   "source": [
    "print(\"Mean: \", mean_age())\n",
    "print(\"Private Mean: \", private_mean(0.8))"
   ]
  },
  {
   "cell_type": "markdown",
   "metadata": {
    "colab_type": "text",
    "id": "rfWXqrPt5JuW"
   },
   "source": [
    "### Q2: How many Total passengners are on this ship?"
   ]
  },
  {
   "cell_type": "code",
   "execution_count": 26,
   "metadata": {
    "colab": {},
    "colab_type": "code",
    "id": "7X_24PIwAJIu"
   },
   "outputs": [],
   "source": [
    "# Function to calculate sum of carrots eaten without applying differential privacy.\n",
    "def sum_passengers() -> int:\n",
    "    return df.sum()[0]"
   ]
  },
  {
   "cell_type": "code",
   "execution_count": 21,
   "metadata": {
    "colab": {},
    "colab_type": "code",
    "id": "gt3JqinbAODU"
   },
   "outputs": [],
   "source": [
    "# Function to calculate sum of carrots eaten applying differential privacy.\n",
    "def private_sum(privacy_budget: float) -> int:\n",
    "    x = BoundedSum(privacy_budget, dtype=\"float\")\n",
    "    return x.quick_result(list(df[\"Age\"]))"
   ]
  },
  {
   "cell_type": "code",
   "execution_count": 22,
   "metadata": {
    "colab": {
     "base_uri": "https://localhost:8080/",
     "height": 52
    },
    "colab_type": "code",
    "id": "gxdTVgKQARux",
    "outputId": "3a788bb0-2d24-4ac3-b0a6-c620ed728825"
   },
   "outputs": [
    {
     "name": "stdout",
     "output_type": "stream",
     "text": [
      "Sum:\t26235.67\n",
      "Private Sum:\t26271.465520165162\n"
     ]
    }
   ],
   "source": [
    "print(\"Sum:\\t\" + str(sum_passengers()))\n",
    "print(\"Private Sum:\\t\" + str(private_sum(1)))"
   ]
  },
  {
   "cell_type": "markdown",
   "metadata": {
    "colab_type": "text",
    "id": "xOa-mYPo5Jua"
   },
   "source": [
    "### Q3: What is the age of the youngest passenger on the ship?"
   ]
  },
  {
   "cell_type": "code",
   "execution_count": 58,
   "metadata": {
    "colab": {},
    "colab_type": "code",
    "id": "-OdeoQvlFisV"
   },
   "outputs": [],
   "source": [
    "# Function to return the minimum of the passengers age without appyling differential privacy.\n",
    "def min_age() -> int:\n",
    "    return df.min()[0]"
   ]
  },
  {
   "cell_type": "code",
   "execution_count": 59,
   "metadata": {
    "colab": {},
    "colab_type": "code",
    "id": "P8LNkz-LHrcU"
   },
   "outputs": [],
   "source": [
    "# Function to return the minimum of the passengers age appyling differential privacy.\n",
    "def private_min(privacy_budget: float) -> float:\n",
    "    # 0 and 150 are the upper and lower limits for the search bound.\n",
    "    x = Min(privacy_budget, 0, 150, dtype=\"float\")\n",
    "    return x.quick_result(list(df[\"Age\"]))"
   ]
  },
  {
   "cell_type": "code",
   "execution_count": 60,
   "metadata": {
    "colab": {
     "base_uri": "https://localhost:8080/",
     "height": 52
    },
    "colab_type": "code",
    "id": "2GJgjf6NF4cx",
    "outputId": "9d716f6d-c858-4776-f6e5-40e83d96ca77"
   },
   "outputs": [
    {
     "name": "stdout",
     "output_type": "stream",
     "text": [
      "Min:\t0.42\n",
      "Private Min:\t4.5462177316125265\n"
     ]
    }
   ],
   "source": [
    "print(\"Min:\\t\" + str(min_age()))\n",
    "print(\"Private Min:\\t\" + str(private_min(1)))"
   ]
  },
  {
   "cell_type": "markdown",
   "metadata": {
    "colab_type": "text",
    "id": "Mzu43yaF5Jud"
   },
   "source": [
    "### Q4: What is the age of the oldest passenger on the ship?"
   ]
  },
  {
   "cell_type": "code",
   "execution_count": 73,
   "metadata": {
    "colab": {},
    "colab_type": "code",
    "id": "nn8K4fa_J3Te"
   },
   "outputs": [],
   "source": [
    "# Function to return the minimum of the passengers age without appyling differential privacy.\n",
    "def max_age() -> int:\n",
    "    return df.max()[0]"
   ]
  },
  {
   "cell_type": "code",
   "execution_count": 74,
   "metadata": {
    "colab": {},
    "colab_type": "code",
    "id": "qM0PawIkJ9SZ"
   },
   "outputs": [],
   "source": [
    "# Function to return the minimum of the passengers age appyling differential privacy.\n",
    "def private_max(privacy_budget: float) -> float:\n",
    "    # 0 and 150 are the upper and lower limits for the search bound.\n",
    "    x = Max(privacy_budget, 0, 150, dtype=\"float\")\n",
    "    return x.quick_result(list(df[\"Age\"]))"
   ]
  },
  {
   "cell_type": "code",
   "execution_count": 76,
   "metadata": {
    "colab": {
     "base_uri": "https://localhost:8080/",
     "height": 52
    },
    "colab_type": "code",
    "id": "wus3PE1gKAzs",
    "outputId": "0706c5cb-ed60-4357-98b5-1c8f3ded4ad8"
   },
   "outputs": [
    {
     "name": "stdout",
     "output_type": "stream",
     "text": [
      "Max:\t80.0\n",
      "Private Max:\t56.23612229638035\n"
     ]
    }
   ],
   "source": [
    "print(\"Max:\\t\" + str(max_age()))\n",
    "print(\"Private Max:\\t\" + str(private_max(1)))"
   ]
  },
  {
   "cell_type": "markdown",
   "metadata": {
    "colab_type": "text",
    "id": "4VJqRP-pFRwb"
   },
   "source": [
    "### How many passengers are older than a certain age?"
   ]
  },
  {
   "cell_type": "code",
   "execution_count": 66,
   "metadata": {
    "colab": {},
    "colab_type": "code",
    "id": "SVMY3Hy7Clrk"
   },
   "outputs": [],
   "source": [
    "# Calculates number of passengers which age is more than \"limit\" age without applying differential privacy.\n",
    "def count_above(limit: int) -> int:\n",
    "    return df[df.Age > limit].count()[0]"
   ]
  },
  {
   "cell_type": "code",
   "execution_count": 69,
   "metadata": {
    "colab": {},
    "colab_type": "code",
    "id": "szxUCjn3BoF2"
   },
   "outputs": [],
   "source": [
    "# Calculates number of passengers which age is more than \"limit\" age applying differential privacy.\n",
    "def private_count_above(privacy_budget: float, limit: int) -> int:\n",
    "    x = Count(privacy_budget, dtype=\"float\")\n",
    "    return x.quick_result(list(df[df.Age > limit][\"Age\"]))"
   ]
  },
  {
   "cell_type": "code",
   "execution_count": 72,
   "metadata": {
    "colab": {
     "base_uri": "https://localhost:8080/",
     "height": 52
    },
    "colab_type": "code",
    "id": "rdb9-tSZCb4o",
    "outputId": "e5f3e37b-467e-4342-a8e6-6024cc88baf0"
   },
   "outputs": [
    {
     "name": "stdout",
     "output_type": "stream",
     "text": [
      "Above 70:\t5\n",
      "private count above:\t6\n"
     ]
    }
   ],
   "source": [
    "print(\"Above 70:\\t\" + str(count_above(70)))\n",
    "print(\"private count above:\\t\" + str(private_count_above(1, 70)))"
   ]
  },
  {
   "cell_type": "markdown",
   "metadata": {
    "colab_type": "text",
    "id": "0QucKsqtKZOc"
   },
   "source": [
    "### How many passengers are younger than a certain age?"
   ]
  },
  {
   "cell_type": "code",
   "execution_count": 90,
   "metadata": {
    "colab": {},
    "colab_type": "code",
    "id": "CTFKjvRGKfYO"
   },
   "outputs": [],
   "source": [
    "# Calculates number of passengers which age is less than \"limit\" age without applying differential privacy.\n",
    "def count_below(limit: int) -> int:\n",
    "    return df[df.Age < limit].count()[0]"
   ]
  },
  {
   "cell_type": "code",
   "execution_count": 91,
   "metadata": {
    "colab": {},
    "colab_type": "code",
    "id": "dnSqbhkzKhWH"
   },
   "outputs": [],
   "source": [
    "# Calculates number of passengers which age is less than \"limit\" age applying differential privacy.\n",
    "def private_count_below(privacy_budget: float, limit: int) -> int:\n",
    "    x = Count(privacy_budget, dtype=\"float\")\n",
    "    return x.quick_result(list(df[df.Age < limit][\"Age\"]))"
   ]
  },
  {
   "cell_type": "code",
   "execution_count": 92,
   "metadata": {
    "colab": {
     "base_uri": "https://localhost:8080/",
     "height": 52
    },
    "colab_type": "code",
    "id": "Vseb_F5wKjf7",
    "outputId": "33ca866e-612e-432b-f44c-ea0dccea1211"
   },
   "outputs": [
    {
     "name": "stdout",
     "output_type": "stream",
     "text": [
      "Below 21:\t184\n",
      "private count below:\t183\n"
     ]
    }
   ],
   "source": [
    "print(\"Below 21:\\t\" + str(count_below(21)))\n",
    "print(\"private count below:\\t\" + str(private_count_below(1, 21)))"
   ]
  },
  {
   "cell_type": "markdown",
   "metadata": {
    "colab_type": "text",
    "id": "q8BCQtUg5Juf"
   },
   "source": [
    "### Q5: What is the average fare of the passengers?"
   ]
  },
  {
   "cell_type": "markdown",
   "metadata": {
    "colab_type": "text",
    "id": "MJZXfkDw5Jum"
   },
   "source": [
    "Consider the scenario that after the Tradegy, you are doing the data analysis for the local newspaper on the people who have survived. We divide the data into two bins, survived and not-survived. \n",
    "\n",
    "In the surived subset:"
   ]
  },
  {
   "cell_type": "code",
   "execution_count": 111,
   "metadata": {
    "colab": {
     "base_uri": "https://localhost:8080/",
     "height": 34
    },
    "colab_type": "code",
    "id": "shYzg_sEQTJj",
    "outputId": "5c8133cf-387e-4f21-b0b5-9b5ce56ec985"
   },
   "outputs": [
    {
     "data": {
      "text/plain": [
       "891"
      ]
     },
     "execution_count": 111,
     "metadata": {
      "tags": []
     },
     "output_type": "execute_result"
    }
   ],
   "source": [
    "df.Survived.count()"
   ]
  },
  {
   "cell_type": "code",
   "execution_count": 118,
   "metadata": {
    "colab": {
     "base_uri": "https://localhost:8080/",
     "height": 34
    },
    "colab_type": "code",
    "id": "DebK6Q_yRqEz",
    "outputId": "a6345912-1040-448b-b16e-545217842475"
   },
   "outputs": [
    {
     "data": {
      "text/plain": [
       "342"
      ]
     },
     "execution_count": 118,
     "metadata": {
      "tags": []
     },
     "output_type": "execute_result"
    }
   ],
   "source": [
    "np.sum(df['Survived'] == 1)"
   ]
  },
  {
   "cell_type": "code",
   "execution_count": 119,
   "metadata": {
    "colab": {
     "base_uri": "https://localhost:8080/",
     "height": 34
    },
    "colab_type": "code",
    "id": "TbvL5HtiRvRe",
    "outputId": "0839754c-5804-4703-ab8a-e84bc6220b1d"
   },
   "outputs": [
    {
     "data": {
      "text/plain": [
       "549"
      ]
     },
     "execution_count": 119,
     "metadata": {
      "tags": []
     },
     "output_type": "execute_result"
    }
   ],
   "source": [
    "np.sum(df['Survived'] == 0)"
   ]
  },
  {
   "cell_type": "code",
   "execution_count": 104,
   "metadata": {
    "colab": {
     "base_uri": "https://localhost:8080/",
     "height": 288
    },
    "colab_type": "code",
    "id": "K2IhEHXcQC1w",
    "outputId": "f8216b73-44fd-4371-e3f1-de0c9e8c6489"
   },
   "outputs": [
    {
     "data": {
      "image/png": "[encoded data removed]",
      "text/plain": [
       "<Figure size 432x288 with 1 Axes>"
      ]
     },
     "metadata": {
      "needs_background": "light",
      "tags": []
     },
     "output_type": "display_data"
    }
   ],
   "source": [
    "sns.countplot(x='Survived', data=df, palette='hls', hue='Survived')\n",
    "plt.xticks(rotation=45)\n",
    "plt.show()"
   ]
  },
  {
   "cell_type": "code",
   "execution_count": 100,
   "metadata": {
    "colab": {
     "base_uri": "https://localhost:8080/",
     "height": 288
    },
    "colab_type": "code",
    "id": "Y0igWAC0Oh9-",
    "outputId": "6742bb6b-2e96-444f-ad89-7ef98319f2ce"
   },
   "outputs": [
    {
     "data": {
      "image/png": "[encoded data removed]",
      "text/plain": [
       "<Figure size 432x288 with 1 Axes>"
      ]
     },
     "metadata": {
      "needs_background": "light",
      "tags": []
     },
     "output_type": "display_data"
    }
   ],
   "source": [
    "sns.barplot(x='Survived', y='Fare', data=df, estimator=np.mean, ci=None, palette='Blues_d')\n",
    "plt.xticks(rotation=45)\n",
    "plt.show()"
   ]
  },
  {
   "cell_type": "markdown",
   "metadata": {
    "colab_type": "text",
    "id": "EdIMcmrV5Jup"
   },
   "source": [
    "### Q6 we want to find mean of fare they paid"
   ]
  },
  {
   "cell_type": "markdown",
   "metadata": {
    "colab_type": "text",
    "id": "o1eaRBl05Jus"
   },
   "source": [
    "### Q7 we want to find deviation of fare they paid"
   ]
  }
 ],
 "metadata": {
  "colab": {
   "name": "titanic.ipynb",
   "provenance": [],
   "toc_visible": true
  },
  "kernelspec": {
   "display_name": "Python 3",
   "language": "python",
   "name": "python3"
  },
  "language_info": {
   "codemirror_mode": {
    "name": "ipython",
    "version": 3
   },
   "file_extension": ".py",
   "mimetype": "text/x-python",
   "name": "python",
   "nbconvert_exporter": "python",
   "pygments_lexer": "ipython3",
   "version": "3.6.11"
  }
 },
 "nbformat": 4,
 "nbformat_minor": 1
}
