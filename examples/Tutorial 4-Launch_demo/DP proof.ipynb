{
  "cells": [
    {
      "cell_type": "markdown",
      "metadata": {
        "id": "N8s8-wKjxtQA",
        "colab_type": "text"
      },
      "source": [
        "## 1.4 Demonstration of Differential Privacy using PyDP\n",
        "The PyDP package provides a Python API into Google's Differential Privacy library. This example uses the alpha 1.0 version of the package that has the following limitations:\n",
        "\n",
        "Laplace noise generation technique.\n",
        "\n",
        "Supports only integer and floating point values"
      ]
    },
    {
      "cell_type": "markdown",
      "metadata": {
        "id": "4jVg5GV6OhVX",
        "colab_type": "text"
      },
      "source": [
        "To demonstrate DP, we protect the user from something called Membership Inference Attack(MIA). \n",
        "\n",
        "The idea behing DP is we should **not** be able to identify the identity of an individual user.\n",
        "\n",
        "To prove that, we are going to take a database and create two copies of it such that they differ in only one record. Or exactly one record is absent from the original Database."
      ]
    },
    {
      "cell_type": "markdown",
      "metadata": {
        "id": "thx_3b-lTNun",
        "colab_type": "text"
      },
      "source": [
        "#### The Proof\n",
        "\n",
        "We have generated a synthetic dataset with 5000 records with private information such as name as well as the email of the user. \n",
        "\n",
        "The objective of this notebook is going to be able to demonstrate how DP can protect the user from MIA. \n",
        "\n",
        "In the dataset at hand, we have the Item spent by the user (sales_amount) of each user. So if we take the sum of the sales_amount and compare it with the sum of sales_amount with the DB which has exactly one less record, we should be able to identify which user has spend how much and hence identify the user, which using the help of DP, we can avoid that. "
      ]
    },
    {
      "cell_type": "code",
      "metadata": {
        "id": "wCWzGstiw7Y9",
        "colab_type": "code",
        "colab": {
          "base_uri": "https://localhost:8080/",
          "height": 34
        },
        "outputId": "57fbf9d0-52bf-48ba-feb2-e2d09b21d412"
      },
      "source": [
        "!pip install python-dp # installing PyDP"
      ],
      "execution_count": 1,
      "outputs": [
        {
          "output_type": "stream",
          "text": [
            "Requirement already satisfied: python-dp in /usr/local/lib/python3.6/dist-packages (0.1.7)\n"
          ],
          "name": "stdout"
        }
      ]
    },
    {
      "cell_type": "code",
      "metadata": {
        "id": "3c-nVwj9w-VW",
        "colab_type": "code",
        "colab": {}
      },
      "source": [
        "import pydp as dp # by convention our package is to be imported as dp (for Differential Privacy!)\n",
        "from pydp.algorithms.laplacian import BoundedSum, BoundedMean, Count, Max\n",
        "import pandas as pd\n",
        "import statistics # for calculating mean without applying differential privacy\n"
      ],
      "execution_count": 2,
      "outputs": []
    },
    {
      "cell_type": "markdown",
      "metadata": {
        "id": "f_tO7QHYUWnq",
        "colab_type": "text"
      },
      "source": [
        "### Fetching the Data and loading it! "
      ]
    },
    {
      "cell_type": "code",
      "metadata": {
        "id": "fCPFolUByhhf",
        "colab_type": "code",
        "colab": {
          "base_uri": "https://localhost:8080/",
          "height": 204
        },
        "outputId": "e997fe3a-27a1-4d95-b033-543e3e1238db"
      },
      "source": [
        "# get carrots data from our public github repo\n",
        "url1 = 'https://raw.githubusercontent.com/OpenMined/PyDP/dev/examples/Tutorial%204-Launch_demo/data/01.csv'\n",
        "df1 = pd.read_csv(url1,sep=\",\", engine = \"python\")\n",
        "df1.head()"
      ],
      "execution_count": 3,
      "outputs": [
        {
          "output_type": "execute_result",
          "data": {
            "text/html": [
              "<div>\n",
              "<style scoped>\n",
              "    .dataframe tbody tr th:only-of-type {\n",
              "        vertical-align: middle;\n",
              "    }\n",
              "\n",
              "    .dataframe tbody tr th {\n",
              "        vertical-align: top;\n",
              "    }\n",
              "\n",
              "    .dataframe thead th {\n",
              "        text-align: right;\n",
              "    }\n",
              "</style>\n",
              "<table border=\"1\" class=\"dataframe\">\n",
              "  <thead>\n",
              "    <tr style=\"text-align: right;\">\n",
              "      <th></th>\n",
              "      <th>id</th>\n",
              "      <th>first_name</th>\n",
              "      <th>last_name</th>\n",
              "      <th>email</th>\n",
              "      <th>sales_amount</th>\n",
              "      <th>state</th>\n",
              "    </tr>\n",
              "  </thead>\n",
              "  <tbody>\n",
              "    <tr>\n",
              "      <th>0</th>\n",
              "      <td>1</td>\n",
              "      <td>Osbourne</td>\n",
              "      <td>Gillions</td>\n",
              "      <td>ogillions0@feedburner.com</td>\n",
              "      <td>31.94</td>\n",
              "      <td>Florida</td>\n",
              "    </tr>\n",
              "    <tr>\n",
              "      <th>1</th>\n",
              "      <td>2</td>\n",
              "      <td>Glynn</td>\n",
              "      <td>Friett</td>\n",
              "      <td>gfriett1@blog.com</td>\n",
              "      <td>12.46</td>\n",
              "      <td>California</td>\n",
              "    </tr>\n",
              "    <tr>\n",
              "      <th>2</th>\n",
              "      <td>3</td>\n",
              "      <td>Jori</td>\n",
              "      <td>Blockley</td>\n",
              "      <td>jblockley2@unesco.org</td>\n",
              "      <td>191.14</td>\n",
              "      <td>Colorado</td>\n",
              "    </tr>\n",
              "    <tr>\n",
              "      <th>3</th>\n",
              "      <td>4</td>\n",
              "      <td>Garald</td>\n",
              "      <td>Dorian</td>\n",
              "      <td>gdorian3@webeden.co.uk</td>\n",
              "      <td>126.58</td>\n",
              "      <td>Texas</td>\n",
              "    </tr>\n",
              "    <tr>\n",
              "      <th>4</th>\n",
              "      <td>5</td>\n",
              "      <td>Mercy</td>\n",
              "      <td>Pilkington</td>\n",
              "      <td>mpilkington4@jugem.jp</td>\n",
              "      <td>68.32</td>\n",
              "      <td>Florida</td>\n",
              "    </tr>\n",
              "  </tbody>\n",
              "</table>\n",
              "</div>"
            ],
            "text/plain": [
              "   id first_name  ... sales_amount       state\n",
              "0   1   Osbourne  ...        31.94     Florida\n",
              "1   2      Glynn  ...        12.46  California\n",
              "2   3       Jori  ...       191.14    Colorado\n",
              "3   4     Garald  ...       126.58       Texas\n",
              "4   5      Mercy  ...        68.32     Florida\n",
              "\n",
              "[5 rows x 6 columns]"
            ]
          },
          "metadata": {
            "tags": []
          },
          "execution_count": 3
        }
      ]
    },
    {
      "cell_type": "markdown",
      "metadata": {
        "id": "fmKsASpgNc-L",
        "colab_type": "text"
      },
      "source": [
        ""
      ]
    },
    {
      "cell_type": "code",
      "metadata": {
        "id": "MVoAz3pu0PuT",
        "colab_type": "code",
        "colab": {
          "base_uri": "https://localhost:8080/",
          "height": 204
        },
        "outputId": "589bc3d9-fb8f-4873-98c0-eb94a9f66d90"
      },
      "source": [
        "url2 = 'https://raw.githubusercontent.com/OpenMined/PyDP/dev/examples/Tutorial%204-Launch_demo/data/02.csv'\n",
        "df2 = pd.read_csv(url2,sep=\",\", engine = \"python\")\n",
        "df2.head()"
      ],
      "execution_count": 4,
      "outputs": [
        {
          "output_type": "execute_result",
          "data": {
            "text/html": [
              "<div>\n",
              "<style scoped>\n",
              "    .dataframe tbody tr th:only-of-type {\n",
              "        vertical-align: middle;\n",
              "    }\n",
              "\n",
              "    .dataframe tbody tr th {\n",
              "        vertical-align: top;\n",
              "    }\n",
              "\n",
              "    .dataframe thead th {\n",
              "        text-align: right;\n",
              "    }\n",
              "</style>\n",
              "<table border=\"1\" class=\"dataframe\">\n",
              "  <thead>\n",
              "    <tr style=\"text-align: right;\">\n",
              "      <th></th>\n",
              "      <th>id</th>\n",
              "      <th>first_name</th>\n",
              "      <th>last_name</th>\n",
              "      <th>email</th>\n",
              "      <th>sales_amount</th>\n",
              "      <th>state</th>\n",
              "    </tr>\n",
              "  </thead>\n",
              "  <tbody>\n",
              "    <tr>\n",
              "      <th>0</th>\n",
              "      <td>1</td>\n",
              "      <td>Wallie</td>\n",
              "      <td>Kaman</td>\n",
              "      <td>wkaman0@samsung.com</td>\n",
              "      <td>99.69</td>\n",
              "      <td>Idaho</td>\n",
              "    </tr>\n",
              "    <tr>\n",
              "      <th>1</th>\n",
              "      <td>2</td>\n",
              "      <td>Raynard</td>\n",
              "      <td>Tooby</td>\n",
              "      <td>rtooby1@indiegogo.com</td>\n",
              "      <td>208.61</td>\n",
              "      <td>Texas</td>\n",
              "    </tr>\n",
              "    <tr>\n",
              "      <th>2</th>\n",
              "      <td>3</td>\n",
              "      <td>Mandie</td>\n",
              "      <td>Stallibrass</td>\n",
              "      <td>mstallibrass2@princeton.edu</td>\n",
              "      <td>42.87</td>\n",
              "      <td>Michigan</td>\n",
              "    </tr>\n",
              "    <tr>\n",
              "      <th>3</th>\n",
              "      <td>4</td>\n",
              "      <td>Nonna</td>\n",
              "      <td>Regitz</td>\n",
              "      <td>nregitz3@icq.com</td>\n",
              "      <td>160.94</td>\n",
              "      <td>Iowa</td>\n",
              "    </tr>\n",
              "    <tr>\n",
              "      <th>4</th>\n",
              "      <td>5</td>\n",
              "      <td>Barthel</td>\n",
              "      <td>Cowgill</td>\n",
              "      <td>bcowgill4@tiny.cc</td>\n",
              "      <td>179.88</td>\n",
              "      <td>Ohio</td>\n",
              "    </tr>\n",
              "  </tbody>\n",
              "</table>\n",
              "</div>"
            ],
            "text/plain": [
              "   id first_name  ... sales_amount     state\n",
              "0   1     Wallie  ...        99.69     Idaho\n",
              "1   2    Raynard  ...       208.61     Texas\n",
              "2   3     Mandie  ...        42.87  Michigan\n",
              "3   4      Nonna  ...       160.94      Iowa\n",
              "4   5    Barthel  ...       179.88      Ohio\n",
              "\n",
              "[5 rows x 6 columns]"
            ]
          },
          "metadata": {
            "tags": []
          },
          "execution_count": 4
        }
      ]
    },
    {
      "cell_type": "code",
      "metadata": {
        "id": "Hc_8FNF80i66",
        "colab_type": "code",
        "colab": {
          "base_uri": "https://localhost:8080/",
          "height": 204
        },
        "outputId": "02e8e364-3312-4ab4-a5db-ede8d2440934"
      },
      "source": [
        "url3 = 'https://raw.githubusercontent.com/OpenMined/PyDP/dev/examples/Tutorial%204-Launch_demo/data/03.csv'\n",
        "df3 = pd.read_csv(url3,sep=\",\", engine = \"python\")\n",
        "df3.head()"
      ],
      "execution_count": 5,
      "outputs": [
        {
          "output_type": "execute_result",
          "data": {
            "text/html": [
              "<div>\n",
              "<style scoped>\n",
              "    .dataframe tbody tr th:only-of-type {\n",
              "        vertical-align: middle;\n",
              "    }\n",
              "\n",
              "    .dataframe tbody tr th {\n",
              "        vertical-align: top;\n",
              "    }\n",
              "\n",
              "    .dataframe thead th {\n",
              "        text-align: right;\n",
              "    }\n",
              "</style>\n",
              "<table border=\"1\" class=\"dataframe\">\n",
              "  <thead>\n",
              "    <tr style=\"text-align: right;\">\n",
              "      <th></th>\n",
              "      <th>id</th>\n",
              "      <th>first_name</th>\n",
              "      <th>last_name</th>\n",
              "      <th>email</th>\n",
              "      <th>sales_amount</th>\n",
              "      <th>state</th>\n",
              "    </tr>\n",
              "  </thead>\n",
              "  <tbody>\n",
              "    <tr>\n",
              "      <th>0</th>\n",
              "      <td>1</td>\n",
              "      <td>Tomasina</td>\n",
              "      <td>Marcos</td>\n",
              "      <td>tmarcos0@wix.com</td>\n",
              "      <td>161.38</td>\n",
              "      <td>Indiana</td>\n",
              "    </tr>\n",
              "    <tr>\n",
              "      <th>1</th>\n",
              "      <td>2</td>\n",
              "      <td>Mill</td>\n",
              "      <td>Yitzhak</td>\n",
              "      <td>myitzhak1@barnesandnoble.com</td>\n",
              "      <td>182.22</td>\n",
              "      <td>Florida</td>\n",
              "    </tr>\n",
              "    <tr>\n",
              "      <th>2</th>\n",
              "      <td>3</td>\n",
              "      <td>Hobart</td>\n",
              "      <td>Banaszczyk</td>\n",
              "      <td>hbanaszczyk2@mac.com</td>\n",
              "      <td>41.67</td>\n",
              "      <td>Texas</td>\n",
              "    </tr>\n",
              "    <tr>\n",
              "      <th>3</th>\n",
              "      <td>4</td>\n",
              "      <td>Bonita</td>\n",
              "      <td>Benting</td>\n",
              "      <td>bbenting3@smugmug.com</td>\n",
              "      <td>190.26</td>\n",
              "      <td>Indiana</td>\n",
              "    </tr>\n",
              "    <tr>\n",
              "      <th>4</th>\n",
              "      <td>5</td>\n",
              "      <td>Kasper</td>\n",
              "      <td>Deyes</td>\n",
              "      <td>kdeyes4@storify.com</td>\n",
              "      <td>177.94</td>\n",
              "      <td>Ohio</td>\n",
              "    </tr>\n",
              "  </tbody>\n",
              "</table>\n",
              "</div>"
            ],
            "text/plain": [
              "   id first_name  ... sales_amount    state\n",
              "0   1   Tomasina  ...       161.38  Indiana\n",
              "1   2       Mill  ...       182.22  Florida\n",
              "2   3     Hobart  ...        41.67    Texas\n",
              "3   4     Bonita  ...       190.26  Indiana\n",
              "4   5     Kasper  ...       177.94     Ohio\n",
              "\n",
              "[5 rows x 6 columns]"
            ]
          },
          "metadata": {
            "tags": []
          },
          "execution_count": 5
        }
      ]
    },
    {
      "cell_type": "code",
      "metadata": {
        "id": "C8yXyul36wbg",
        "colab_type": "code",
        "colab": {
          "base_uri": "https://localhost:8080/",
          "height": 204
        },
        "outputId": "630b1dc8-f383-46bf-f9f0-5ceb3c47c7d5"
      },
      "source": [
        "url4 = 'https://raw.githubusercontent.com/OpenMined/PyDP/dev/examples/Tutorial%204-Launch_demo/data/04.csv'\n",
        "df4 = pd.read_csv(url4,sep=\",\", engine = \"python\")\n",
        "df4.head()"
      ],
      "execution_count": 6,
      "outputs": [
        {
          "output_type": "execute_result",
          "data": {
            "text/html": [
              "<div>\n",
              "<style scoped>\n",
              "    .dataframe tbody tr th:only-of-type {\n",
              "        vertical-align: middle;\n",
              "    }\n",
              "\n",
              "    .dataframe tbody tr th {\n",
              "        vertical-align: top;\n",
              "    }\n",
              "\n",
              "    .dataframe thead th {\n",
              "        text-align: right;\n",
              "    }\n",
              "</style>\n",
              "<table border=\"1\" class=\"dataframe\">\n",
              "  <thead>\n",
              "    <tr style=\"text-align: right;\">\n",
              "      <th></th>\n",
              "      <th>id</th>\n",
              "      <th>first_name</th>\n",
              "      <th>last_name</th>\n",
              "      <th>email</th>\n",
              "      <th>sales_amount</th>\n",
              "      <th>state</th>\n",
              "    </tr>\n",
              "  </thead>\n",
              "  <tbody>\n",
              "    <tr>\n",
              "      <th>0</th>\n",
              "      <td>1</td>\n",
              "      <td>Dylan</td>\n",
              "      <td>Mattocks</td>\n",
              "      <td>dmattocks0@elegantthemes.com</td>\n",
              "      <td>141.90</td>\n",
              "      <td>Wisconsin</td>\n",
              "    </tr>\n",
              "    <tr>\n",
              "      <th>1</th>\n",
              "      <td>2</td>\n",
              "      <td>Tully</td>\n",
              "      <td>Pettko</td>\n",
              "      <td>tpettko1@engadget.com</td>\n",
              "      <td>15.09</td>\n",
              "      <td>Missouri</td>\n",
              "    </tr>\n",
              "    <tr>\n",
              "      <th>2</th>\n",
              "      <td>3</td>\n",
              "      <td>Ruy</td>\n",
              "      <td>Rodrigo</td>\n",
              "      <td>rrodrigo2@whitehouse.gov</td>\n",
              "      <td>90.72</td>\n",
              "      <td>Florida</td>\n",
              "    </tr>\n",
              "    <tr>\n",
              "      <th>3</th>\n",
              "      <td>4</td>\n",
              "      <td>Blakeley</td>\n",
              "      <td>Lower</td>\n",
              "      <td>blower3@macromedia.com</td>\n",
              "      <td>29.87</td>\n",
              "      <td>California</td>\n",
              "    </tr>\n",
              "    <tr>\n",
              "      <th>4</th>\n",
              "      <td>5</td>\n",
              "      <td>Horace</td>\n",
              "      <td>Studdert</td>\n",
              "      <td>hstuddert4@theatlantic.com</td>\n",
              "      <td>196.99</td>\n",
              "      <td>Ohio</td>\n",
              "    </tr>\n",
              "  </tbody>\n",
              "</table>\n",
              "</div>"
            ],
            "text/plain": [
              "   id first_name  ... sales_amount       state\n",
              "0   1      Dylan  ...       141.90   Wisconsin\n",
              "1   2      Tully  ...        15.09    Missouri\n",
              "2   3        Ruy  ...        90.72     Florida\n",
              "3   4   Blakeley  ...        29.87  California\n",
              "4   5     Horace  ...       196.99        Ohio\n",
              "\n",
              "[5 rows x 6 columns]"
            ]
          },
          "metadata": {
            "tags": []
          },
          "execution_count": 6
        }
      ]
    },
    {
      "cell_type": "code",
      "metadata": {
        "id": "Eqxex9M662W-",
        "colab_type": "code",
        "colab": {
          "base_uri": "https://localhost:8080/",
          "height": 204
        },
        "outputId": "70a2f83c-ceac-4611-9ca0-eabc4be7f328"
      },
      "source": [
        "url5 = 'https://raw.githubusercontent.com/OpenMined/PyDP/dev/examples/Tutorial%204-Launch_demo/data/05.csv'\n",
        "df5 = pd.read_csv(url5,sep=\",\", engine = \"python\")\n",
        "df5.head()"
      ],
      "execution_count": 7,
      "outputs": [
        {
          "output_type": "execute_result",
          "data": {
            "text/html": [
              "<div>\n",
              "<style scoped>\n",
              "    .dataframe tbody tr th:only-of-type {\n",
              "        vertical-align: middle;\n",
              "    }\n",
              "\n",
              "    .dataframe tbody tr th {\n",
              "        vertical-align: top;\n",
              "    }\n",
              "\n",
              "    .dataframe thead th {\n",
              "        text-align: right;\n",
              "    }\n",
              "</style>\n",
              "<table border=\"1\" class=\"dataframe\">\n",
              "  <thead>\n",
              "    <tr style=\"text-align: right;\">\n",
              "      <th></th>\n",
              "      <th>id</th>\n",
              "      <th>first_name</th>\n",
              "      <th>last_name</th>\n",
              "      <th>email</th>\n",
              "      <th>sales_amount</th>\n",
              "      <th>state</th>\n",
              "    </tr>\n",
              "  </thead>\n",
              "  <tbody>\n",
              "    <tr>\n",
              "      <th>0</th>\n",
              "      <td>1</td>\n",
              "      <td>Susi</td>\n",
              "      <td>Barker</td>\n",
              "      <td>sbarker0@comsenz.com</td>\n",
              "      <td>220.50</td>\n",
              "      <td>Kentucky</td>\n",
              "    </tr>\n",
              "    <tr>\n",
              "      <th>1</th>\n",
              "      <td>2</td>\n",
              "      <td>Gan</td>\n",
              "      <td>Stork</td>\n",
              "      <td>gstork1@who.int</td>\n",
              "      <td>31.75</td>\n",
              "      <td>California</td>\n",
              "    </tr>\n",
              "    <tr>\n",
              "      <th>2</th>\n",
              "      <td>3</td>\n",
              "      <td>Corene</td>\n",
              "      <td>Izod</td>\n",
              "      <td>cizod2@wikia.com</td>\n",
              "      <td>163.53</td>\n",
              "      <td>California</td>\n",
              "    </tr>\n",
              "    <tr>\n",
              "      <th>3</th>\n",
              "      <td>4</td>\n",
              "      <td>Cornell</td>\n",
              "      <td>Schoales</td>\n",
              "      <td>cschoales3@freewebs.com</td>\n",
              "      <td>59.09</td>\n",
              "      <td>Minnesota</td>\n",
              "    </tr>\n",
              "    <tr>\n",
              "      <th>4</th>\n",
              "      <td>5</td>\n",
              "      <td>Petrina</td>\n",
              "      <td>Kennaird</td>\n",
              "      <td>pkennaird4@patch.com</td>\n",
              "      <td>186.38</td>\n",
              "      <td>Georgia</td>\n",
              "    </tr>\n",
              "  </tbody>\n",
              "</table>\n",
              "</div>"
            ],
            "text/plain": [
              "   id first_name last_name                    email  sales_amount       state\n",
              "0   1       Susi    Barker     sbarker0@comsenz.com        220.50    Kentucky\n",
              "1   2        Gan     Stork          gstork1@who.int         31.75  California\n",
              "2   3     Corene      Izod         cizod2@wikia.com        163.53  California\n",
              "3   4    Cornell  Schoales  cschoales3@freewebs.com         59.09   Minnesota\n",
              "4   5    Petrina  Kennaird     pkennaird4@patch.com        186.38     Georgia"
            ]
          },
          "metadata": {
            "tags": []
          },
          "execution_count": 7
        }
      ]
    },
    {
      "cell_type": "markdown",
      "metadata": {
        "id": "gVJZiHU7Ufob",
        "colab_type": "text"
      },
      "source": [
        "#### Combining the whole data into one single dataframe. "
      ]
    },
    {
      "cell_type": "code",
      "metadata": {
        "id": "31B6M3TZ66jz",
        "colab_type": "code",
        "colab": {}
      },
      "source": [
        "combined_df_temp = [df1, df2, df3, df4, df5]\n",
        "original_dataset = pd.concat(combined_df_temp)"
      ],
      "execution_count": 8,
      "outputs": []
    },
    {
      "cell_type": "markdown",
      "metadata": {
        "id": "7RIyfnaUUuvT",
        "colab_type": "text"
      },
      "source": [
        "The size of the combined dataset: "
      ]
    },
    {
      "cell_type": "code",
      "metadata": {
        "id": "SQNbf4ym7Kmd",
        "colab_type": "code",
        "colab": {
          "base_uri": "https://localhost:8080/",
          "height": 34
        },
        "outputId": "2b6af3d5-472a-4ade-87ad-54e74bd90268"
      },
      "source": [
        "original_dataset.shape"
      ],
      "execution_count": 9,
      "outputs": [
        {
          "output_type": "execute_result",
          "data": {
            "text/plain": [
              "(5000, 6)"
            ]
          },
          "metadata": {
            "tags": []
          },
          "execution_count": 9
        }
      ]
    },
    {
      "cell_type": "markdown",
      "metadata": {
        "id": "2DUdhL9NUzwx",
        "colab_type": "text"
      },
      "source": [
        "Now we create our new dataset for testing DP in which we remove exactly one record from the original DB."
      ]
    },
    {
      "cell_type": "code",
      "metadata": {
        "id": "EvPUnSW37NOq",
        "colab_type": "code",
        "colab": {}
      },
      "source": [
        "redact_dataset = original_dataset.copy()\n",
        "redact_dataset = redact_dataset[1:] # this dataset does not have \n",
        "# Osbourne\tGillions\togillions0@feedburner.com\t31.94\tFlorida"
      ],
      "execution_count": 10,
      "outputs": []
    },
    {
      "cell_type": "code",
      "metadata": {
        "id": "giEWElTj8QPX",
        "colab_type": "code",
        "colab": {
          "base_uri": "https://localhost:8080/",
          "height": 204
        },
        "outputId": "2a8f1f12-a350-49a2-86a2-f3f2f884e626"
      },
      "source": [
        "original_dataset.head()"
      ],
      "execution_count": 11,
      "outputs": [
        {
          "output_type": "execute_result",
          "data": {
            "text/html": [
              "<div>\n",
              "<style scoped>\n",
              "    .dataframe tbody tr th:only-of-type {\n",
              "        vertical-align: middle;\n",
              "    }\n",
              "\n",
              "    .dataframe tbody tr th {\n",
              "        vertical-align: top;\n",
              "    }\n",
              "\n",
              "    .dataframe thead th {\n",
              "        text-align: right;\n",
              "    }\n",
              "</style>\n",
              "<table border=\"1\" class=\"dataframe\">\n",
              "  <thead>\n",
              "    <tr style=\"text-align: right;\">\n",
              "      <th></th>\n",
              "      <th>id</th>\n",
              "      <th>first_name</th>\n",
              "      <th>last_name</th>\n",
              "      <th>email</th>\n",
              "      <th>sales_amount</th>\n",
              "      <th>state</th>\n",
              "    </tr>\n",
              "  </thead>\n",
              "  <tbody>\n",
              "    <tr>\n",
              "      <th>0</th>\n",
              "      <td>1</td>\n",
              "      <td>Osbourne</td>\n",
              "      <td>Gillions</td>\n",
              "      <td>ogillions0@feedburner.com</td>\n",
              "      <td>31.94</td>\n",
              "      <td>Florida</td>\n",
              "    </tr>\n",
              "    <tr>\n",
              "      <th>1</th>\n",
              "      <td>2</td>\n",
              "      <td>Glynn</td>\n",
              "      <td>Friett</td>\n",
              "      <td>gfriett1@blog.com</td>\n",
              "      <td>12.46</td>\n",
              "      <td>California</td>\n",
              "    </tr>\n",
              "    <tr>\n",
              "      <th>2</th>\n",
              "      <td>3</td>\n",
              "      <td>Jori</td>\n",
              "      <td>Blockley</td>\n",
              "      <td>jblockley2@unesco.org</td>\n",
              "      <td>191.14</td>\n",
              "      <td>Colorado</td>\n",
              "    </tr>\n",
              "    <tr>\n",
              "      <th>3</th>\n",
              "      <td>4</td>\n",
              "      <td>Garald</td>\n",
              "      <td>Dorian</td>\n",
              "      <td>gdorian3@webeden.co.uk</td>\n",
              "      <td>126.58</td>\n",
              "      <td>Texas</td>\n",
              "    </tr>\n",
              "    <tr>\n",
              "      <th>4</th>\n",
              "      <td>5</td>\n",
              "      <td>Mercy</td>\n",
              "      <td>Pilkington</td>\n",
              "      <td>mpilkington4@jugem.jp</td>\n",
              "      <td>68.32</td>\n",
              "      <td>Florida</td>\n",
              "    </tr>\n",
              "  </tbody>\n",
              "</table>\n",
              "</div>"
            ],
            "text/plain": [
              "   id first_name  ... sales_amount       state\n",
              "0   1   Osbourne  ...        31.94     Florida\n",
              "1   2      Glynn  ...        12.46  California\n",
              "2   3       Jori  ...       191.14    Colorado\n",
              "3   4     Garald  ...       126.58       Texas\n",
              "4   5      Mercy  ...        68.32     Florida\n",
              "\n",
              "[5 rows x 6 columns]"
            ]
          },
          "metadata": {
            "tags": []
          },
          "execution_count": 11
        }
      ]
    },
    {
      "cell_type": "code",
      "metadata": {
        "id": "oQpIHUte8RMg",
        "colab_type": "code",
        "colab": {
          "base_uri": "https://localhost:8080/",
          "height": 204
        },
        "outputId": "bc973741-47eb-44f1-c3f3-11076f3e1ff9"
      },
      "source": [
        "redact_dataset.head()"
      ],
      "execution_count": 12,
      "outputs": [
        {
          "output_type": "execute_result",
          "data": {
            "text/html": [
              "<div>\n",
              "<style scoped>\n",
              "    .dataframe tbody tr th:only-of-type {\n",
              "        vertical-align: middle;\n",
              "    }\n",
              "\n",
              "    .dataframe tbody tr th {\n",
              "        vertical-align: top;\n",
              "    }\n",
              "\n",
              "    .dataframe thead th {\n",
              "        text-align: right;\n",
              "    }\n",
              "</style>\n",
              "<table border=\"1\" class=\"dataframe\">\n",
              "  <thead>\n",
              "    <tr style=\"text-align: right;\">\n",
              "      <th></th>\n",
              "      <th>id</th>\n",
              "      <th>first_name</th>\n",
              "      <th>last_name</th>\n",
              "      <th>email</th>\n",
              "      <th>sales_amount</th>\n",
              "      <th>state</th>\n",
              "    </tr>\n",
              "  </thead>\n",
              "  <tbody>\n",
              "    <tr>\n",
              "      <th>1</th>\n",
              "      <td>2</td>\n",
              "      <td>Glynn</td>\n",
              "      <td>Friett</td>\n",
              "      <td>gfriett1@blog.com</td>\n",
              "      <td>12.46</td>\n",
              "      <td>California</td>\n",
              "    </tr>\n",
              "    <tr>\n",
              "      <th>2</th>\n",
              "      <td>3</td>\n",
              "      <td>Jori</td>\n",
              "      <td>Blockley</td>\n",
              "      <td>jblockley2@unesco.org</td>\n",
              "      <td>191.14</td>\n",
              "      <td>Colorado</td>\n",
              "    </tr>\n",
              "    <tr>\n",
              "      <th>3</th>\n",
              "      <td>4</td>\n",
              "      <td>Garald</td>\n",
              "      <td>Dorian</td>\n",
              "      <td>gdorian3@webeden.co.uk</td>\n",
              "      <td>126.58</td>\n",
              "      <td>Texas</td>\n",
              "    </tr>\n",
              "    <tr>\n",
              "      <th>4</th>\n",
              "      <td>5</td>\n",
              "      <td>Mercy</td>\n",
              "      <td>Pilkington</td>\n",
              "      <td>mpilkington4@jugem.jp</td>\n",
              "      <td>68.32</td>\n",
              "      <td>Florida</td>\n",
              "    </tr>\n",
              "    <tr>\n",
              "      <th>5</th>\n",
              "      <td>6</td>\n",
              "      <td>Elle</td>\n",
              "      <td>McConachie</td>\n",
              "      <td>emcconachie5@census.gov</td>\n",
              "      <td>76.91</td>\n",
              "      <td>Texas</td>\n",
              "    </tr>\n",
              "  </tbody>\n",
              "</table>\n",
              "</div>"
            ],
            "text/plain": [
              "   id first_name   last_name                    email  sales_amount       state\n",
              "1   2      Glynn      Friett        gfriett1@blog.com         12.46  California\n",
              "2   3       Jori    Blockley    jblockley2@unesco.org        191.14    Colorado\n",
              "3   4     Garald      Dorian   gdorian3@webeden.co.uk        126.58       Texas\n",
              "4   5      Mercy  Pilkington    mpilkington4@jugem.jp         68.32     Florida\n",
              "5   6       Elle  McConachie  emcconachie5@census.gov         76.91       Texas"
            ]
          },
          "metadata": {
            "tags": []
          },
          "execution_count": 12
        }
      ]
    },
    {
      "cell_type": "markdown",
      "metadata": {
        "id": "TwOe-usOVUWg",
        "colab_type": "text"
      },
      "source": [
        "If we find the sum of sales_amount in `total_datset` and `redact_datset`, we should see the difference in the sum to be exactly equal to the money spent  (`sales_amount`) by Osbourne Gillions."
      ]
    },
    {
      "cell_type": "code",
      "metadata": {
        "id": "9MhkhR43VUIq",
        "colab_type": "code",
        "colab": {}
      },
      "source": [
        "sum_original_dataset = round(sum(original_dataset['sales_amount'].to_list()), 2)\n",
        "sum_redact_dataset = round(sum(redact_dataset['sales_amount'].to_list()), 2)\n",
        "sales_amount_Osbourne = round((sum_original_dataset - sum_redact_dataset), 2)"
      ],
      "execution_count": 13,
      "outputs": []
    },
    {
      "cell_type": "code",
      "metadata": {
        "id": "ANOPA6sWXA01",
        "colab_type": "code",
        "colab": {}
      },
      "source": [
        "assert sales_amount_Osbourne == original_dataset.iloc[0, 4]"
      ],
      "execution_count": 14,
      "outputs": []
    },
    {
      "cell_type": "markdown",
      "metadata": {
        "id": "Ow-YMPuWXKq2",
        "colab_type": "text"
      },
      "source": [
        "It's quite evident that using the traditional methods, even though if we remove the private information like name and email, we could still infer the identity of the user. \n",
        "\n",
        "Using Differential Privacy, we can solve this! "
      ]
    },
    {
      "cell_type": "code",
      "metadata": {
        "id": "JSc_hccb8TmJ",
        "colab_type": "code",
        "colab": {}
      },
      "source": [
        "# we can set the lower bound as 5 because we know the person has to spend minimum of $5 \n",
        "# while the upper bound as 250 as that's the maximum amount user can spend\n",
        "# Keeping the datatype as float as the data has floating point numbers.\n",
        "# if your data has integer only, you should consider using int as it saves a lot of memory\n",
        "dp_sum_original_dataset = BoundedSum(epsilon= 1, lower_bound =  5, upper_bound = 250, dtype ='float') "
      ],
      "execution_count": 15,
      "outputs": []
    },
    {
      "cell_type": "code",
      "metadata": {
        "id": "e16acxES8rnx",
        "colab_type": "code",
        "colab": {}
      },
      "source": [
        "dp_sum_original_dataset.reset()\n",
        "dp_sum_original_dataset.add_entries(original_dataset['sales_amount'].to_list()) # adding the data to the DP algorithm"
      ],
      "execution_count": 16,
      "outputs": []
    },
    {
      "cell_type": "code",
      "metadata": {
        "id": "KZVnY76h8yTl",
        "colab_type": "code",
        "colab": {
          "base_uri": "https://localhost:8080/",
          "height": 34
        },
        "outputId": "f21ee886-47f3-441e-cd50-6d4892934779"
      },
      "source": [
        "dp_sum_og = round(dp_sum_original_dataset.result(), 2)\n",
        "print(dp_sum_og)"
      ],
      "execution_count": 17,
      "outputs": [
        {
          "output_type": "stream",
          "text": [
            "636661.79\n"
          ],
          "name": "stdout"
        }
      ]
    },
    {
      "cell_type": "markdown",
      "metadata": {
        "id": "Uj_TtJFEY2oI",
        "colab_type": "text"
      },
      "source": [
        "#### Taking Sum of data on the Redacted Dataset"
      ]
    },
    {
      "cell_type": "code",
      "metadata": {
        "id": "JNSnzyBw9DU-",
        "colab_type": "code",
        "colab": {}
      },
      "source": [
        "dp_redact_dataset = BoundedSum(epsilon= 1, lower_bound =  5, upper_bound = 250, dtype ='float')\n",
        "dp_redact_dataset.add_entries(redact_dataset['sales_amount'].to_list())"
      ],
      "execution_count": 18,
      "outputs": []
    },
    {
      "cell_type": "code",
      "metadata": {
        "id": "HfRGlSX0Z6_i",
        "colab_type": "code",
        "colab": {
          "base_uri": "https://localhost:8080/",
          "height": 34
        },
        "outputId": "34946719-f806-4c1f-c4d7-835ea94efe62"
      },
      "source": [
        "dp_redact_dataset.memory_used()"
      ],
      "execution_count": 19,
      "outputs": [
        {
          "output_type": "execute_result",
          "data": {
            "text/plain": [
              "320"
            ]
          },
          "metadata": {
            "tags": []
          },
          "execution_count": 19
        }
      ]
    },
    {
      "cell_type": "code",
      "metadata": {
        "id": "_qZsAP5n9hC-",
        "colab_type": "code",
        "colab": {
          "base_uri": "https://localhost:8080/",
          "height": 34
        },
        "outputId": "16a0a319-25bd-417f-c9e9-dd637b339076"
      },
      "source": [
        "dp_sum_redact = round(dp_redact_dataset.result(),2)\n",
        "print(dp_sum_redact)"
      ],
      "execution_count": 20,
      "outputs": [
        {
          "output_type": "stream",
          "text": [
            "636534.92\n"
          ],
          "name": "stdout"
        }
      ]
    },
    {
      "cell_type": "code",
      "metadata": {
        "id": "g_lOchCJ9mrB",
        "colab_type": "code",
        "colab": {
          "base_uri": "https://localhost:8080/",
          "height": 34
        },
        "outputId": "c82ea12f-274f-4eba-fe20-3cb7965fbe8d"
      },
      "source": [
        "round(dp_sum_og - dp_sum_redact, 2)"
      ],
      "execution_count": 21,
      "outputs": [
        {
          "output_type": "execute_result",
          "data": {
            "text/plain": [
              "126.87"
            ]
          },
          "metadata": {
            "tags": []
          },
          "execution_count": 21
        }
      ]
    },
    {
      "cell_type": "code",
      "metadata": {
        "id": "e_cH0pxV9oJ9",
        "colab_type": "code",
        "colab": {
          "base_uri": "https://localhost:8080/",
          "height": 51
        },
        "outputId": "717b1039-6ae2-4920-e6f0-8dc71f4ca9c2"
      },
      "source": [
        "print(\"Difference in sum using DP: {}\".format(round(dp_sum_og - dp_sum_redact, 2)))\n",
        "print(\"Actual Value: {}\".format(sales_amount_Osbourne))\n",
        "assert round(dp_sum_og - dp_sum_redact, 2) != sales_amount_Osbourne\n"
      ],
      "execution_count": 22,
      "outputs": [
        {
          "output_type": "stream",
          "text": [
            "Difference in sum using DP: 126.87\n",
            "Actual Value: 31.94\n"
          ],
          "name": "stdout"
        }
      ]
    },
    {
      "cell_type": "code",
      "metadata": {
        "id": "NHYm1tr-9v-0",
        "colab_type": "code",
        "colab": {
          "base_uri": "https://localhost:8080/",
          "height": 51
        },
        "outputId": "8de5557f-fc93-4dd4-b64d-85ced6c3ed2c"
      },
      "source": [
        "print(\"Sum of sales_value in the orignal Dataset: {}\".format(sum_original_dataset))\n",
        "print(\"Sum of sales_value in the orignal Dataset using DP: {}\".format(dp_sum_og))\n",
        "assert dp_sum_og != sum_original_dataset"
      ],
      "execution_count": 23,
      "outputs": [
        {
          "output_type": "stream",
          "text": [
            "Sum of sales_value in the orignal Dataset: 636594.59\n",
            "Sum of sales_value in the orignal Dataset using DP: 636661.79\n"
          ],
          "name": "stdout"
        }
      ]
    },
    {
      "cell_type": "code",
      "metadata": {
        "id": "y0ddDw6m9zO_",
        "colab_type": "code",
        "colab": {
          "base_uri": "https://localhost:8080/",
          "height": 51
        },
        "outputId": "413db632-2f13-48e8-8f2d-01a6ced01c32"
      },
      "source": [
        "print(\"Sum of sales_value in the redacted Dataset: {}\".format(sum_redact_dataset))\n",
        "print(\"Sum of sales_value in the redacted Dataset using DP: {}\".format(dp_sum_redact))\n",
        "assert dp_sum_redact != sum_redact_dataset"
      ],
      "execution_count": 24,
      "outputs": [
        {
          "output_type": "stream",
          "text": [
            "Sum of sales_value in the redacted Dataset: 636562.65\n",
            "Sum of sales_value in the redacted Dataset using DP: 636534.92\n"
          ],
          "name": "stdout"
        }
      ]
    },
    {
      "cell_type": "markdown",
      "metadata": {
        "id": "rvrj0Et1aifE",
        "colab_type": "text"
      },
      "source": [
        "#### Quering on the Partial\n",
        "\n",
        "Consider a case when you are obtaining a stream of data and you want to give a partial result as and when you receive the data. \n",
        "The more stream of data you get, you get a better picture of what's there, but in this condition you have to give results as and when a new stream of data arrives. \n",
        "\n"
      ]
    },
    {
      "cell_type": "markdown",
      "metadata": {
        "id": "dmkMSWxHcaDV",
        "colab_type": "text"
      },
      "source": [
        "To achieve this, PyDP provides an option of using your partial privacy_budget. \n",
        "\n"
      ]
    },
    {
      "cell_type": "code",
      "metadata": {
        "id": "2ELfiZnycYZ6",
        "colab_type": "code",
        "colab": {}
      },
      "source": [
        "partial_dp_obj = BoundedSum(epsilon= 1, lower_bound =  5, upper_bound = 250, dtype ='float')"
      ],
      "execution_count": 25,
      "outputs": []
    },
    {
      "cell_type": "markdown",
      "metadata": {
        "id": "86i5EZxRie7K",
        "colab_type": "text"
      },
      "source": [
        "Combining first 3000 records in stream and then the other 2000 records."
      ]
    },
    {
      "cell_type": "code",
      "metadata": {
        "id": "GTBkYQhJikXe",
        "colab_type": "code",
        "colab": {
          "base_uri": "https://localhost:8080/",
          "height": 34
        },
        "outputId": "4ebdef9a-8b52-4e74-e3f3-d6b80fe7cdef"
      },
      "source": [
        "new_df_1 = pd.concat([df1, df2, df3])\n",
        "new_df_2 = pd.concat([df4, df5])\n",
        "print(new_df_1.shape,new_df_2.shape)"
      ],
      "execution_count": 26,
      "outputs": [
        {
          "output_type": "stream",
          "text": [
            "(3000, 6) (2000, 6)\n"
          ],
          "name": "stdout"
        }
      ]
    },
    {
      "cell_type": "code",
      "metadata": {
        "id": "Ij5F6xP7iyxm",
        "colab_type": "code",
        "colab": {}
      },
      "source": [
        "partial_dp_obj.add_entries(new_df_1['sales_amount'].to_list()) # adding the first 3000 records"
      ],
      "execution_count": 27,
      "outputs": []
    },
    {
      "cell_type": "code",
      "metadata": {
        "id": "ojjed2bNjBFM",
        "colab_type": "code",
        "colab": {
          "base_uri": "https://localhost:8080/",
          "height": 34
        },
        "outputId": "f3b8cb50-fe13-4db9-c88c-70591fd47526"
      },
      "source": [
        "partial_dp_obj.privacy_budget_left()"
      ],
      "execution_count": 28,
      "outputs": [
        {
          "output_type": "execute_result",
          "data": {
            "text/plain": [
              "1.0"
            ]
          },
          "metadata": {
            "tags": []
          },
          "execution_count": 28
        }
      ]
    },
    {
      "cell_type": "code",
      "metadata": {
        "id": "qe5rHoRkjEMF",
        "colab_type": "code",
        "colab": {
          "base_uri": "https://localhost:8080/",
          "height": 34
        },
        "outputId": "c634ed6a-b4f7-4542-c86c-81082d914e7f"
      },
      "source": [
        "partial_sum_dp = round(partial_dp_obj.result(privacy_budget=0.3), 2) # using only 30% of available privacy budget \n",
        "print(partial_sum_dp)"
      ],
      "execution_count": 29,
      "outputs": [
        {
          "output_type": "stream",
          "text": [
            "382838.84\n"
          ],
          "name": "stdout"
        }
      ]
    },
    {
      "cell_type": "code",
      "metadata": {
        "id": "AjFoROfWjTL5",
        "colab_type": "code",
        "colab": {
          "base_uri": "https://localhost:8080/",
          "height": 34
        },
        "outputId": "549eba92-30a9-4ba0-deac-d8dd14aa93bc"
      },
      "source": [
        "actual_partial_sum = round(sum(new_df_1['sales_amount'].to_list()), 2)\n",
        "print(actual_partial_sum)"
      ],
      "execution_count": 30,
      "outputs": [
        {
          "output_type": "stream",
          "text": [
            "383911.03\n"
          ],
          "name": "stdout"
        }
      ]
    },
    {
      "cell_type": "code",
      "metadata": {
        "id": "znl0dZKDjpG9",
        "colab_type": "code",
        "colab": {
          "base_uri": "https://localhost:8080/",
          "height": 34
        },
        "outputId": "06a1f4c5-12ed-486a-d8ea-cda156c86f3f"
      },
      "source": [
        "print(\"Difference in sum for first 3000 records which used only 30% privacy budget= {}\".format(round(abs(actual_partial_sum - partial_sum_dp), 2)))"
      ],
      "execution_count": 31,
      "outputs": [
        {
          "output_type": "stream",
          "text": [
            "Difference in sum for first 3000 records which used only 30% privacy budget= 1072.19\n"
          ],
          "name": "stdout"
        }
      ]
    },
    {
      "cell_type": "code",
      "metadata": {
        "id": "TPBU9Pi8kIib",
        "colab_type": "code",
        "colab": {
          "base_uri": "https://localhost:8080/",
          "height": 34
        },
        "outputId": "80d04b13-d6e9-4c66-f262-178acf503280"
      },
      "source": [
        "partial_dp_obj.privacy_budget_left()"
      ],
      "execution_count": 32,
      "outputs": [
        {
          "output_type": "execute_result",
          "data": {
            "text/plain": [
              "0.7"
            ]
          },
          "metadata": {
            "tags": []
          },
          "execution_count": 32
        }
      ]
    },
    {
      "cell_type": "code",
      "metadata": {
        "id": "FlxLjBwbj4xl",
        "colab_type": "code",
        "colab": {
          "base_uri": "https://localhost:8080/",
          "height": 34
        },
        "outputId": "ee456984-ea95-4d11-f148-c2a59f498638"
      },
      "source": [
        "partial_dp_obj.add_entries(new_df_2['sales_amount'].to_list()) # adding the remaining 2000 records to the list\n",
        "partial_total_sum = round(partial_dp_obj.result(), 2)\n",
        "print(partial_total_sum)"
      ],
      "execution_count": 33,
      "outputs": [
        {
          "output_type": "stream",
          "text": [
            "636379.19\n"
          ],
          "name": "stdout"
        }
      ]
    },
    {
      "cell_type": "code",
      "metadata": {
        "id": "t7YnY2Y9mlKL",
        "colab_type": "code",
        "colab": {
          "base_uri": "https://localhost:8080/",
          "height": 34
        },
        "outputId": "4f2ea62f-39bf-4ac9-c4d3-a9db151261be"
      },
      "source": [
        "partial_dp_obj.privacy_budget_left() # we have used up all the budget available to us"
      ],
      "execution_count": 34,
      "outputs": [
        {
          "output_type": "execute_result",
          "data": {
            "text/plain": [
              "0.0"
            ]
          },
          "metadata": {
            "tags": []
          },
          "execution_count": 34
        }
      ]
    },
    {
      "cell_type": "code",
      "metadata": {
        "id": "pWuFnC5XnN3y",
        "colab_type": "code",
        "colab": {}
      },
      "source": [
        "def sum_og_dataset(budget):\n",
        "    '''\n",
        "    Sample Function to calculate BoundedSum on the whole dataset with budget as specified\n",
        "    '''\n",
        "    dp_sum_original_dataset.reset()\n",
        "    dp_sum_original_dataset.add_entries(original_dataset['sales_amount'].to_list())\n",
        "    return round(dp_sum_original_dataset.result(budget), 2)\n"
      ],
      "execution_count": 35,
      "outputs": []
    },
    {
      "cell_type": "code",
      "metadata": {
        "id": "FXNolUSlmH7j",
        "colab_type": "code",
        "colab": {
          "base_uri": "https://localhost:8080/",
          "height": 85
        },
        "outputId": "c0043965-6fd0-4f5f-f6fa-6a8732977750"
      },
      "source": [
        "print(\"Actual Sum: {}\".format(sum_original_dataset))\n",
        "print(\"Sum from the previous run with privacy budget 1.0: {}\".format(dp_sum_og))\n",
        "print(\"Sum when using privacy_budget as 0.7 on the whole dataset together: {}\".format(sum_og_dataset(budget=0.7)))\n",
        "print(\"Sum from this run with privacy budget 0.7 on split dataset: {}\".format(partial_total_sum))\n"
      ],
      "execution_count": 36,
      "outputs": [
        {
          "output_type": "stream",
          "text": [
            "Actual Sum: 636594.59\n",
            "Sum from the previous run with privacy budget 1.0: 636661.79\n",
            "Sum when using privacy_budget as 0.7 on the whole dataset together: 636926.06\n",
            "Sum from this run with privacy budget 0.7 on split dataset: 636379.19\n"
          ],
          "name": "stdout"
        }
      ]
    }
  ],
  "metadata": {
    "colab": {
      "name": "Untitled2.ipynb",
      "provenance": []
    },
    "kernelspec": {
      "name": "python3",
      "display_name": "Python 3"
    }
  },
  "nbformat": 4,
  "nbformat_minor": 0
}