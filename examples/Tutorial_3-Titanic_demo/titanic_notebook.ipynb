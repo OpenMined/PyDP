{
 "cells": [
  {
   "cell_type": "markdown",
   "metadata": {
    "colab_type": "text",
    "id": "Sixdp-cB5JuE"
   },
   "source": [
    "\n",
    "## 1.3 Applying PyDP to famous ML dataset\n",
    "\n",
    "The PyDP package provides a Python API into [Google's Differential Privacy library](https://github.com/google/differential-privacy). This example uses the alpha 0.1.7 version of the package that has the following limitations:\n",
    "\n"
   ]
  },
  {
   "cell_type": "markdown",
   "metadata": {
    "colab_type": "text",
    "id": "CtdnC8Ly5JuJ"
   },
   "source": [
    "The sinking of the Titanic is one of the most infamous shipwrecks in history.\n",
    "\n",
    "On April 15, 1912, during her maiden voyage, the widely considered “unsinkable” RMS Titanic sank after colliding with an iceberg. Unfortunately, there weren’t enough lifeboats for everyone onboard, resulting in the death of 1502 out of 2224 passengers and crew.\n",
    "\n",
    "While there was some element of luck involved in surviving, it seems some groups of people were more likely to survive than others.\n",
    "\n"
   ]
  },
  {
   "cell_type": "markdown",
   "metadata": {
    "colab_type": "text",
    "id": "VfrNxQz25JuL"
   },
   "source": [
    "### [Titanic Dataset Challenge](https://www.kaggle.com/c/titanic/overview):\n",
    "\n",
    "We ask you to build a predictive model that answers the question: “what sorts of people were more likely to survive?” using passenger data (i.e. name, age, gender, socio-economic class, etc.).\n",
    "\n",
    "### Bias in 2020\n",
    "\n",
    "Its 2020 and we have realized that there are inherent bias in our beliefs and system and moving forward, we need to remove these bias. To solve this, we decided, why not to formulate the most common ML dataset in a more responsible manner. Can we use the technology at hand to solve this?\n",
    "\n",
    "### Enter Differential Privacy\n",
    "\n",
    "Using DP, we aim to reduce such bias in the system and we want all passengers to give an equal chance of survival. \n",
    "\n",
    "Consider a scenario where there is a ship near the accident site but depending on the demographic of people in Titanic, it would decide whether it will do a rescue operation or not. \n",
    "\n",
    "Now you have the passenger Manifesto in your hand the nearby ship can ask you few statistical questions before it can make a decision. So it as\n",
    "now the passengers of Titanic decide that they will use DP to answer the following questions:\n"
   ]
  },
  {
   "cell_type": "code",
   "execution_count": 1,
   "metadata": {
    "colab": {
     "base_uri": "https://localhost:8080/",
     "height": 34
    },
    "colab_type": "code",
    "id": "21lShzsd83XF",
    "outputId": "3128b4aa-5d6b-45b5-f464-aaf54a7491bd"
   },
   "outputs": [
    {
     "name": "stdout",
     "output_type": "stream",
     "text": [
      "/home/nabanita07/anaconda3/lib/python3.8/site-packages/secretstorage/dhcrypto.py:16: CryptographyDeprecationWarning: int_from_bytes is deprecated, use int.from_bytes instead\n",
      "  from cryptography.utils import int_from_bytes\n",
      "/home/nabanita07/anaconda3/lib/python3.8/site-packages/secretstorage/util.py:25: CryptographyDeprecationWarning: int_from_bytes is deprecated, use int.from_bytes instead\n",
      "  from cryptography.utils import int_from_bytes\n",
      "Requirement already satisfied: python-dp in /home/nabanita07/anaconda3/lib/python3.8/site-packages (1.0.2)\n"
     ]
    }
   ],
   "source": [
    "# Install the PyDP package\n",
    "! pip install python-dp"
   ]
  },
  {
   "cell_type": "code",
   "execution_count": 2,
   "metadata": {
    "colab": {},
    "colab_type": "code",
    "id": "H08wa3hm8vJ0"
   },
   "outputs": [],
   "source": [
    "import pydp as dp # by convention our package is to be imported as dp (for Differential Privacy!)\n",
    "from pydp.algorithms.laplacian import BoundedSum, BoundedMean, BoundedStandardDeviation, Count, Max, Min, Median\n",
    "import pandas as pd\n",
    "import statistics # for calculating mean without applying differential privacy"
   ]
  },
  {
   "cell_type": "code",
   "execution_count": 3,
   "metadata": {
    "colab": {
     "base_uri": "https://localhost:8080/",
     "height": 72
    },
    "colab_type": "code",
    "id": "vP_4JbyZN5SR",
    "outputId": "16843afb-fe59-4379-8822-e95b0736d8d4"
   },
   "outputs": [],
   "source": [
    "import numpy as np\n",
    "import seaborn as sns\n",
    "import matplotlib.pyplot as plt"
   ]
  },
  {
   "cell_type": "code",
   "execution_count": 4,
   "metadata": {
    "colab": {
     "base_uri": "https://localhost:8080/",
     "height": 259
    },
    "colab_type": "code",
    "id": "JQAgbYug7jiP",
    "outputId": "3a5d4eeb-e308-4dc9-854e-9a9fddf877e5"
   },
   "outputs": [
    {
     "data": {
      "text/html": [
       "<div>\n",
       "<style scoped>\n",
       "    .dataframe tbody tr th:only-of-type {\n",
       "        vertical-align: middle;\n",
       "    }\n",
       "\n",
       "    .dataframe tbody tr th {\n",
       "        vertical-align: top;\n",
       "    }\n",
       "\n",
       "    .dataframe thead th {\n",
       "        text-align: right;\n",
       "    }\n",
       "</style>\n",
       "<table border=\"1\" class=\"dataframe\">\n",
       "  <thead>\n",
       "    <tr style=\"text-align: right;\">\n",
       "      <th></th>\n",
       "      <th>Age</th>\n",
       "      <th>Cabin</th>\n",
       "      <th>Embarked</th>\n",
       "      <th>Fare</th>\n",
       "      <th>Name</th>\n",
       "      <th>Parch</th>\n",
       "      <th>PassengerId</th>\n",
       "      <th>Pclass</th>\n",
       "      <th>Sex</th>\n",
       "      <th>SibSp</th>\n",
       "      <th>Survived</th>\n",
       "      <th>Ticket</th>\n",
       "      <th>Title</th>\n",
       "      <th>Family_Size</th>\n",
       "    </tr>\n",
       "  </thead>\n",
       "  <tbody>\n",
       "    <tr>\n",
       "      <th>0</th>\n",
       "      <td>22.0</td>\n",
       "      <td>NaN</td>\n",
       "      <td>S</td>\n",
       "      <td>7.2500</td>\n",
       "      <td>Braund, Mr. Owen Harris</td>\n",
       "      <td>0</td>\n",
       "      <td>1</td>\n",
       "      <td>3</td>\n",
       "      <td>male</td>\n",
       "      <td>1</td>\n",
       "      <td>0.0</td>\n",
       "      <td>A/5 21171</td>\n",
       "      <td>Mr</td>\n",
       "      <td>1</td>\n",
       "    </tr>\n",
       "    <tr>\n",
       "      <th>1</th>\n",
       "      <td>38.0</td>\n",
       "      <td>C85</td>\n",
       "      <td>C</td>\n",
       "      <td>71.2833</td>\n",
       "      <td>Cumings, Mrs. John Bradley (Florence Briggs Th...</td>\n",
       "      <td>0</td>\n",
       "      <td>2</td>\n",
       "      <td>1</td>\n",
       "      <td>female</td>\n",
       "      <td>1</td>\n",
       "      <td>1.0</td>\n",
       "      <td>PC 17599</td>\n",
       "      <td>Mrs</td>\n",
       "      <td>1</td>\n",
       "    </tr>\n",
       "    <tr>\n",
       "      <th>2</th>\n",
       "      <td>26.0</td>\n",
       "      <td>NaN</td>\n",
       "      <td>S</td>\n",
       "      <td>7.9250</td>\n",
       "      <td>Heikkinen, Miss. Laina</td>\n",
       "      <td>0</td>\n",
       "      <td>3</td>\n",
       "      <td>3</td>\n",
       "      <td>female</td>\n",
       "      <td>0</td>\n",
       "      <td>1.0</td>\n",
       "      <td>STON/O2. 3101282</td>\n",
       "      <td>Miss</td>\n",
       "      <td>0</td>\n",
       "    </tr>\n",
       "    <tr>\n",
       "      <th>3</th>\n",
       "      <td>35.0</td>\n",
       "      <td>C123</td>\n",
       "      <td>S</td>\n",
       "      <td>53.1000</td>\n",
       "      <td>Futrelle, Mrs. Jacques Heath (Lily May Peel)</td>\n",
       "      <td>0</td>\n",
       "      <td>4</td>\n",
       "      <td>1</td>\n",
       "      <td>female</td>\n",
       "      <td>1</td>\n",
       "      <td>1.0</td>\n",
       "      <td>113803</td>\n",
       "      <td>Mrs</td>\n",
       "      <td>1</td>\n",
       "    </tr>\n",
       "    <tr>\n",
       "      <th>4</th>\n",
       "      <td>35.0</td>\n",
       "      <td>NaN</td>\n",
       "      <td>S</td>\n",
       "      <td>8.0500</td>\n",
       "      <td>Allen, Mr. William Henry</td>\n",
       "      <td>0</td>\n",
       "      <td>5</td>\n",
       "      <td>3</td>\n",
       "      <td>male</td>\n",
       "      <td>0</td>\n",
       "      <td>0.0</td>\n",
       "      <td>373450</td>\n",
       "      <td>Mr</td>\n",
       "      <td>0</td>\n",
       "    </tr>\n",
       "  </tbody>\n",
       "</table>\n",
       "</div>"
      ],
      "text/plain": [
       "    Age Cabin Embarked     Fare  \\\n",
       "0  22.0   NaN        S   7.2500   \n",
       "1  38.0   C85        C  71.2833   \n",
       "2  26.0   NaN        S   7.9250   \n",
       "3  35.0  C123        S  53.1000   \n",
       "4  35.0   NaN        S   8.0500   \n",
       "\n",
       "                                                Name  Parch  PassengerId  \\\n",
       "0                            Braund, Mr. Owen Harris      0            1   \n",
       "1  Cumings, Mrs. John Bradley (Florence Briggs Th...      0            2   \n",
       "2                             Heikkinen, Miss. Laina      0            3   \n",
       "3       Futrelle, Mrs. Jacques Heath (Lily May Peel)      0            4   \n",
       "4                           Allen, Mr. William Henry      0            5   \n",
       "\n",
       "   Pclass     Sex  SibSp  Survived            Ticket Title  Family_Size  \n",
       "0       3    male      1       0.0         A/5 21171    Mr            1  \n",
       "1       1  female      1       1.0          PC 17599   Mrs            1  \n",
       "2       3  female      0       1.0  STON/O2. 3101282  Miss            0  \n",
       "3       1  female      1       1.0            113803   Mrs            1  \n",
       "4       3    male      0       0.0            373450    Mr            0  "
      ]
     },
     "execution_count": 4,
     "metadata": {},
     "output_type": "execute_result"
    }
   ],
   "source": [
    "# get the cleaned dataset from our public github repo\n",
    "url = 'https://raw.githubusercontent.com/OpenMined/PyDP/dev/examples/Tutorial_3-Titanic_demo/titanic_clean.csv'\n",
    "df = pd.read_csv(url,sep=\",\", index_col=0)\n",
    "df.head()"
   ]
  },
  {
   "cell_type": "markdown",
   "metadata": {
    "colab_type": "text",
    "id": "lNS_hytE5JuS"
   },
   "source": [
    "### Q1. What is the average age of passengers:"
   ]
  },
  {
   "cell_type": "code",
   "execution_count": 5,
   "metadata": {
    "colab": {},
    "colab_type": "code",
    "id": "KXCZTc4J9CPC"
   },
   "outputs": [],
   "source": [
    "# calculates passenger age mean without applying differential privacy\n",
    "def mean_age() -> float:\n",
    "        return statistics.mean(list(df[\"Age\"]))"
   ]
  },
  {
   "cell_type": "code",
   "execution_count": 6,
   "metadata": {
    "colab": {},
    "colab_type": "code",
    "id": "tFhpBq_39dvH"
   },
   "outputs": [],
   "source": [
    "# calculates passenger age mean applying differential privacy\n",
    "def private_mean(privacy_budget: float) -> float:\n",
    "        x = BoundedMean(privacy_budget, lower_bound=0.1, upper_bound=90, dtype=\"float\")\n",
    "        return x.quick_result(list(df[\"Age\"]))"
   ]
  },
  {
   "cell_type": "code",
   "execution_count": 7,
   "metadata": {
    "colab": {
     "base_uri": "https://localhost:8080/",
     "height": 52
    },
    "colab_type": "code",
    "id": "4momFHrh9jjt",
    "outputId": "d36e92b8-2b59-4903-ce18-c353ceb6506d"
   },
   "outputs": [
    {
     "name": "stdout",
     "output_type": "stream",
     "text": [
      "Mean:  29.56239113827349\n",
      "Private Mean:  29.464252193461164\n"
     ]
    }
   ],
   "source": [
    "print(\"Mean: \", mean_age())\n",
    "print(\"Private Mean: \", private_mean(0.8))"
   ]
  },
  {
   "cell_type": "markdown",
   "metadata": {
    "colab_type": "text",
    "id": "rfWXqrPt5JuW"
   },
   "source": [
    "### Q2: How many Total passengners are on this ship?"
   ]
  },
  {
   "cell_type": "code",
   "execution_count": 8,
   "metadata": {
    "colab": {},
    "colab_type": "code",
    "id": "7X_24PIwAJIu"
   },
   "outputs": [],
   "source": [
    "# Function to calculate total number of passengers without applying differential privacy.\n",
    "def sum_passengers() -> int:\n",
    "    return df.count()['Age']"
   ]
  },
  {
   "cell_type": "code",
   "execution_count": 9,
   "metadata": {
    "colab": {},
    "colab_type": "code",
    "id": "gt3JqinbAODU"
   },
   "outputs": [],
   "source": [
    "# Function to calculate total number of passengers applying differential privacy.\n",
    "def private_sum(privacy_budget: float) -> int:\n",
    "    x = Count(privacy_budget, dtype=\"float\")\n",
    "    #return x.quick_result(list(df[\"Age\"]))\n",
    "    return x.quick_result(list(df['Age']))"
   ]
  },
  {
   "cell_type": "code",
   "execution_count": 10,
   "metadata": {
    "colab": {
     "base_uri": "https://localhost:8080/",
     "height": 52
    },
    "colab_type": "code",
    "id": "gxdTVgKQARux",
    "outputId": "678974a4-dd55-4e6f-9cc5-22cc871dfbac"
   },
   "outputs": [
    {
     "name": "stdout",
     "output_type": "stream",
     "text": [
      "Total:\t1309\n",
      "Private Total:\t1311\n"
     ]
    }
   ],
   "source": [
    "print(\"Total:\\t\" + str(sum_passengers()))\n",
    "print(\"Private Total:\\t\" + str(private_sum(1)))"
   ]
  },
  {
   "cell_type": "markdown",
   "metadata": {
    "colab_type": "text",
    "id": "xOa-mYPo5Jua"
   },
   "source": [
    "### Q3: What is the age of the youngest passenger on the ship?"
   ]
  },
  {
   "cell_type": "code",
   "execution_count": 11,
   "metadata": {
    "colab": {},
    "colab_type": "code",
    "id": "-OdeoQvlFisV"
   },
   "outputs": [],
   "source": [
    "# Function to return the minimum of the passengers age without appyling differential privacy.\n",
    "def min_age() -> int:\n",
    "    return df.min()[0]"
   ]
  },
  {
   "cell_type": "code",
   "execution_count": 12,
   "metadata": {
    "colab": {},
    "colab_type": "code",
    "id": "P8LNkz-LHrcU"
   },
   "outputs": [],
   "source": [
    "# Function to return the minimum of the passengers age appyling differential privacy.\n",
    "def private_min(privacy_budget: float) -> float:\n",
    "    # 0 and 150 are the upper and lower limits for the search bound.\n",
    "    x = Min(privacy_budget, lower_bound=0.1, upper_bound=90, dtype=\"float\")\n",
    "    return x.quick_result(list(df[\"Age\"]))"
   ]
  },
  {
   "cell_type": "code",
   "execution_count": 13,
   "metadata": {
    "colab": {
     "base_uri": "https://localhost:8080/",
     "height": 52
    },
    "colab_type": "code",
    "id": "2GJgjf6NF4cx",
    "outputId": "4c9f2b68-e236-42c5-d62f-95290af13033"
   },
   "outputs": [
    {
     "name": "stdout",
     "output_type": "stream",
     "text": [
      "Min:\t0.17\n",
      "Private Min:\t4.006980989765854\n"
     ]
    }
   ],
   "source": [
    "print(\"Min:\\t\" + str(min_age()))\n",
    "print(\"Private Min:\\t\" + str(private_min(1)))"
   ]
  },
  {
   "cell_type": "markdown",
   "metadata": {
    "colab_type": "text",
    "id": "Mzu43yaF5Jud"
   },
   "source": [
    "### Q4: What is the age of the oldest passenger on the ship?"
   ]
  },
  {
   "cell_type": "code",
   "execution_count": 14,
   "metadata": {
    "colab": {},
    "colab_type": "code",
    "id": "nn8K4fa_J3Te"
   },
   "outputs": [],
   "source": [
    "# Function to return the minimum of the passengers age without appyling differential privacy.\n",
    "def max_age() -> int:\n",
    "    return df.max()[0]"
   ]
  },
  {
   "cell_type": "code",
   "execution_count": 15,
   "metadata": {
    "colab": {},
    "colab_type": "code",
    "id": "qM0PawIkJ9SZ"
   },
   "outputs": [],
   "source": [
    "# Function to return the minimum of the passengers age appyling differential privacy.\n",
    "def private_max(privacy_budget: float) -> float:\n",
    "    # 0 and 150 are the upper and lower limits for the search bound.\n",
    "    x = Max(privacy_budget, lower_bound=0.1, upper_bound=90, dtype=\"float\")\n",
    "    return x.quick_result(list(df[\"Age\"]))"
   ]
  },
  {
   "cell_type": "code",
   "execution_count": 16,
   "metadata": {
    "colab": {
     "base_uri": "https://localhost:8080/",
     "height": 52
    },
    "colab_type": "code",
    "id": "wus3PE1gKAzs",
    "outputId": "6484b87a-63da-433d-b901-4c4c06b8a691"
   },
   "outputs": [
    {
     "name": "stdout",
     "output_type": "stream",
     "text": [
      "Max:\t80.0\n",
      "Private Max:\t59.623204191339575\n"
     ]
    }
   ],
   "source": [
    "print(\"Max:\\t\" + str(max_age()))\n",
    "print(\"Private Max:\\t\" + str(private_max(1)))"
   ]
  },
  {
   "cell_type": "markdown",
   "metadata": {
    "colab_type": "text",
    "id": "4VJqRP-pFRwb"
   },
   "source": [
    "### Q5: How many passengers are older than a certain age?"
   ]
  },
  {
   "cell_type": "code",
   "execution_count": 17,
   "metadata": {
    "colab": {},
    "colab_type": "code",
    "id": "SVMY3Hy7Clrk"
   },
   "outputs": [],
   "source": [
    "# Calculates number of passengers which age is more than \"limit\" age without applying differential privacy.\n",
    "def count_above(limit: int) -> int:\n",
    "    return df[df.Age > limit].count()[0]"
   ]
  },
  {
   "cell_type": "code",
   "execution_count": 18,
   "metadata": {
    "colab": {},
    "colab_type": "code",
    "id": "szxUCjn3BoF2"
   },
   "outputs": [],
   "source": [
    "# Calculates number of passengers which age is more than \"limit\" age applying differential privacy.\n",
    "def private_count_above(privacy_budget: float, limit: int) -> int:\n",
    "    x = Count(privacy_budget, dtype=\"float\")\n",
    "    return x.quick_result(list(df[df.Age > limit][\"Age\"]))"
   ]
  },
  {
   "cell_type": "code",
   "execution_count": 19,
   "metadata": {
    "colab": {
     "base_uri": "https://localhost:8080/",
     "height": 52
    },
    "colab_type": "code",
    "id": "rdb9-tSZCb4o",
    "outputId": "a5a82df4-1e05-4644-d802-a1a3bbd1f6e2"
   },
   "outputs": [
    {
     "name": "stdout",
     "output_type": "stream",
     "text": [
      "Above 70:\t6\n",
      "private count above:\t6\n"
     ]
    }
   ],
   "source": [
    "print(\"Above 70:\\t\" + str(count_above(70)))\n",
    "print(\"private count above:\\t\" + str(private_count_above(1, 70)))"
   ]
  },
  {
   "cell_type": "markdown",
   "metadata": {
    "colab_type": "text",
    "id": "0QucKsqtKZOc"
   },
   "source": [
    "### Q6: How many passengers are younger than a certain age?"
   ]
  },
  {
   "cell_type": "code",
   "execution_count": 20,
   "metadata": {
    "colab": {},
    "colab_type": "code",
    "id": "CTFKjvRGKfYO"
   },
   "outputs": [],
   "source": [
    "# Calculates number of passengers which age is less than \"limit\" age without applying differential privacy.\n",
    "def count_below(limit: int) -> int:\n",
    "    return df[df.Age < limit].count()[0]"
   ]
  },
  {
   "cell_type": "code",
   "execution_count": 21,
   "metadata": {
    "colab": {},
    "colab_type": "code",
    "id": "dnSqbhkzKhWH"
   },
   "outputs": [],
   "source": [
    "# Calculates number of passengers which age is less than \"limit\" age applying differential privacy.\n",
    "def private_count_below(privacy_budget: float, limit: int) -> int:\n",
    "    x = Count(privacy_budget, dtype=\"float\")\n",
    "    return x.quick_result(list(df[df.Age < limit][\"Age\"]))"
   ]
  },
  {
   "cell_type": "code",
   "execution_count": 22,
   "metadata": {
    "colab": {
     "base_uri": "https://localhost:8080/",
     "height": 52
    },
    "colab_type": "code",
    "id": "Vseb_F5wKjf7",
    "outputId": "6d9e76b1-bc32-4039-bf45-a3acbe3fddcb"
   },
   "outputs": [
    {
     "name": "stdout",
     "output_type": "stream",
     "text": [
      "Below 21:\t257\n",
      "private count below:\t258\n"
     ]
    }
   ],
   "source": [
    "print(\"Below 21:\\t\" + str(count_below(21)))\n",
    "print(\"private count below:\\t\" + str(private_count_below(1, 21)))"
   ]
  },
  {
   "cell_type": "markdown",
   "metadata": {
    "colab_type": "text",
    "id": "q8BCQtUg5Juf"
   },
   "source": [
    "### Q7: What is the average fare of the passengers?"
   ]
  },
  {
   "cell_type": "markdown",
   "metadata": {
    "colab_type": "text",
    "id": "MJZXfkDw5Jum"
   },
   "source": [
    "Consider the scenario that after the Tradegy, you are doing the data analysis for the local newspaper on the people who have survived. We divide the data into two bins, survived and not-survived. \n",
    "\n",
    "In the surived subset:"
   ]
  },
  {
   "cell_type": "code",
   "execution_count": 23,
   "metadata": {
    "colab": {
     "base_uri": "https://localhost:8080/",
     "height": 34
    },
    "colab_type": "code",
    "id": "shYzg_sEQTJj",
    "outputId": "56756e25-7bb8-47c2-9dec-cf2f4a804739"
   },
   "outputs": [
    {
     "data": {
      "text/plain": [
       "891"
      ]
     },
     "execution_count": 23,
     "metadata": {},
     "output_type": "execute_result"
    }
   ],
   "source": [
    "#Total number of passengers\n",
    "df.Survived.count()"
   ]
  },
  {
   "cell_type": "code",
   "execution_count": 24,
   "metadata": {
    "colab": {
     "base_uri": "https://localhost:8080/",
     "height": 34
    },
    "colab_type": "code",
    "id": "DebK6Q_yRqEz",
    "outputId": "58a317de-0f9d-446a-f852-0e439b01805b"
   },
   "outputs": [
    {
     "data": {
      "text/plain": [
       "342"
      ]
     },
     "execution_count": 24,
     "metadata": {},
     "output_type": "execute_result"
    }
   ],
   "source": [
    "#Total number of passengers who survived\n",
    "np.sum(df['Survived'] == 1)"
   ]
  },
  {
   "cell_type": "code",
   "execution_count": 25,
   "metadata": {
    "colab": {
     "base_uri": "https://localhost:8080/",
     "height": 34
    },
    "colab_type": "code",
    "id": "TbvL5HtiRvRe",
    "outputId": "3682a4ac-7d57-4510-d8ed-1308b19731d6"
   },
   "outputs": [
    {
     "data": {
      "text/plain": [
       "549"
      ]
     },
     "execution_count": 25,
     "metadata": {},
     "output_type": "execute_result"
    }
   ],
   "source": [
    "#Total number of passengers who didn't survive\n",
    "np.sum(df['Survived'] == 0)"
   ]
  },
  {
   "cell_type": "code",
   "execution_count": 26,
   "metadata": {
    "colab": {
     "base_uri": "https://localhost:8080/",
     "height": 288
    },
    "colab_type": "code",
    "id": "K2IhEHXcQC1w",
    "outputId": "98a4744f-2626-4f9a-f402-a95b550a8b4e"
   },
   "outputs": [
    {
     "data": {
      "image/png": "[encoded data removed]",
      "text/plain": [
       "<Figure size 432x288 with 1 Axes>"
      ]
     },
     "metadata": {
      "needs_background": "light"
     },
     "output_type": "display_data"
    }
   ],
   "source": [
    "sns.countplot(x='Survived', data=df, palette='hls', hue='Survived')\n",
    "plt.xticks(rotation=45)\n",
    "plt.show()"
   ]
  },
  {
   "cell_type": "code",
   "execution_count": 27,
   "metadata": {
    "colab": {
     "base_uri": "https://localhost:8080/",
     "height": 288
    },
    "colab_type": "code",
    "id": "Y0igWAC0Oh9-",
    "outputId": "3db7e658-55b9-43e5-bacc-ca1af39b7abe"
   },
   "outputs": [
    {
     "data": {
      "image/png": "[encoded data removed]",
      "text/plain": [
       "<Figure size 432x288 with 1 Axes>"
      ]
     },
     "metadata": {
      "needs_background": "light"
     },
     "output_type": "display_data"
    }
   ],
   "source": [
    "sns.barplot(x='Survived', y='Fare', data=df, estimator=np.mean, ci=None, palette='Blues_d')\n",
    "plt.xticks(rotation=45)\n",
    "plt.show()"
   ]
  },
  {
   "cell_type": "code",
   "execution_count": 28,
   "metadata": {
    "colab": {},
    "colab_type": "code",
    "id": "PZ0LMD4TmiPE"
   },
   "outputs": [],
   "source": [
    "#Create the booleans mask for the two subsets\n",
    "Not_survived_passengers = df['Survived'] == 0\n",
    "Survived_passengers = df['Survived'] == 1"
   ]
  },
  {
   "cell_type": "markdown",
   "metadata": {
    "colab_type": "text",
    "id": "EdIMcmrV5Jup"
   },
   "source": [
    "### Q8: we want to find the mean of the fare they paid\n",
    "\n",
    "\n"
   ]
  },
  {
   "cell_type": "code",
   "execution_count": 30,
   "metadata": {
    "colab": {},
    "colab_type": "code",
    "id": "bYNk8BFubixM"
   },
   "outputs": [],
   "source": [
    "#Calculates passenger age mean without applying differential privacy\n",
    "def mean_fare() -> float:\n",
    "    return df.groupby('Survived')['Fare'].mean()"
   ]
  },
  {
   "cell_type": "code",
   "execution_count": 31,
   "metadata": {
    "colab": {},
    "colab_type": "code",
    "id": "L8IxHh05iVwa"
   },
   "outputs": [],
   "source": [
    "#Calculates passenger age mean applying differential privacy\n",
    "def private_mean_s_fare(privacy_budget: float) -> float:\n",
    "        x = BoundedMean(privacy_budget, 0, 600, dtype=\"float\")\n",
    "        return x.quick_result(list(df.loc[Not_survived_passengers, 'Fare']))"
   ]
  },
  {
   "cell_type": "code",
   "execution_count": 32,
   "metadata": {
    "colab": {},
    "colab_type": "code",
    "id": "qFGS0357foiX"
   },
   "outputs": [],
   "source": [
    "#Calculates passenger age mean applying differential privacy\n",
    "def private_mean_ns_fare(privacy_budget: float) -> float:\n",
    "        x = BoundedMean(privacy_budget, 0, 600, dtype=\"float\")\n",
    "        return x.quick_result(list(df.loc[Survived_passengers, 'Fare']))"
   ]
  },
  {
   "cell_type": "code",
   "execution_count": 33,
   "metadata": {
    "colab": {
     "base_uri": "https://localhost:8080/",
     "height": 121
    },
    "colab_type": "code",
    "id": "tOiJymaAcO2U",
    "outputId": "be56bf94-88f6-4b77-fbf9-c1f661d5780d"
   },
   "outputs": [
    {
     "name": "stdout",
     "output_type": "stream",
     "text": [
      "Mean:  Survived\n",
      "0.0    22.117887\n",
      "1.0    48.395408\n",
      "Name: Fare, dtype: float64\n",
      "Private Mean Not Survivors:  22.169119176815116\n",
      "Private Mean Survivors:  43.99882302679043\n"
     ]
    }
   ],
   "source": [
    "#Without DP\n",
    "print(\"Mean: \", mean_fare())\n",
    "\n",
    "#With DP\n",
    "print(\"Private Mean Not Survivors: \", private_mean_s_fare(0.8))\n",
    "print(\"Private Mean Survivors: \", private_mean_ns_fare(0.8))"
   ]
  },
  {
   "cell_type": "markdown",
   "metadata": {
    "colab_type": "text",
    "id": "l5SMEFs3IH-m"
   },
   "source": [
    "### Q9: we want to find the median of fare they paid\n"
   ]
  },
  {
   "cell_type": "code",
   "execution_count": 38,
   "metadata": {
    "colab": {},
    "colab_type": "code",
    "id": "AUseZr1wpIS-"
   },
   "outputs": [],
   "source": [
    "#Calculates passenger age mean without applying differential privacy\n",
    "def median_fare() -> float:\n",
    "    return df.groupby('Survived')['Fare'].median()"
   ]
  },
  {
   "cell_type": "code",
   "execution_count": 39,
   "metadata": {
    "colab": {},
    "colab_type": "code",
    "id": "3zrYhCo9pICF"
   },
   "outputs": [],
   "source": [
    "#Calculates passenger age mean applying differential privacy\n",
    "def private_median_s_fare(privacy_budget: float) -> float:\n",
    "        x = Median(privacy_budget, 0, 600, dtype=\"float\")\n",
    "        return x.quick_result(list(df.loc[Not_survived_passengers, 'Fare']))"
   ]
  },
  {
   "cell_type": "code",
   "execution_count": 40,
   "metadata": {
    "colab": {},
    "colab_type": "code",
    "id": "bn1NTh1YpHq5"
   },
   "outputs": [],
   "source": [
    "#Calculates passenger age mean applying differential privacy\n",
    "def private_median_ns_fare(privacy_budget: float) -> float:\n",
    "        x = Median(privacy_budget, 0, 600, dtype=\"float\")\n",
    "        return x.quick_result(list(df.loc[Survived_passengers, 'Fare']))"
   ]
  },
  {
   "cell_type": "code",
   "execution_count": 41,
   "metadata": {
    "colab": {
     "base_uri": "https://localhost:8080/",
     "height": 121
    },
    "colab_type": "code",
    "id": "h5rbYoJopONI",
    "outputId": "a28d8f8d-1edd-4202-d90d-a5df9290424b"
   },
   "outputs": [
    {
     "name": "stdout",
     "output_type": "stream",
     "text": [
      "Median Deviation:  Survived\n",
      "0.0    10.5\n",
      "1.0    26.0\n",
      "Name: Fare, dtype: float64\n",
      "Private Median Not Survivors:  10.31126238011151\n",
      "Private Median Survivors:  26.133972047174943\n"
     ]
    }
   ],
   "source": [
    "#Without DP\n",
    "print(\"Median Deviation: \", median_fare())\n",
    "\n",
    "#With DP\n",
    "print(\"Private Median Not Survivors: \", private_median_s_fare(0.8))\n",
    "print(\"Private Median Survivors: \", private_median_ns_fare(0.8))"
   ]
  },
  {
   "cell_type": "markdown",
   "metadata": {
    "colab_type": "text",
    "id": "o1eaRBl05Jus"
   },
   "source": [
    "### Q10: we want to find the deviation of fare they paid"
   ]
  },
  {
   "cell_type": "code",
   "execution_count": 44,
   "metadata": {
    "colab": {},
    "colab_type": "code",
    "id": "o8e32DwQHlrF"
   },
   "outputs": [],
   "source": [
    "#Calculates passenger age mean without applying differential privacy\n",
    "def std_fare() -> float:\n",
    "    return df.groupby('Survived')['Fare'].std()"
   ]
  },
  {
   "cell_type": "code",
   "execution_count": 45,
   "metadata": {
    "colab": {},
    "colab_type": "code",
    "id": "5smfdMBsmeAN"
   },
   "outputs": [],
   "source": [
    "#Calculates passenger age mean applying differential privacy\n",
    "def private_std_s_fare(privacy_budget: float) -> float:\n",
    "        x = BoundedStandardDeviation(privacy_budget, 0, 600,dtype=\"float\")\n",
    "        return x.quick_result(list(df.loc[Not_survived_passengers, 'Fare']))"
   ]
  },
  {
   "cell_type": "code",
   "execution_count": 46,
   "metadata": {
    "colab": {},
    "colab_type": "code",
    "id": "MdtEOaurn80A"
   },
   "outputs": [],
   "source": [
    "#Calculates passenger age mean applying differential privacy\n",
    "def private_std_ns_fare(privacy_budget: float) -> float:\n",
    "        x = BoundedStandardDeviation(privacy_budget, 0, 600,dtype=\"float\")\n",
    "        return x.quick_result(list(df.loc[Survived_passengers, 'Fare']))"
   ]
  },
  {
   "cell_type": "code",
   "execution_count": 47,
   "metadata": {
    "colab": {
     "base_uri": "https://localhost:8080/",
     "height": 121
    },
    "colab_type": "code",
    "id": "sRi53342oGhd",
    "outputId": "dd17a5c5-a638-434d-a5cf-c8eb4710d1c8"
   },
   "outputs": [
    {
     "name": "stdout",
     "output_type": "stream",
     "text": [
      "Standard Deviation:  Survived\n",
      "0.0    31.388207\n",
      "1.0    66.596998\n",
      "Name: Fare, dtype: float64\n",
      "Private Std Not Survivors:  97.61756362553395\n",
      "Private Std Survivors:  110.33030540835027\n"
     ]
    }
   ],
   "source": [
    "#Without DP\n",
    "print(\"Standard Deviation: \", std_fare())\n",
    "\n",
    "#With DP\n",
    "print(\"Private Std Not Survivors: \", private_std_s_fare(0.8))\n",
    "print(\"Private Std Survivors: \", private_std_ns_fare(0.8))"
   ]
  },
  {
   "cell_type": "code",
   "execution_count": null,
   "metadata": {},
   "outputs": [],
   "source": []
  }
 ],
 "metadata": {
  "colab": {
   "name": "titanic_notebook.ipynb",
   "provenance": [],
   "toc_visible": true
  },
  "kernelspec": {
   "display_name": "Python 3",
   "language": "python",
   "name": "python3"
  },
  "language_info": {
   "codemirror_mode": {
    "name": "ipython",
    "version": 3
   },
   "file_extension": ".py",
   "mimetype": "text/x-python",
   "name": "python",
   "nbconvert_exporter": "python",
   "pygments_lexer": "ipython3",
   "version": "3.8.5"
  }
 },
 "nbformat": 4,
 "nbformat_minor": 1
}
