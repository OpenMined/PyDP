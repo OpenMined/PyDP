{
 "cells": [
  {
   "cell_type": "markdown",
   "metadata": {},
   "source": [
    "# Example using Subsample and Aggregate\n",
    "\n",
    "This implements the same aggregate statistics performed \"carrots_demo.ipynb\" notebook , but instead uses Subsample and aggregate to answer queries.Subsample and aggregate is a prominent DP mechanism that reduces the effect of any individual datapoint. It works by splitting the dataset into n number of samples , computing the desired query on each of the samples and aggregating the results of the query and then adding noise to the answer of the subsamples scaled to sensitivity of each of these subsamples. "
   ]
  },
  {
   "cell_type": "code",
   "execution_count": null,
   "metadata": {
    "colab": {
     "base_uri": "https://localhost:8080/",
     "height": 102
    },
    "colab_type": "code",
    "executionInfo": {
     "elapsed": 8271,
     "status": "ok",
     "timestamp": 1587961311947,
     "user": {
      "displayName": "Ben Szymkow",
      "photoUrl": "https://lh3.googleusercontent.com/a-/AOh14Gj8JCwpOTvlaeImB7WktdTucJJTZ_kDAprKpf_sOA=s64",
      "userId": "08454492702843508366"
     },
     "user_tz": -600
    },
    "id": "h67VRxjSSQ9b",
    "outputId": "6da55f3e-cfb8-4503-a179-ec2613a7f8bd"
   },
   "outputs": [],
   "source": [
    "# Install the PyDP package\n",
    "! pip install python-dp"
   ]
  },
  {
   "cell_type": "code",
   "execution_count": 3,
   "metadata": {
    "colab": {},
    "colab_type": "code",
    "id": "ipGLypbRTDSc"
   },
   "outputs": [],
   "source": [
    "import pydp as dp # by convention our package is to be imported as dp (for Differential Privacy!)\n",
    "from pydp.algorithms.laplacian import BoundedSum, BoundedMean, Count, Max\n",
    "import pandas as pd\n",
    "import statistics # for calculating mean without applying differential privacy"
   ]
  },
  {
   "cell_type": "markdown",
   "metadata": {},
   "source": [
    "## Data\n",
    "\n",
    "Each row in `animals_and_carrots.csv` is composed of the name of an animal, and\n",
    "the number of carrots it has eaten, comma-separated.\n"
   ]
  },
  {
   "cell_type": "code",
   "execution_count": 4,
   "metadata": {
    "colab": {
     "base_uri": "https://localhost:8080/",
     "height": 204
    },
    "colab_type": "code",
    "executionInfo": {
     "elapsed": 1171,
     "status": "ok",
     "timestamp": 1587961449410,
     "user": {
      "displayName": "Ben Szymkow",
      "photoUrl": "https://lh3.googleusercontent.com/a-/AOh14Gj8JCwpOTvlaeImB7WktdTucJJTZ_kDAprKpf_sOA=s64",
      "userId": "08454492702843508366"
     },
     "user_tz": -600
    },
    "id": "jM3luaaKSQ9h",
    "outputId": "de008de4-f261-47ef-de5a-d33d23792c9d"
   },
   "outputs": [
    {
     "data": {
      "text/html": [
       "<div>\n",
       "<style scoped>\n",
       "    .dataframe tbody tr th:only-of-type {\n",
       "        vertical-align: middle;\n",
       "    }\n",
       "\n",
       "    .dataframe tbody tr th {\n",
       "        vertical-align: top;\n",
       "    }\n",
       "\n",
       "    .dataframe thead th {\n",
       "        text-align: right;\n",
       "    }\n",
       "</style>\n",
       "<table border=\"1\" class=\"dataframe\">\n",
       "  <thead>\n",
       "    <tr style=\"text-align: right;\">\n",
       "      <th></th>\n",
       "      <th>animal</th>\n",
       "      <th>carrots_eaten</th>\n",
       "    </tr>\n",
       "  </thead>\n",
       "  <tbody>\n",
       "    <tr>\n",
       "      <th>0</th>\n",
       "      <td>Aardvark</td>\n",
       "      <td>1</td>\n",
       "    </tr>\n",
       "    <tr>\n",
       "      <th>1</th>\n",
       "      <td>Albatross</td>\n",
       "      <td>88</td>\n",
       "    </tr>\n",
       "    <tr>\n",
       "      <th>2</th>\n",
       "      <td>Alligator</td>\n",
       "      <td>35</td>\n",
       "    </tr>\n",
       "    <tr>\n",
       "      <th>3</th>\n",
       "      <td>Alpaca</td>\n",
       "      <td>99</td>\n",
       "    </tr>\n",
       "    <tr>\n",
       "      <th>4</th>\n",
       "      <td>Ant</td>\n",
       "      <td>69</td>\n",
       "    </tr>\n",
       "  </tbody>\n",
       "</table>\n",
       "</div>"
      ],
      "text/plain": [
       "      animal  carrots_eaten\n",
       "0   Aardvark              1\n",
       "1  Albatross             88\n",
       "2  Alligator             35\n",
       "3     Alpaca             99\n",
       "4        Ant             69"
      ]
     },
     "execution_count": 4,
     "metadata": {},
     "output_type": "execute_result"
    }
   ],
   "source": [
    "# get carrots data from our public github repo\n",
    "url = 'https://raw.githubusercontent.com/OpenMined/PyDP/dev/examples/carrots_demo/animals_and_carrots.csv'\n",
    "df = pd.read_csv(url,sep=\",\", names=[\"animal\", \"carrots_eaten\"])\n",
    "df.head()"
   ]
  },
  {
   "cell_type": "code",
   "execution_count": 10,
   "metadata": {},
   "outputs": [],
   "source": [
    "def create_samples(dataframe,n):\n",
    "    \n",
    "    samples=[]\n",
    "    \n",
    "    length=len(dataframe)\n",
    "    sample_size=int(length/n)\n",
    "    \n",
    "    for sample in range(0,length,sample_size):\n",
    "        \n",
    "        samples.append(dataframe[sample:sample+sample_size])\n",
    "        \n",
    "    return samples"
   ]
  },
  {
   "cell_type": "code",
   "execution_count": 12,
   "metadata": {},
   "outputs": [],
   "source": [
    "df_samples=create_samples(df,10)"
   ]
  },
  {
   "cell_type": "markdown",
   "metadata": {},
   "source": [
    "Taking the mean of all the entries in a normal fashion without applying the DP library. This is the actual mean of all the records."
   ]
  },
  {
   "cell_type": "markdown",
   "metadata": {},
   "source": [
    "## Per-animal Privacy\n",
    "\n",
    "Notice that each animal owns at most one row in the data. This means that we\n",
    "provide per-animal privacy. Suppose that some animal appears multiple times in\n",
    "the csv file. That animal would own more than one row in the data. In this case,\n",
    "using this DP library would not guarantee per-animal privacy! The animals would\n",
    "first have to pre-process their data in a way such that each animal doesn't own\n",
    "more than one row.\n"
   ]
  },
  {
   "cell_type": "markdown",
   "metadata": {},
   "source": [
    "<h2>Mean</h2>"
   ]
  },
  {
   "cell_type": "code",
   "execution_count": 22,
   "metadata": {},
   "outputs": [],
   "source": [
    "# calculates mean without applying differential privacy\n",
    "def mean_carrots() -> float:\n",
    "\n",
    "    return statistics.mean(list(df[\"carrots_eaten\"]))"
   ]
  },
  {
   "cell_type": "code",
   "execution_count": 23,
   "metadata": {
    "colab": {},
    "colab_type": "code",
    "id": "5_pUyyKzW1YC"
   },
   "outputs": [],
   "source": [
    "# calculates mean without applying differential privacy\n",
    "def subsample_mean_carrots() -> float:\n",
    "        \n",
    "    sample_means=[]\n",
    "        \n",
    "    for sample in df_samples:\n",
    "            \n",
    "        sample_means.append(statistics.mean(list(sample[\"carrots_eaten\"])))\n",
    "            \n",
    "    return sample_means"
   ]
  },
  {
   "cell_type": "code",
   "execution_count": 27,
   "metadata": {},
   "outputs": [
    {
     "name": "stdout",
     "output_type": "stream",
     "text": [
      "Mean of entire dataframe: 53.01648351648352\n"
     ]
    }
   ],
   "source": [
    "print(\"Mean of entire dataframe:\",mean_carrots())"
   ]
  },
  {
   "cell_type": "code",
   "execution_count": 29,
   "metadata": {},
   "outputs": [
    {
     "name": "stdout",
     "output_type": "stream",
     "text": [
      "Mean of means calculated on subsamples: 51.43939393939394\n"
     ]
    }
   ],
   "source": [
    "subsample_mean=subsample_mean_carrots()\n",
    "print(\"Mean of means calculated on subsamples:\",statistics.mean(subsample_mean))"
   ]
  },
  {
   "cell_type": "code",
   "execution_count": 34,
   "metadata": {
    "colab": {},
    "colab_type": "code",
    "id": "0AMReuBXTaLV"
   },
   "outputs": [],
   "source": [
    "# calculates mean applying differential privacy\n",
    "def private_mean(privacy_budget: float) -> float:\n",
    "    x = BoundedMean(privacy_budget, 1, 100,dtype=\"float\")\n",
    "    return x.quick_result(subsample_mean)"
   ]
  },
  {
   "cell_type": "code",
   "execution_count": 35,
   "metadata": {},
   "outputs": [
    {
     "data": {
      "text/plain": [
       "64.23598258095826"
      ]
     },
     "execution_count": 35,
     "metadata": {},
     "output_type": "execute_result"
    }
   ],
   "source": [
    "private_mean(0.7)"
   ]
  },
  {
   "cell_type": "markdown",
   "metadata": {},
   "source": [
    "<h2>Count Above</h2>"
   ]
  },
  {
   "cell_type": "code",
   "execution_count": 38,
   "metadata": {},
   "outputs": [],
   "source": [
    "# Calculates number of animals who ate more than \"limit\" carrots without applying differential privacy.\n",
    "def count_above(limit: int) -> int:\n",
    "    return df[df.carrots_eaten > limit].count()[0]"
   ]
  },
  {
   "cell_type": "code",
   "execution_count": 39,
   "metadata": {},
   "outputs": [],
   "source": [
    "# calculates mean without applying differential privacy\n",
    "def subsample_count_above(limit) -> float:\n",
    "        \n",
    "    sample_means=[]\n",
    "        \n",
    "    for sample in df_samples:\n",
    "            \n",
    "        sample_means.append(sample[sample.carrots_eaten > limit].count()[0])\n",
    "            \n",
    "    return sample_means"
   ]
  },
  {
   "cell_type": "code",
   "execution_count": 40,
   "metadata": {},
   "outputs": [
    {
     "name": "stdout",
     "output_type": "stream",
     "text": [
      "Count above 70:  65\n"
     ]
    }
   ],
   "source": [
    "print(\"Count above 70: \",count_above(70))"
   ]
  },
  {
   "cell_type": "code",
   "execution_count": 44,
   "metadata": {
    "scrolled": true
   },
   "outputs": [
    {
     "name": "stdout",
     "output_type": "stream",
     "text": [
      "Subsample count above 70:  65\n"
     ]
    }
   ],
   "source": [
    "subsample_count=subsample_count_above(70)\n",
    "print(\"Subsample count above 70: \",sum(subsample_count))"
   ]
  },
  {
   "cell_type": "code",
   "execution_count": 7,
   "metadata": {},
   "outputs": [],
   "source": [
    "# Calculates number of animals who ate more than \"limit\" carrots applying differential privacy.\n",
    "def private_count_above(privacy_budget: float, limit: int) -> int:\n",
    "    x = Count(privacy_budget, dtype=\"int\")\n",
    "    return x.quick_result(list(df[df.carrots_eaten > limit][\"carrots_eaten\"]))"
   ]
  },
  {
   "cell_type": "code",
   "execution_count": 8,
   "metadata": {},
   "outputs": [
    {
     "name": "stdout",
     "output_type": "stream",
     "text": [
      "Above 70:\t65\n",
      "private count above:\t64\n"
     ]
    }
   ],
   "source": [
    "print(\"Above 70:\\t\" + str(count_above(70)))\n",
    "print(\"private count above:\\t\" + str(private_count_above(1, 70)))"
   ]
  },
  {
   "cell_type": "markdown",
   "metadata": {},
   "source": [
    "<h2>Max</h2>"
   ]
  },
  {
   "cell_type": "code",
   "execution_count": 46,
   "metadata": {},
   "outputs": [],
   "source": [
    "# Function to return the maximum of the number of carrots eaten by any one animal without appyling differential privacy.\n",
    "def max() -> int:\n",
    "    return df.max()[1]"
   ]
  },
  {
   "cell_type": "code",
   "execution_count": 47,
   "metadata": {},
   "outputs": [],
   "source": [
    "# calculates mean without applying differential privacy\n",
    "def subsample_count_max() -> float:\n",
    "        \n",
    "    sample_means=[]\n",
    "        \n",
    "    for sample in df_samples:\n",
    "            \n",
    "        sample_means.append(sample.max()[1])\n",
    "            \n",
    "    return sample_means"
   ]
  },
  {
   "cell_type": "code",
   "execution_count": 48,
   "metadata": {},
   "outputs": [
    {
     "name": "stdout",
     "output_type": "stream",
     "text": [
      "Max:  100\n"
     ]
    }
   ],
   "source": [
    "print(\"Max: \",max())"
   ]
  },
  {
   "cell_type": "code",
   "execution_count": null,
   "metadata": {},
   "outputs": [],
   "source": []
  },
  {
   "cell_type": "code",
   "execution_count": 10,
   "metadata": {},
   "outputs": [],
   "source": [
    "# Function to return the maximum of the number of carrots eaten by any one animal appyling differential privacy.\n",
    "def private_max(privacy_budget: float) -> int:\n",
    "    # 0 and 150 are the upper and lower limits for the search bound.\n",
    "    x = Max(privacy_budget, 0, 100, dtype=\"int\")\n",
    "    return x.quick_result(list(df[\"carrots_eaten\"]))"
   ]
  },
  {
   "cell_type": "code",
   "execution_count": 11,
   "metadata": {},
   "outputs": [
    {
     "name": "stdout",
     "output_type": "stream",
     "text": [
      "Max:\t100\n",
      "private max:\t78.0\n"
     ]
    }
   ],
   "source": [
    "print(\"Max:\\t\" + str(max()))\n",
    "print(\"private max:\\t\" + str(private_max(1)))"
   ]
  },
  {
   "cell_type": "markdown",
   "metadata": {},
   "source": [
    "<h2>Sum</h2>"
   ]
  },
  {
   "cell_type": "code",
   "execution_count": 58,
   "metadata": {},
   "outputs": [],
   "source": [
    "# Function to calculate sum of carrots eaten without applying differential privacy.\n",
    "def sum_carrots() -> int:\n",
    "    return df.sum()[1]"
   ]
  },
  {
   "cell_type": "code",
   "execution_count": 59,
   "metadata": {},
   "outputs": [],
   "source": [
    "def subsample_sum() -> float:\n",
    "        \n",
    "    sample_means=[]\n",
    "        \n",
    "    for sample in df_samples:\n",
    "            \n",
    "        sample_means.append(sample.sum()[1])\n",
    "            \n",
    "    return sample_means"
   ]
  },
  {
   "cell_type": "code",
   "execution_count": 60,
   "metadata": {},
   "outputs": [
    {
     "name": "stdout",
     "output_type": "stream",
     "text": [
      "Sum:\t9649\n"
     ]
    }
   ],
   "source": [
    "print(\"Sum:\\t\" + str(sum_carrots()))"
   ]
  },
  {
   "cell_type": "code",
   "execution_count": 61,
   "metadata": {},
   "outputs": [
    {
     "name": "stdout",
     "output_type": "stream",
     "text": [
      "Sum of subsamples 9649\n"
     ]
    }
   ],
   "source": [
    "samples_sum=subsample_sum()\n",
    "print(\"Sum of subsamples\",sum(samples_sum))"
   ]
  },
  {
   "cell_type": "code",
   "execution_count": 50,
   "metadata": {},
   "outputs": [],
   "source": [
    "# Function to calculate sum of carrots eaten applying differential privacy.\n",
    "def private_sum(privacy_budget: float) -> int:\n",
    "    x = BoundedSum(privacy_budget,1,100, dtype=\"float\")\n",
    "    return x.quick_result(list(df[\"carrots_eaten\"]))"
   ]
  }
 ],
 "metadata": {
  "colab": {
   "collapsed_sections": [],
   "name": "1.1 - Introductions to PyDP.ipynb",
   "provenance": [
    {
     "file_id": "https://github.com/OpenMined/PyDP/blob/collab/examples/notebooks/001%20-%20Private%20Mean%20with%20Medical%20Data.ipynb",
     "timestamp": 1587868929244
    }
   ]
  },
  "kernelspec": {
   "display_name": "Python 3",
   "language": "python",
   "name": "python3"
  },
  "language_info": {
   "codemirror_mode": {
    "name": "ipython",
    "version": 3
   },
   "file_extension": ".py",
   "mimetype": "text/x-python",
   "name": "python",
   "nbconvert_exporter": "python",
   "pygments_lexer": "ipython3",
   "version": "3.8.3"
  }
 },
 "nbformat": 4,
 "nbformat_minor": 4
}
