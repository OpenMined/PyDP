{
 "cells": [
  {
   "cell_type": "code",
   "execution_count": 1,
   "metadata": {
    "colab": {},
    "colab_type": "code",
    "id": "y4gpTCeMz3-T"
   },
   "outputs": [],
   "source": [
    "%matplotlib inline"
   ]
  },
  {
   "cell_type": "code",
   "execution_count": 2,
   "metadata": {
    "colab": {},
    "colab_type": "code",
    "executionInfo": {
     "elapsed": 812,
     "status": "ok",
     "timestamp": 1600694704630,
     "user": {
      "displayName": "Nathan Solon",
      "photoUrl": "",
      "userId": "15811600182781890044"
     },
     "user_tz": 240
    },
    "id": "5HJHXuo6z3-X"
   },
   "outputs": [],
   "source": [
    "import numpy as np\n",
    "import matplotlib.pyplot as plt"
   ]
  },
  {
   "cell_type": "markdown",
   "metadata": {
    "colab_type": "text",
    "id": "84VsFE-Hz3-a"
   },
   "source": [
    "## Privacy and Noise"
   ]
  },
  {
   "cell_type": "markdown",
   "metadata": {
    "colab_type": "text",
    "id": "SKGJDoulz3-b"
   },
   "source": [
    "PyDP provides a set of ε-differentially private algorithms, which can be used to produce aggregate statistics over numeric data sets containing private or sensitive information.\n",
    "\n",
    "One of the most fundamental strategies for preserving privacy is adding noise. In other words, before reporting a result from your database, you'll add a random number to it. An attacker won't be able to know exactly how much of the final result is the real answer and how much is random. The idea is kind of like scribbling over a document with a marker to hide the sensitive information underneath.\n",
    "\n",
    "But how exactly do you choose that random number? More technically, from what distribution will it be drawn?\n",
    "\n",
    "The most common choice is the [Laplace distribution](https://en.wikipedia.org/wiki/Laplace_distribution) because it works well with the privacy parameter ε. This notebook is dedicated to exploring the Laplace distribution: what it is and why it's used for differential privacy."
   ]
  },
  {
   "cell_type": "markdown",
   "metadata": {
    "colab_type": "text",
    "id": "gU9zQELHz3-b"
   },
   "source": [
    "## Exponential Distribution"
   ]
  },
  {
   "cell_type": "markdown",
   "metadata": {
    "colab_type": "text",
    "id": "gSRaoBfsz3-d"
   },
   "source": [
    "The Laplace distribution can be thought of as two exponential distributions back-to-back so let's start by looking at the exponential distribution. It can be defined as"
   ]
  },
  {
   "cell_type": "markdown",
   "metadata": {
    "colab_type": "text",
    "id": "2q1etBbNz3-e"
   },
   "source": [
    "$ f(x) = e^{-x} $"
   ]
  },
  {
   "cell_type": "markdown",
   "metadata": {
    "colab_type": "text",
    "id": "nPnfuntnz3-f"
   },
   "source": [
    "When x is zero, f(x) is one, and the bigger x gets the closer to zero the output will be. Typically this is only defined for x >= 0. It looks like this:"
   ]
  },
  {
   "cell_type": "code",
   "execution_count": 3,
   "metadata": {
    "colab": {
     "base_uri": "https://localhost:8080/",
     "height": 265
    },
    "colab_type": "code",
    "executionInfo": {
     "elapsed": 1045,
     "status": "ok",
     "timestamp": 1600694707210,
     "user": {
      "displayName": "Nathan Solon",
      "photoUrl": "",
      "userId": "15811600182781890044"
     },
     "user_tz": 240
    },
    "id": "ddf0-nl0z3-f",
    "outputId": "1028a681-c2f4-4ce8-d119-afc705f1fcc3"
   },
   "outputs": [
    {
     "data": {
      "image/png": "[encoded data removed]",
      "text/plain": [
       "<Figure size 432x288 with 1 Axes>"
      ]
     },
     "metadata": {
      "needs_background": "light"
     },
     "output_type": "display_data"
    }
   ],
   "source": [
    "x = np.arange(0,5,.01)\n",
    "plt.plot(x, np.exp(-x));"
   ]
  },
  {
   "cell_type": "markdown",
   "metadata": {
    "colab_type": "text",
    "id": "08lL-b5Az3-j"
   },
   "source": [
    "## Laplace"
   ]
  },
  {
   "cell_type": "markdown",
   "metadata": {
    "colab_type": "text",
    "id": "9gzPxRoVz3-j"
   },
   "source": [
    "To go from the exponential distribution to the Laplace distribution you take the absolute value of x and expand the range to include negative numbers."
   ]
  },
  {
   "cell_type": "code",
   "execution_count": 4,
   "metadata": {
    "colab": {},
    "colab_type": "code",
    "executionInfo": {
     "elapsed": 801,
     "status": "ok",
     "timestamp": 1600694707466,
     "user": {
      "displayName": "Nathan Solon",
      "photoUrl": "",
      "userId": "15811600182781890044"
     },
     "user_tz": 240
    },
    "id": "WqGAPTH1z3-k"
   },
   "outputs": [],
   "source": [
    "def simple_laplace(x):\n",
    "    return np.exp(-np.abs(x))"
   ]
  },
  {
   "cell_type": "code",
   "execution_count": 5,
   "metadata": {
    "colab": {
     "base_uri": "https://localhost:8080/",
     "height": 265
    },
    "colab_type": "code",
    "executionInfo": {
     "elapsed": 766,
     "status": "ok",
     "timestamp": 1600694707784,
     "user": {
      "displayName": "Nathan Solon",
      "photoUrl": "",
      "userId": "15811600182781890044"
     },
     "user_tz": 240
    },
    "id": "ct_4WQwzz3-n",
    "outputId": "58be8830-1f63-467a-a173-49416232f27f"
   },
   "outputs": [
    {
     "data": {
      "image/png": "[encoded data removed]",
      "text/plain": [
       "<Figure size 432x288 with 1 Axes>"
      ]
     },
     "metadata": {
      "needs_background": "light"
     },
     "output_type": "display_data"
    }
   ],
   "source": [
    "x = np.arange(-5,5,.01)\n",
    "plt.plot(x, simple_laplace(x));"
   ]
  },
  {
   "cell_type": "markdown",
   "metadata": {
    "colab_type": "text",
    "id": "VJcrVC1Hz3-r"
   },
   "source": [
    "In the context of privacy, the spike in the middle of the distribution means you're relatively likely to choose a number close to zero, and therefore report a result close to the actual result from the database. However, there's a  chance you could choose a bigger number, so an attacker can't be completely certain the result they're seeing is close to the real result.\n",
    "\n",
    "What if you wanted to adjust the distribution to make it more or less likely to report something close to the real result? You can do that by introducing a scaling parameter.\n",
    "\n",
    "The Laplace is typically defined with two additional parameters, μ and b:"
   ]
  },
  {
   "cell_type": "markdown",
   "metadata": {
    "colab_type": "text",
    "id": "60blurVhz3-r"
   },
   "source": [
    "$f(x\\mid \\mu ,b)={\\frac  {1}{2b}}\\exp \\left(-{\\frac  {|x-\\mu |}{b}}\\right)\\,\\!$"
   ]
  },
  {
   "cell_type": "markdown",
   "metadata": {
    "colab_type": "text",
    "id": "qTIoqLgEz3-s"
   },
   "source": [
    "μ is the mean, in other words the center, or the pointy bit. In the context of differential privacy, this would be the real result from the database, i.e., what you would report if you added zero noise.\n",
    "\n",
    "b is the scaling parameter. Increasing it \"flattens out\" the graph so that the tails account for relatively more of the total. Increasing it gives you more privacy, because by flattening out the graph you make it more likely to choose a high value for the noise, which means an attacker can be less certain that the reported result is close to the true result.\n",
    "\n",
    "You can try different values for μ and b and see how they affect the graph below."
   ]
  },
  {
   "cell_type": "code",
   "execution_count": 6,
   "metadata": {
    "colab": {},
    "colab_type": "code",
    "executionInfo": {
     "elapsed": 859,
     "status": "ok",
     "timestamp": 1600694708924,
     "user": {
      "displayName": "Nathan Solon",
      "photoUrl": "",
      "userId": "15811600182781890044"
     },
     "user_tz": 240
    },
    "id": "gNnRxQmFz3-s"
   },
   "outputs": [],
   "source": [
    "def laplace(x, μ, b):\n",
    "    return 1 / (2 * b) * np.exp(-np.abs(x - μ) / b)\n",
    "\n",
    "def plot_laplace(x, μ, b):\n",
    "    plt.plot(x, laplace(x, μ, b), label=\"μ={}, b={}\".format(μ, b))"
   ]
  },
  {
   "cell_type": "code",
   "execution_count": 7,
   "metadata": {
    "colab": {
     "base_uri": "https://localhost:8080/",
     "height": 265
    },
    "colab_type": "code",
    "executionInfo": {
     "elapsed": 966,
     "status": "ok",
     "timestamp": 1600694709259,
     "user": {
      "displayName": "Nathan Solon",
      "photoUrl": "",
      "userId": "15811600182781890044"
     },
     "user_tz": 240
    },
    "id": "Q-ukbXyKz3-v",
    "outputId": "832f6257-82ae-4525-8547-93b285c9ca93"
   },
   "outputs": [
    {
     "data": {
      "image/png": "[encoded data removed]",
      "text/plain": [
       "<Figure size 432x288 with 1 Axes>"
      ]
     },
     "metadata": {
      "needs_background": "light"
     },
     "output_type": "display_data"
    }
   ],
   "source": [
    "x = np.arange(-20, 20, 0.01)\n",
    "plot_laplace(x, -5, 4)\n",
    "plot_laplace(x, 3, 8)\n",
    "plt.legend();"
   ]
  },
  {
   "cell_type": "markdown",
   "metadata": {
    "colab_type": "text",
    "id": "KdsSS8asz3-x"
   },
   "source": [
    "## Why Laplace?"
   ]
  },
  {
   "cell_type": "markdown",
   "metadata": {
    "colab_type": "text",
    "id": "Bs_puAwsz3-x"
   },
   "source": [
    "In [ε-differential privacy](https://en.wikipedia.org/wiki/Differential_privacy#%CE%B5-differential_privacy), ε is the parameter that determines how much privacy loss is acceptable. Specifically, the *probability* that a single user was in the database that produced the result must be no more than e<sup>ε</sup> *times* the probability that they weren't.\n",
    "\n",
    "That definition is pretty confusing! We won't be going deep into the workings of differential privacy in this notebook, but if you're interested, check out [this blog post](https://desfontain.es/privacy/differential-privacy-in-more-detail.html) to learn more.\n",
    "\n",
    "The Laplace distribution plays nicely with ε because setting the b parameter in the Laplace distribution as 1/ε ensures that ε-differential privacy will be maintained. Why? Well basically, the math works out. Let's see an example with some actual numbers.\n",
    "\n",
    "Suppose you've chosen an ε of 0.5 and you do some operation on your database where you report a result of 100. How sure could an attacker be that this is the real value?\n"
   ]
  },
  {
   "cell_type": "code",
   "execution_count": 8,
   "metadata": {
    "colab": {},
    "colab_type": "code",
    "executionInfo": {
     "elapsed": 696,
     "status": "ok",
     "timestamp": 1600694711314,
     "user": {
      "displayName": "Nathan Solon",
      "photoUrl": "",
      "userId": "15811600182781890044"
     },
     "user_tz": 240
    },
    "id": "QkqFmvxVz3-x"
   },
   "outputs": [],
   "source": [
    "reported_value = 100\n",
    "ε = 0.5"
   ]
  },
  {
   "cell_type": "markdown",
   "metadata": {
    "colab_type": "text",
    "id": "-snultbsz3-0"
   },
   "source": [
    "Put yourself in the attacker's shoes. You know that 100 was reported but you don't know if it's the real value. Each potential real value gives rise to a distribution of possible reported values. For each underlying value, you can figure out how likely it would be to lead to the reported result. You would then need to ask yourself, \"How likely is it that the number I'm seeing came from each of these distributions?\" To satisfy ε differential privacy, it must be no more than e<sup>ε</sup> times as likely that the answer came from one distribution compared to another."
   ]
  },
  {
   "cell_type": "code",
   "execution_count": 9,
   "metadata": {
    "colab": {
     "base_uri": "https://localhost:8080/",
     "height": 265
    },
    "colab_type": "code",
    "executionInfo": {
     "elapsed": 942,
     "status": "ok",
     "timestamp": 1600694727981,
     "user": {
      "displayName": "Nathan Solon",
      "photoUrl": "",
      "userId": "15811600182781890044"
     },
     "user_tz": 240
    },
    "id": "i2mWSw2Qz3-1",
    "outputId": "438f87a8-2b17-47b7-b2da-1f85042b381f"
   },
   "outputs": [
    {
     "data": {
      "image/png": "[encoded data removed]",
      "text/plain": [
       "<Figure size 432x288 with 1 Axes>"
      ]
     },
     "metadata": {
      "needs_background": "light"
     },
     "output_type": "display_data"
    }
   ],
   "source": [
    "x = np.arange(95, 105, 0.1)\n",
    "dist1 = laplace(x, reported_value, 1/ε)\n",
    "dist2 = laplace(x, reported_value + 1, 1/ε)\n",
    "plt.plot(x, dist1, label=\"distribution 1\")\n",
    "plt.plot(x, dist2, label=\"distribution 2\")\n",
    "plt.axvline(x=reported_value, c='black', dashes=(1,2), label=\"reported value\")\n",
    "plt.legend()"
   ]
  },
  {
   "cell_type": "markdown",
   "metadata": {
    "colab_type": "text",
    "id": "Dg7z3jXfz3-5"
   },
   "source": [
    "In this graph the dotted line represents the reported value, and where the solid line intersects the dotted line is the chance that the value would be reported for that distribution.\n",
    "\n",
    "In this case it's more likely that the result came from distribution 1, but there is still a chance it came from distribution 2. Let's look at the probabilities that the answer came from each distribution."
   ]
  },
  {
   "cell_type": "code",
   "execution_count": 10,
   "metadata": {
    "colab": {
     "base_uri": "https://localhost:8080/",
     "height": 34
    },
    "colab_type": "code",
    "executionInfo": {
     "elapsed": 353,
     "status": "ok",
     "timestamp": 1600023212220,
     "user": {
      "displayName": "Nathan Solon",
      "photoUrl": "",
      "userId": "15811600182781890044"
     },
     "user_tz": 240
    },
    "id": "KngNbRpzz3-5",
    "outputId": "c2828330-2506-49d2-926d-85a7eb31007e"
   },
   "outputs": [
    {
     "data": {
      "text/plain": [
       "(0.25, 0.15163266492815836)"
      ]
     },
     "execution_count": 10,
     "metadata": {},
     "output_type": "execute_result"
    }
   ],
   "source": [
    "p1 = laplace(reported_value, reported_value, 1/ε)\n",
    "p2 = laplace(reported_value, reported_value + 1, 1/ε)\n",
    "p1, p2"
   ]
  },
  {
   "cell_type": "markdown",
   "metadata": {
    "colab_type": "text",
    "id": "YHKzBKSKz3-8"
   },
   "source": [
    "According to the definition of ε-differential privacy, these should not differ by a factor of more than e<sup>ε</sup>. The idea is that the more different they are, the more certain an attacker could be about which one is real. If the probabilities are very different, the attacker could be pretty sure about the real data; if they're relatively close, the attacker couldn't be very confident. By setting a limit on how much they can differ, determined by ε, you're putting a cap on how certain an attacker could be about the real data, and thus how much your users' privacy could be compromised."
   ]
  },
  {
   "cell_type": "code",
   "execution_count": 11,
   "metadata": {
    "colab": {
     "base_uri": "https://localhost:8080/",
     "height": 34
    },
    "colab_type": "code",
    "executionInfo": {
     "elapsed": 357,
     "status": "ok",
     "timestamp": 1600023213979,
     "user": {
      "displayName": "Nathan Solon",
      "photoUrl": "",
      "userId": "15811600182781890044"
     },
     "user_tz": 240
    },
    "id": "n4lplY4xz3-8",
    "outputId": "3b7db11a-f127-4f39-9590-d5c73f9eea17"
   },
   "outputs": [
    {
     "data": {
      "text/plain": [
       "(0.25, 0.25)"
      ]
     },
     "execution_count": 11,
     "metadata": {},
     "output_type": "execute_result"
    }
   ],
   "source": [
    "p1, p2 * np.exp(ε)"
   ]
  },
  {
   "cell_type": "markdown",
   "metadata": {
    "colab_type": "text",
    "id": "Ab-2L2SJz3--"
   },
   "source": [
    "Using the Laplace distribution allows you to meet the requirement exactly."
   ]
  },
  {
   "cell_type": "markdown",
   "metadata": {
    "colab_type": "text",
    "id": "fzgGonHLz3-_"
   },
   "source": [
    "## Conclusion"
   ]
  },
  {
   "cell_type": "markdown",
   "metadata": {
    "colab_type": "text",
    "id": "7fmk6wcLz3-_"
   },
   "source": [
    "To recap:\n",
    "\n",
    "* You make data private by adding noise.\n",
    "\n",
    "* The Laplace distribution is constructed by stitching together two exponential distributions.\n",
    "\n",
    "* The Laplace distribution makes it easy for you to satisfy the requirement of ε differential privacy by setting the b parameter to 1/ε."
   ]
  },
  {
   "cell_type": "code",
   "execution_count": null,
   "metadata": {
    "colab": {},
    "colab_type": "code",
    "id": "XM_K2Xkyz3_A"
   },
   "outputs": [],
   "source": []
  }
 ],
 "metadata": {
  "colab": {
   "collapsed_sections": [],
   "name": "laplace.ipynb",
   "provenance": []
  },
  "kernelspec": {
   "display_name": "Python 3",
   "language": "python",
   "name": "python3"
  },
  "language_info": {
   "codemirror_mode": {
    "name": "ipython",
    "version": 3
   },
   "file_extension": ".py",
   "mimetype": "text/x-python",
   "name": "python",
   "nbconvert_exporter": "python",
   "pygments_lexer": "ipython3",
   "version": "3.7.4"
  }
 },
 "nbformat": 4,
 "nbformat_minor": 1
}