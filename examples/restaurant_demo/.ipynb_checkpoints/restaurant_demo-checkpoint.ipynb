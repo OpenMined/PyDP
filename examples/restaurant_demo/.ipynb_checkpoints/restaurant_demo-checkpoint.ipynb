{
 "cells": [
  {
   "cell_type": "code",
   "execution_count": 1,
   "metadata": {},
   "outputs": [],
   "source": [
    "import sys  # isort:skip\n",
    "sys.path.append(\"/Users/dafirebanks/Projects/PyDP/\")  # isort:skip\n",
    "\n",
    "from collections import defaultdict\n",
    "import pandas as pd\n",
    "import pydp as dp  # our privacy library\n",
    "import statistics as s"
   ]
  },
  {
   "cell_type": "code",
   "execution_count": 93,
   "metadata": {},
   "outputs": [],
   "source": [
    "# An hour when visitors start entering the restaurant\n",
    "OPENING_HOUR = 900\n",
    "# An hour when visitors stop entering the restaurant\n",
    "CLOSING_HOUR = 2000\n",
    "\n",
    "VALID_HOURS = list(range(OPENING_HOUR, CLOSING_HOUR + 1))"
   ]
  },
  {
   "cell_type": "code",
   "execution_count": 103,
   "metadata": {},
   "outputs": [
    {
     "data": {
      "text/plain": [
       "0       9\n",
       "1      11\n",
       "2       9\n",
       "3      11\n",
       "4      10\n",
       "       ..\n",
       "443    19\n",
       "444    19\n",
       "446    19\n",
       "447    19\n",
       "449    19\n",
       "Name: Time entered, Length: 379, dtype: int64"
      ]
     },
     "execution_count": 103,
     "metadata": {},
     "output_type": "execute_result"
    }
   ],
   "source": [
    "visits[visits[\"Time entered\"].isin(VALID_HOURS)][\"Time entered\"].apply(lambda x: int(str(x)[:2]) if len(str(x)) == 4 else int(str(x)[:1]))"
   ]
  },
  {
   "cell_type": "code",
   "execution_count": 104,
   "metadata": {
    "collapsed": true,
    "jupyter": {
     "outputs_hidden": true
    }
   },
   "outputs": [
    {
     "data": {
      "text/plain": [
       "0       930\n",
       "1      1139\n",
       "2       911\n",
       "3      1137\n",
       "4      1059\n",
       "       ... \n",
       "443    1918\n",
       "444    1903\n",
       "446    1932\n",
       "447    1950\n",
       "449    1922\n",
       "Name: Time entered, Length: 379, dtype: int64"
      ]
     },
     "execution_count": 104,
     "metadata": {},
     "output_type": "execute_result"
    }
   ],
   "source": [
    "hours_count = dict()\n",
    "        \n",
    "# Only select the visits that happened during the valid hours\n",
    "valid_visits = visits[visits[\"Time entered\"].isin(VALID_HOURS)]\n",
    "\n",
    "# Only count the hours without the minutes (12:00 and 12:30 both add 1 to the 12 count)\n",
    "hours_only = valid_visits[\"Time entered\"].apply(lambda x: int(str(x)[:2]) if len(str(x)) == 4 else int(str(x)[:1]))\n",
    "\n",
    "for time in hours_only.unique():\n",
    "    hours_count[time] = hours_only[self._df[\"Time entered\"] == time].count()"
   ]
  },
  {
   "cell_type": "code",
   "execution_count": 108,
   "metadata": {},
   "outputs": [],
   "source": [
    "valid_visits = visits[visits[\"Time entered\"].isin(VALID_HOURS)]"
   ]
  },
  {
   "cell_type": "code",
   "execution_count": 111,
   "metadata": {},
   "outputs": [
    {
     "data": {
      "text/plain": [
       "0       9\n",
       "1      11\n",
       "2       9\n",
       "3      11\n",
       "4      10\n",
       "       ..\n",
       "443    19\n",
       "444    19\n",
       "446    19\n",
       "447    19\n",
       "449    19\n",
       "Name: Time entered, Length: 379, dtype: int64"
      ]
     },
     "execution_count": 111,
     "metadata": {},
     "output_type": "execute_result"
    }
   ],
   "source": []
  },
  {
   "cell_type": "code",
   "execution_count": 105,
   "metadata": {},
   "outputs": [],
   "source": [
    "visits = pd.read_csv(\"day\")"
   ]
  },
  {
   "cell_type": "code",
   "execution_count": 106,
   "metadata": {},
   "outputs": [],
   "source": [
    "visits[\"Time entered\"] = pd.to_datetime(visits[\"Time entered\"]).apply(lambda x: x.strftime(r'%H%M')).astype(int)"
   ]
  },
  {
   "cell_type": "code",
   "execution_count": 107,
   "metadata": {},
   "outputs": [
    {
     "data": {
      "text/plain": [
       "array([ 930, 1139,  911, 1137, 1059, 1040, 1113,  950, 1138, 1154, 1043,\n",
       "        908, 1111, 1122, 1014, 1133,  953, 1036, 1143,  903, 1120, 1019,\n",
       "       1054,  900,  935, 1039, 1021, 1009, 1055, 1034, 1148, 1016, 1128,\n",
       "       1123, 1135, 1142,  926, 1024, 1100,  915, 1046, 1103,  939,  916,\n",
       "       1051, 1116,  951, 1112, 1251, 1317, 1347, 1318, 1229, 1224, 1331,\n",
       "       1205, 1213, 1234, 1323, 1357, 1328, 1301, 1340, 1303, 1351, 1338,\n",
       "       1221, 1337, 1311, 1217, 1313, 1329, 1237, 1314, 1332, 1246, 1244,\n",
       "       1344, 1352, 1255, 1302, 1354, 1321, 1348, 1259, 1253, 1315, 1232,\n",
       "       1336, 1320, 1214, 1342, 1335, 1236, 1201, 1219, 1343, 1305, 1316,\n",
       "       1222, 1304, 1243, 1211, 1307, 1210, 1230, 1200, 1206, 1248, 1339,\n",
       "       1349, 1226, 1245, 1207, 1358, 1208, 1414, 1527, 1631, 1654, 1635,\n",
       "       1659, 1400, 1632, 1510, 1438, 1402, 1430, 1514, 1545, 1408, 1625,\n",
       "       1421, 1546, 1522, 1458, 1620, 1413, 1435, 1540, 1433, 1641, 1616,\n",
       "       1650, 1544, 1501, 1531, 1426, 1547, 1600, 1412, 1432, 1405, 1637,\n",
       "       1436, 1549, 1630, 1450, 1804, 1740, 1812, 1708, 1724, 1754, 1824,\n",
       "       1720, 1805, 1735, 1827, 1732, 1717, 1843, 1809, 1745, 1828, 1725,\n",
       "       1848, 1756, 1803, 1845, 1749, 1730, 1825, 1753, 1701, 1851, 1742,\n",
       "       1819, 1750, 1727, 1747, 1748, 1716, 1743, 1704, 1834, 1713, 1813,\n",
       "       1710, 1703, 1806, 1752, 1728, 1859, 1705, 1821, 1849, 1847, 1808,\n",
       "       1858, 1707, 1702, 1833, 1839, 1755, 1830, 1844, 1837, 1734, 1831,\n",
       "       1815, 1802, 1822, 1817, 1846, 1855, 1840, 1838, 1810, 1729, 1700,\n",
       "       2045, 1946, 1920, 2053, 1914, 1925, 2007, 1942, 1908, 2009, 2030,\n",
       "       1937, 2025, 2043, 2003, 1959, 1958, 1952, 2002, 1926, 1929, 2010,\n",
       "       2012, 2033, 2058, 1944, 1924, 2017, 2024, 2026, 2059, 1951, 1913,\n",
       "       1912, 2055, 1916, 2015, 1928, 1923, 2019, 1936, 2006, 1934, 2041,\n",
       "       1953, 2050, 2022, 1943, 2014, 2027, 2028, 2035, 1954, 1907, 1922,\n",
       "       1915, 2038, 2046, 1955, 2051, 1956, 2023, 1901, 1938, 2000, 1939,\n",
       "       2029, 2021, 1911, 1909, 2008, 2034, 1910, 1930, 2052, 1931, 1917,\n",
       "       2047, 1947, 2001, 1949, 2032, 2016, 2005, 2040, 1957, 1941, 2049,\n",
       "       1904, 1921, 1918, 1903, 1932, 1950])"
      ]
     },
     "execution_count": 107,
     "metadata": {},
     "output_type": "execute_result"
    }
   ],
   "source": [
    "visits[\"Time entered\"].unique()"
   ]
  },
  {
   "cell_type": "code",
   "execution_count": 77,
   "metadata": {},
   "outputs": [],
   "source": [
    "hours_count = dict()\n",
    "# valid_hours = self._df[self._df[\"Time entered\"].isin(VALID_HOURS)]\n",
    "\n",
    "for time in visits[\"Time entered\"].unique():\n",
    "    hours_count[time] = visits[visits[\"Time entered\"] == time][\"Time entered\"].count()\n"
   ]
  },
  {
   "cell_type": "code",
   "execution_count": 70,
   "metadata": {},
   "outputs": [],
   "source": [
    "import math"
   ]
  },
  {
   "cell_type": "code",
   "execution_count": 76,
   "metadata": {},
   "outputs": [],
   "source": [
    "private_hours_count = dict()\n",
    "privacy_budget = math.log(3)\n",
    "x = dp.CountInt(privacy_budget)\n",
    "\n",
    "for time in visits[\"Time entered\"].unique():\n",
    "    private_hours_count[time] = x.result(list(visits[visits[\"Time entered\"] == time][\"Time entered\"].astype(int)))"
   ]
  },
  {
   "cell_type": "code",
   "execution_count": 79,
   "metadata": {},
   "outputs": [
    {
     "data": {
      "text/plain": [
       "{'09': 14,\n",
       " '11': 17,\n",
       " '10': 19,\n",
       " '12': 39,\n",
       " '13': 63,\n",
       " '14': 21,\n",
       " '15': 13,\n",
       " '16': 15,\n",
       " '18': 52,\n",
       " '17': 47,\n",
       " '20': 72,\n",
       " '19': 77}"
      ]
     },
     "execution_count": 79,
     "metadata": {},
     "output_type": "execute_result"
    }
   ],
   "source": [
    "private_hours_count"
   ]
  },
  {
   "cell_type": "code",
   "execution_count": 80,
   "metadata": {},
   "outputs": [
    {
     "data": {
      "text/plain": [
       "{'09': 13,\n",
       " '11': 19,\n",
       " '10': 18,\n",
       " '12': 39,\n",
       " '13': 61,\n",
       " '14': 21,\n",
       " '15': 14,\n",
       " '16': 15,\n",
       " '18': 52,\n",
       " '17': 48,\n",
       " '20': 72,\n",
       " '19': 78}"
      ]
     },
     "execution_count": 80,
     "metadata": {},
     "output_type": "execute_result"
    }
   ],
   "source": [
    "hours_count"
   ]
  },
  {
   "cell_type": "code",
   "execution_count": null,
   "metadata": {},
   "outputs": [],
   "source": []
  }
 ],
 "metadata": {
  "kernelspec": {
   "display_name": "Data Science",
   "language": "python",
   "name": "dsci"
  },
  "language_info": {
   "codemirror_mode": {
    "name": "ipython",
    "version": 3
   },
   "file_extension": ".py",
   "mimetype": "text/x-python",
   "name": "python",
   "nbconvert_exporter": "python",
   "pygments_lexer": "ipython3",
   "version": "3.7.7"
  }
 },
 "nbformat": 4,
 "nbformat_minor": 4
}
