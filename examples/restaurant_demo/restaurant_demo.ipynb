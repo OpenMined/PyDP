{
 "cells": [
  {
   "cell_type": "markdown",
   "metadata": {},
   "source": [
    "# Restaurant Demo\n",
    "\n",
    "PyDP version for Google's Java Differential Privacy Library example - https://github.com/google/differential-privacy/tree/master/examples/java.\n",
    "\n",
    "Imagine a fictional restaurant owner named Alice who would like to share business statistics with her visitors. Alice knows when visitors enter the restaurant and how much time and money they spend there. To ensure that visitor's privacy is preserved, Alice decides to use the **Differential Privacy library**."
   ]
  },
  {
   "cell_type": "markdown",
   "metadata": {},
   "source": [
    "## Initial Setup"
   ]
  },
  {
   "cell_type": "code",
   "execution_count": 1,
   "metadata": {},
   "outputs": [
    {
     "name": "stdout",
     "output_type": "stream",
     "text": [
      "Requirement already satisfied: python-dp in /home/ubuntu/anaconda3/lib/python3.6/site-packages (1.0.0)\r\n"
     ]
    }
   ],
   "source": [
    "# Install the PyDP package\n",
    "! pip install python-dp"
   ]
  },
  {
   "cell_type": "code",
   "execution_count": 2,
   "metadata": {},
   "outputs": [
    {
     "name": "stdout",
     "output_type": "stream",
     "text": [
      "Setup Complete\n"
     ]
    }
   ],
   "source": [
    "import pydp as dp # by convention our package is to be imported as dp (for Differential Privacy!)\n",
    "from pydp.algorithms.laplacian import BoundedSum, Count\n",
    "import pandas as pd\n",
    "import statistics # for calculating mean without applying differential privacy\n",
    "pd.plotting.register_matplotlib_converters()\n",
    "import matplotlib.pyplot as plt\n",
    "%matplotlib inline\n",
    "import numpy as np\n",
    "import math\n",
    "print(\"Setup Complete\")"
   ]
  },
  {
   "cell_type": "markdown",
   "metadata": {},
   "source": [
    "## Count visits by hour of day"
   ]
  },
  {
   "cell_type": "markdown",
   "metadata": {},
   "source": [
    "In this example Alice wants to share this information with potential clients in order **to let them know the busiest times in the restaurant**. For this, we will ***count how many visitors enter the restaurant at every hour of a particular day***. For simplicity, assume that a visitor comes to the restaurant at most once a day. In other words, a visitor is present at most once in the whole dataset."
   ]
  },
  {
   "cell_type": "markdown",
   "metadata": {},
   "source": [
    "Visit data for a single day is stored in the **day_data.csv** file. It includes the visitor’s ID, the visit duration (in minutes), and the money spent at the restaurant."
   ]
  },
  {
   "cell_type": "code",
   "execution_count": 3,
   "metadata": {},
   "outputs": [
    {
     "data": {
      "text/html": [
       "<div>\n",
       "<style scoped>\n",
       "    .dataframe tbody tr th:only-of-type {\n",
       "        vertical-align: middle;\n",
       "    }\n",
       "\n",
       "    .dataframe tbody tr th {\n",
       "        vertical-align: top;\n",
       "    }\n",
       "\n",
       "    .dataframe thead th {\n",
       "        text-align: right;\n",
       "    }\n",
       "</style>\n",
       "<table border=\"1\" class=\"dataframe\">\n",
       "  <thead>\n",
       "    <tr style=\"text-align: right;\">\n",
       "      <th></th>\n",
       "      <th>VisitorId</th>\n",
       "      <th>Time entered</th>\n",
       "      <th>Time spent (mins)</th>\n",
       "      <th>Money spent (euros)</th>\n",
       "      <th>Day</th>\n",
       "    </tr>\n",
       "  </thead>\n",
       "  <tbody>\n",
       "    <tr>\n",
       "      <th>0</th>\n",
       "      <td>1</td>\n",
       "      <td>9:30:00 AM</td>\n",
       "      <td>26</td>\n",
       "      <td>24</td>\n",
       "      <td>1</td>\n",
       "    </tr>\n",
       "    <tr>\n",
       "      <th>1</th>\n",
       "      <td>2</td>\n",
       "      <td>11:39:00 AM</td>\n",
       "      <td>31</td>\n",
       "      <td>18</td>\n",
       "      <td>1</td>\n",
       "    </tr>\n",
       "    <tr>\n",
       "      <th>2</th>\n",
       "      <td>3</td>\n",
       "      <td>9:11:00 AM</td>\n",
       "      <td>46</td>\n",
       "      <td>22</td>\n",
       "      <td>1</td>\n",
       "    </tr>\n",
       "    <tr>\n",
       "      <th>3</th>\n",
       "      <td>4</td>\n",
       "      <td>11:37:00 AM</td>\n",
       "      <td>41</td>\n",
       "      <td>25</td>\n",
       "      <td>1</td>\n",
       "    </tr>\n",
       "    <tr>\n",
       "      <th>4</th>\n",
       "      <td>5</td>\n",
       "      <td>10:59:00 AM</td>\n",
       "      <td>25</td>\n",
       "      <td>16</td>\n",
       "      <td>1</td>\n",
       "    </tr>\n",
       "  </tbody>\n",
       "</table>\n",
       "</div>"
      ],
      "text/plain": [
       "   VisitorId Time entered  Time spent (mins)  Money spent (euros)  Day\n",
       "0          1   9:30:00 AM                 26                   24    1\n",
       "1          2  11:39:00 AM                 31                   18    1\n",
       "2          3   9:11:00 AM                 46                   22    1\n",
       "3          4  11:37:00 AM                 41                   25    1\n",
       "4          5  10:59:00 AM                 25                   16    1"
      ]
     },
     "execution_count": 3,
     "metadata": {},
     "output_type": "execute_result"
    }
   ],
   "source": [
    "url = 'https://raw.githubusercontent.com/OpenMined/PyDP/dev/examples/restaurant_demo/day_data.csv'\n",
    "df = pd.read_csv(url,sep=\",\")\n",
    "df.head()"
   ]
  },
  {
   "cell_type": "markdown",
   "metadata": {},
   "source": [
    "We want to read the daily statistics and calculate the number of *visitors* that entered the restaurant *every hour* of the day. "
   ]
  },
  {
   "cell_type": "code",
   "execution_count": 4,
   "metadata": {},
   "outputs": [
    {
     "data": {
      "text/html": [
       "<div>\n",
       "<style scoped>\n",
       "    .dataframe tbody tr th:only-of-type {\n",
       "        vertical-align: middle;\n",
       "    }\n",
       "\n",
       "    .dataframe tbody tr th {\n",
       "        vertical-align: top;\n",
       "    }\n",
       "\n",
       "    .dataframe thead th {\n",
       "        text-align: right;\n",
       "    }\n",
       "</style>\n",
       "<table border=\"1\" class=\"dataframe\">\n",
       "  <thead>\n",
       "    <tr style=\"text-align: right;\">\n",
       "      <th></th>\n",
       "      <th>VisitorId</th>\n",
       "      <th>Time entered</th>\n",
       "    </tr>\n",
       "  </thead>\n",
       "  <tbody>\n",
       "    <tr>\n",
       "      <th>0</th>\n",
       "      <td>1</td>\n",
       "      <td>9:30:00 AM</td>\n",
       "    </tr>\n",
       "    <tr>\n",
       "      <th>1</th>\n",
       "      <td>2</td>\n",
       "      <td>11:39:00 AM</td>\n",
       "    </tr>\n",
       "    <tr>\n",
       "      <th>2</th>\n",
       "      <td>3</td>\n",
       "      <td>9:11:00 AM</td>\n",
       "    </tr>\n",
       "    <tr>\n",
       "      <th>3</th>\n",
       "      <td>4</td>\n",
       "      <td>11:37:00 AM</td>\n",
       "    </tr>\n",
       "    <tr>\n",
       "      <th>4</th>\n",
       "      <td>5</td>\n",
       "      <td>10:59:00 AM</td>\n",
       "    </tr>\n",
       "  </tbody>\n",
       "</table>\n",
       "</div>"
      ],
      "text/plain": [
       "   VisitorId Time entered\n",
       "0          1   9:30:00 AM\n",
       "1          2  11:39:00 AM\n",
       "2          3   9:11:00 AM\n",
       "3          4  11:37:00 AM\n",
       "4          5  10:59:00 AM"
      ]
     },
     "execution_count": 4,
     "metadata": {},
     "output_type": "execute_result"
    }
   ],
   "source": [
    "# Get the Visitor and time entered data into new DataFrame \n",
    "cols = ['VisitorId', 'Time entered']\n",
    "new_df = df.loc[: , cols]\n",
    "new_df.head()"
   ]
  },
  {
   "cell_type": "code",
   "execution_count": 5,
   "metadata": {},
   "outputs": [
    {
     "data": {
      "text/plain": [
       "'8:09:00 PM'"
      ]
     },
     "execution_count": 5,
     "metadata": {},
     "output_type": "execute_result"
    }
   ],
   "source": [
    "# check sample data\n",
    "time = df.iloc[421,1]\n",
    "time"
   ]
  },
  {
   "cell_type": "code",
   "execution_count": 6,
   "metadata": {},
   "outputs": [
    {
     "name": "stdout",
     "output_type": "stream",
     "text": [
      "13\n"
     ]
    }
   ],
   "source": [
    "# function to convert time to 24 hrs format \n",
    "\n",
    "def convert_to_24hours(date) :\n",
    "    dateInfo = date.split(' ')     #  ['8:09:00', 'PM']\n",
    "    dateArr = dateInfo[0].split(':')  # ['8', '09', '00']\n",
    "    hour = 0\n",
    "    # for midnight\n",
    "    if ((dateInfo[1] == 'AM') and (dateArr[0] == '12')):\n",
    "        hour = 0\n",
    "    # for 12 noon\n",
    "    elif ((dateInfo[1] == 'PM') and (dateArr[0] == '12')):\n",
    "        hour = 12\n",
    "    # for AM and PM\n",
    "    elif (dateInfo[1] == 'AM') :\n",
    "        hour = int(dateArr[0])\n",
    "    else:\n",
    "        hour = int(dateArr[0]) + 12\n",
    "    return hour\n",
    "\n",
    "# check\n",
    "hour24 = convert_to_24hours('1:23:34 PM')\n",
    "print(hour24)"
   ]
  },
  {
   "cell_type": "code",
   "execution_count": 7,
   "metadata": {},
   "outputs": [
    {
     "data": {
      "text/html": [
       "<div>\n",
       "<style scoped>\n",
       "    .dataframe tbody tr th:only-of-type {\n",
       "        vertical-align: middle;\n",
       "    }\n",
       "\n",
       "    .dataframe tbody tr th {\n",
       "        vertical-align: top;\n",
       "    }\n",
       "\n",
       "    .dataframe thead th {\n",
       "        text-align: right;\n",
       "    }\n",
       "</style>\n",
       "<table border=\"1\" class=\"dataframe\">\n",
       "  <thead>\n",
       "    <tr style=\"text-align: right;\">\n",
       "      <th></th>\n",
       "      <th>VisitorId</th>\n",
       "      <th>Time entered</th>\n",
       "      <th>Partition</th>\n",
       "    </tr>\n",
       "  </thead>\n",
       "  <tbody>\n",
       "    <tr>\n",
       "      <th>445</th>\n",
       "      <td>446</td>\n",
       "      <td>8:10:00 PM</td>\n",
       "      <td>20</td>\n",
       "    </tr>\n",
       "    <tr>\n",
       "      <th>446</th>\n",
       "      <td>447</td>\n",
       "      <td>7:32:00 PM</td>\n",
       "      <td>19</td>\n",
       "    </tr>\n",
       "    <tr>\n",
       "      <th>447</th>\n",
       "      <td>448</td>\n",
       "      <td>7:50:00 PM</td>\n",
       "      <td>19</td>\n",
       "    </tr>\n",
       "    <tr>\n",
       "      <th>448</th>\n",
       "      <td>449</td>\n",
       "      <td>8:22:00 PM</td>\n",
       "      <td>20</td>\n",
       "    </tr>\n",
       "    <tr>\n",
       "      <th>449</th>\n",
       "      <td>450</td>\n",
       "      <td>7:22:00 PM</td>\n",
       "      <td>19</td>\n",
       "    </tr>\n",
       "  </tbody>\n",
       "</table>\n",
       "</div>"
      ],
      "text/plain": [
       "     VisitorId Time entered  Partition\n",
       "445        446   8:10:00 PM         20\n",
       "446        447   7:32:00 PM         19\n",
       "447        448   7:50:00 PM         19\n",
       "448        449   8:22:00 PM         20\n",
       "449        450   7:22:00 PM         19"
      ]
     },
     "execution_count": 7,
     "metadata": {},
     "output_type": "execute_result"
    }
   ],
   "source": [
    "# Create a new column called partition with hour data in the new_df\n",
    "\n",
    "partition = []\n",
    "\n",
    "for time in df['Time entered']:   # convert timings into 24hrs format\n",
    "    new = convert_to_24hours(time)\n",
    "    partition.append(new)\n",
    "\n",
    "    \n",
    "new_df['Partition'] = partition  # add new column\n",
    "new_df.tail()\n"
   ]
  },
  {
   "cell_type": "markdown",
   "metadata": {},
   "source": [
    "#### Restaurant Schedule"
   ]
  },
  {
   "cell_type": "code",
   "execution_count": 8,
   "metadata": {},
   "outputs": [],
   "source": [
    "# An hour when visitors start entering the restaurant.\n",
    "OPENING_HOUR = 9\n",
    "\n",
    "#An hour when visitors stop entering the restaurant.\n",
    "CLOSING_HOUR = 20\n",
    "\n",
    "# For how many hours visitors can enter the restaurant.\n",
    "NUM_OF_WORK_HOURS = CLOSING_HOUR - OPENING_HOUR + 1      # 12\n",
    "\n",
    "# Range of valid work hours when a visitor can enter the restaurant.\n",
    "VALID_HOURS = list(range(OPENING_HOUR, CLOSING_HOUR+1))  # [9, 10, 11, 12, 13, 14, 15, 16, 17, 18, 19, 20]"
   ]
  },
  {
   "cell_type": "markdown",
   "metadata": {},
   "source": [
    "### Explanation\n",
    "#### Partitions and contributions\n",
    "We say that the resulting aggregated data is split into partitions. The bar chart for the private and non-private counts each have 12 partitions, one for each entry hour.\n",
    "\n",
    "More generally, a single partition represents a subset of aggregated data corresponding to a given value of the aggregation criterion. Graphically, a single partition is represented as a bar on the aggregated bar chart.\n",
    "\n",
    "We say that a visitor contributes to a given partition if their data matches the partition criterion. For example, if a visitor enters between 8 AM and 9 AM, they contribute to the 8 AM partition.\n",
    "\n",
    "Recall that in the the example above, a visitor can enter the restaurant only once per day. This implies three contribution bounds:\n",
    "\n",
    "- **Maximum partitions contributed**: to how many partitions can a visitor contribute? In our example, a visitor can contribute up to one partition. In other words, there is at most one time-slot when a visitor with a given id can enter the restaurant.\n",
    "- **Maximum contributed value**: what is the maximum value that can be contributed by a visitor to a partition? In our example, we count the number of visits, so the maximum contributed value is simply 1.\n",
    "- **Maximum contributions per partition**: how many times can a visitor contribute to a partition? In our example, a visitor can contribute to a partition at most once. In other words, a visitor can enter the restaurant only once at a given hour.\n",
    "\n",
    "Why is this important? Differential Privacy adjusts the amount of noise to mask contributions of each visitor. More contributions require more noise."
   ]
  },
  {
   "cell_type": "markdown",
   "metadata": {},
   "source": [
    "### Defining Bar Plots for Original Data, Differentially Private data and their comparison"
   ]
  },
  {
   "cell_type": "code",
   "execution_count": 9,
   "metadata": {},
   "outputs": [],
   "source": [
    "# bar plot - original data\n",
    "\n",
    "def bar_plot(x,y,title,x_label,y_label):\n",
    "    plt.subplots(figsize = (8,4))\n",
    "    plt.bar(x, y, color = 'cornflowerblue')\n",
    "    axes = plt.gca()\n",
    "    axes.yaxis.grid()\n",
    "    axes.set_axisbelow(True)\n",
    "    \n",
    "    plt.title(title)\n",
    "    plt.xlabel(x_label)\n",
    "    plt.ylabel(y_label)\n",
    "    plt.xticks(x)\n",
    "    plt.show"
   ]
  },
  {
   "cell_type": "code",
   "execution_count": 10,
   "metadata": {},
   "outputs": [],
   "source": [
    "# Bar plot - differentially private data \n",
    "\n",
    "def private_bar_plot(x,y,title,x_label,y_label):\n",
    "    plt.subplots(figsize = (8,4))\n",
    "    plt.bar(x, y, color = 'orangered')\n",
    "    axes = plt.gca()\n",
    "    axes.yaxis.grid()\n",
    "    axes.set_axisbelow(True)\n",
    "    \n",
    "    plt.title(title)\n",
    "    plt.xlabel(x_label)\n",
    "    plt.ylabel(y_label)\n",
    "    plt.xticks(x)\n",
    "    plt.show"
   ]
  },
  {
   "cell_type": "code",
   "execution_count": 11,
   "metadata": {},
   "outputs": [],
   "source": [
    "# Comparison Bar plot\n",
    "\n",
    "def comparison_graph(labels, x1, x2, rect1_label, rect2_label, x_label, title):\n",
    "    x = np.arange(len(labels))  # the label locations\n",
    "    width = 0.34  # the width of the bars\n",
    "    \n",
    "    fig, ax = plt.subplots(figsize=(14,6))\n",
    "    rects1 = ax.bar(x - width/2, x1, width, label= rect1_label, color='cornflowerblue', edgecolor = 'white')\n",
    "    rects2 = ax.bar(x + width/2, x2, width, label= rect2_label, color='orangered', edgecolor = 'white')\n",
    "    axes = plt.gca()\n",
    "    axes.yaxis.grid()\n",
    "    axes.set_axisbelow(True)\n",
    "    \n",
    "    # Add some text for labels, title and custom x-axis tick labels, etc.\n",
    "    ax.set_ylabel(x_label)\n",
    "    ax.set_title(title)\n",
    "    ax.set_xticks(x)\n",
    "    ax.set_xticklabels(labels)\n",
    "    ax.legend()\n",
    "    \n",
    "    def autolabel(rects):\n",
    "        \"\"\"Attach a text label above each bar in *rects*, displaying its height.\"\"\"\n",
    "        for rect in rects:\n",
    "            height = rect.get_height()\n",
    "            ax.annotate('{}'.format(height),\n",
    "                        xy=(rect.get_x() + rect.get_width() / 2, height),\n",
    "                        xytext=(0,5),  # 3 points vertical offset\n",
    "                        textcoords=\"offset points\",\n",
    "                        ha='center', va='bottom')\n",
    "            \n",
    "\n",
    "    autolabel(rects1)\n",
    "    autolabel(rects2)\n",
    "\n",
    "    fig.tight_layout()\n",
    "\n",
    "    plt.show()  \n",
    "   "
   ]
  },
  {
   "cell_type": "markdown",
   "metadata": {},
   "source": [
    "### Count Per Hour "
   ]
  },
  {
   "cell_type": "code",
   "execution_count": 12,
   "metadata": {},
   "outputs": [
    {
     "data": {
      "text/plain": [
       "Partition\n",
       "9     13\n",
       "10    18\n",
       "11    19\n",
       "12    39\n",
       "13    61\n",
       "14    21\n",
       "15    14\n",
       "16    15\n",
       "17    48\n",
       "18    52\n",
       "19    78\n",
       "20    72\n",
       "Name: VisitorId, dtype: int64"
      ]
     },
     "execution_count": 12,
     "metadata": {},
     "output_type": "execute_result"
    }
   ],
   "source": [
    "# visitor contributes to a given partitions VALID_HOURS \n",
    "# In the given data 1 visitor contributes to only one partition as suggested by 'Maximum contributions per partition'\n",
    "\n",
    "# Count the no of visitors per hour\n",
    "count = new_df.groupby('Partition').VisitorId.count() # returns a series\n",
    "count                                                 "
   ]
  },
  {
   "cell_type": "code",
   "execution_count": 13,
   "metadata": {},
   "outputs": [
    {
     "name": "stdout",
     "output_type": "stream",
     "text": [
      "[13, 18, 19, 39, 61, 21, 14, 15, 48, 52, 78, 72]\n"
     ]
    }
   ],
   "source": [
    "# convert series to list\n",
    "count_per_hour = list(count)\n",
    "print(count_per_hour)"
   ]
  },
  {
   "cell_type": "code",
   "execution_count": 14,
   "metadata": {},
   "outputs": [
    {
     "data": {
      "image/png": "[encoded data removed]",
      "text/plain": [
       "<Figure size 576x288 with 1 Axes>"
      ]
     },
     "metadata": {},
     "output_type": "display_data"
    }
   ],
   "source": [
    "# bar_plot(x,y,title,x_label,y_label)\n",
    "\n",
    "bar_plot(VALID_HOURS, count_per_hour, \"Visitors Count per hour\", \"Partitions - Open hours\",\"Visitors\")"
   ]
  },
  {
   "cell_type": "markdown",
   "metadata": {},
   "source": [
    "### Note: The data preprocessing is done by the user, the library PyDP only helps with introducing noise to the data and making it differentially private"
   ]
  },
  {
   "cell_type": "markdown",
   "metadata": {},
   "source": [
    "### Private Count Per Hour"
   ]
  },
  {
   "cell_type": "code",
   "execution_count": 15,
   "metadata": {},
   "outputs": [],
   "source": [
    "data = new_df.groupby('Partition').VisitorId.apply(list)  \n",
    "data_list= list(data)"
   ]
  },
  {
   "cell_type": "code",
   "execution_count": 16,
   "metadata": {},
   "outputs": [
    {
     "data": {
      "text/plain": [
       "list"
      ]
     },
     "execution_count": 16,
     "metadata": {},
     "output_type": "execute_result"
    }
   ],
   "source": [
    "type(data_list)"
   ]
  },
  {
   "cell_type": "code",
   "execution_count": 17,
   "metadata": {},
   "outputs": [
    {
     "name": "stdout",
     "output_type": "stream",
     "text": [
      "[12, 19, 21, 39, 61, 20, 11, 15, 48, 51, 80, 72]\n"
     ]
    }
   ],
   "source": [
    "# Private Count visits by hour of day\n",
    "\n",
    "private_count_per_hour = []\n",
    "epsilon = math.log(3) \n",
    "\n",
    "def cal_private_count(privacy_budget: float):\n",
    "    for data in data_list:\n",
    "        x = Count(privacy_budget)        \n",
    "        count = x.quick_result(data)      # accepts list as input\n",
    "        private_count_per_hour.append(count)\n",
    "    return private_count_per_hour\n",
    "\n",
    "cal_private_count(epsilon)\n",
    "print(private_count_per_hour)"
   ]
  },
  {
   "cell_type": "code",
   "execution_count": 18,
   "metadata": {},
   "outputs": [
    {
     "data": {
      "image/png": "[encoded data removed]",
      "text/plain": [
       "<Figure size 576x288 with 1 Axes>"
      ]
     },
     "metadata": {},
     "output_type": "display_data"
    }
   ],
   "source": [
    "# private_bar_plot(x,y,title,x_label,y_label)\n",
    "\n",
    "private_bar_plot(VALID_HOURS, private_count_per_hour, \"Differentially private - Visitors Count per hour\", \"Partitions - Open hours\",\"Visitors\" )"
   ]
  },
  {
   "cell_type": "markdown",
   "metadata": {},
   "source": [
    "The image below illustrates the results. The blue (left) bars represent the counts without anonymization while orange(right) bars correspond to the private (or anonymized) counts. You can see that the private values slightly differ from the actual ones but the overall trend is preserved. For example, you can clearly see that the restaurant is more busy during lunch and dinner time."
   ]
  },
  {
   "cell_type": "code",
   "execution_count": 19,
   "metadata": {},
   "outputs": [
    {
     "data": {
      "image/png": "[encoded data removed]",
      "text/plain": [
       "<Figure size 1008x432 with 1 Axes>"
      ]
     },
     "metadata": {},
     "output_type": "display_data"
    }
   ],
   "source": [
    "# compare the results\n",
    "labels = VALID_HOURS\n",
    "x1 = count_per_hour\n",
    "x2 = private_count_per_hour\n",
    "\n",
    "# comparison_graph(labels, x1, x2, rect1_label, rect2_label, x_label, title)\n",
    "comparison_graph(labels, x1, x2, 'CountPerHour', 'PrivateCountPerHour', 'Visitors','Visitors Count per hour VS Differentially private - Visitors Count per hour'  )"
   ]
  },
  {
   "cell_type": "markdown",
   "metadata": {},
   "source": [
    "Note that Differential Privacy involves adding random noise to the actual data, so your results will most likely be slightly different."
   ]
  },
  {
   "cell_type": "markdown",
   "metadata": {},
   "source": [
    " Next, we will demonstrate how to use the library in scenarios where: \n",
    "\n",
    "- Visitors can contribute to multiple partitions.\n",
    "- Contributed values can be greater than 1.\n",
    "- Visitors can contribute to a partition multiple times."
   ]
  },
  {
   "cell_type": "markdown",
   "metadata": {},
   "source": [
    "## Count visits by day of week\n",
    "\n",
    "The previous example made some over-simplifying assumptions. Now, let’s have a look at the use-case where visitors can contribute to multiple partitions.\n",
    "\n",
    "Imagine Alice decides to let visitors know which days are the busiest at her restaurant. For this, she calculates how many people visit the restaurant every day of the week. For simplicity, let’s assume a visitor enters the restaurant at most once a day but multiple times a week.\n",
    "\n",
    "Visit data for a week is stored in the **week_data.csv** file."
   ]
  },
  {
   "cell_type": "markdown",
   "metadata": {},
   "source": [
    "- *Case 1* -  once a day - multiple times a week \n",
    "- *Case 2* - once a day - max three times a week"
   ]
  },
  {
   "cell_type": "markdown",
   "metadata": {},
   "source": [
    "Speaking in terms of partitions and contributions, the resulting bar chart has 7 partitions: one for each day of the week. A visitor may enter the restaurant once a day and hence contribute to a partition at most once. A visitor may enter the restaurant several times a week and hence contribute to up to 7 partitions."
   ]
  },
  {
   "cell_type": "code",
   "execution_count": 20,
   "metadata": {},
   "outputs": [
    {
     "data": {
      "text/html": [
       "<div>\n",
       "<style scoped>\n",
       "    .dataframe tbody tr th:only-of-type {\n",
       "        vertical-align: middle;\n",
       "    }\n",
       "\n",
       "    .dataframe tbody tr th {\n",
       "        vertical-align: top;\n",
       "    }\n",
       "\n",
       "    .dataframe thead th {\n",
       "        text-align: right;\n",
       "    }\n",
       "</style>\n",
       "<table border=\"1\" class=\"dataframe\">\n",
       "  <thead>\n",
       "    <tr style=\"text-align: right;\">\n",
       "      <th></th>\n",
       "      <th>VisitorId</th>\n",
       "      <th>Time entered</th>\n",
       "      <th>Time spent (minutes)</th>\n",
       "      <th>Money spent (euros)</th>\n",
       "      <th>Day</th>\n",
       "    </tr>\n",
       "  </thead>\n",
       "  <tbody>\n",
       "    <tr>\n",
       "      <th>0</th>\n",
       "      <td>580</td>\n",
       "      <td>9:27:00 AM</td>\n",
       "      <td>29</td>\n",
       "      <td>17</td>\n",
       "      <td>1</td>\n",
       "    </tr>\n",
       "    <tr>\n",
       "      <th>1</th>\n",
       "      <td>1215</td>\n",
       "      <td>9:16:00 AM</td>\n",
       "      <td>45</td>\n",
       "      <td>18</td>\n",
       "      <td>1</td>\n",
       "    </tr>\n",
       "    <tr>\n",
       "      <th>2</th>\n",
       "      <td>448</td>\n",
       "      <td>11:55:00 AM</td>\n",
       "      <td>12</td>\n",
       "      <td>16</td>\n",
       "      <td>1</td>\n",
       "    </tr>\n",
       "    <tr>\n",
       "      <th>3</th>\n",
       "      <td>125</td>\n",
       "      <td>10:47:00 AM</td>\n",
       "      <td>27</td>\n",
       "      <td>20</td>\n",
       "      <td>1</td>\n",
       "    </tr>\n",
       "    <tr>\n",
       "      <th>4</th>\n",
       "      <td>484</td>\n",
       "      <td>11:08:00 AM</td>\n",
       "      <td>35</td>\n",
       "      <td>13</td>\n",
       "      <td>1</td>\n",
       "    </tr>\n",
       "  </tbody>\n",
       "</table>\n",
       "</div>"
      ],
      "text/plain": [
       "   VisitorId Time entered  Time spent (minutes)  Money spent (euros)  Day\n",
       "0        580   9:27:00 AM                    29                   17    1\n",
       "1       1215   9:16:00 AM                    45                   18    1\n",
       "2        448  11:55:00 AM                    12                   16    1\n",
       "3        125  10:47:00 AM                    27                   20    1\n",
       "4        484  11:08:00 AM                    35                   13    1"
      ]
     },
     "execution_count": 20,
     "metadata": {},
     "output_type": "execute_result"
    }
   ],
   "source": [
    "url = 'https://raw.githubusercontent.com/OpenMined/PyDP/dev/examples/restaurant_demo/week_data.csv'\n",
    "visitor_df = pd.read_csv(url,sep=\",\")\n",
    "visitor_df.head()"
   ]
  },
  {
   "cell_type": "code",
   "execution_count": 21,
   "metadata": {},
   "outputs": [
    {
     "data": {
      "text/html": [
       "<div>\n",
       "<style scoped>\n",
       "    .dataframe tbody tr th:only-of-type {\n",
       "        vertical-align: middle;\n",
       "    }\n",
       "\n",
       "    .dataframe tbody tr th {\n",
       "        vertical-align: top;\n",
       "    }\n",
       "\n",
       "    .dataframe thead th {\n",
       "        text-align: right;\n",
       "    }\n",
       "</style>\n",
       "<table border=\"1\" class=\"dataframe\">\n",
       "  <thead>\n",
       "    <tr style=\"text-align: right;\">\n",
       "      <th></th>\n",
       "      <th>VisitorId</th>\n",
       "      <th>Day</th>\n",
       "    </tr>\n",
       "  </thead>\n",
       "  <tbody>\n",
       "    <tr>\n",
       "      <th>0</th>\n",
       "      <td>580</td>\n",
       "      <td>1</td>\n",
       "    </tr>\n",
       "    <tr>\n",
       "      <th>1</th>\n",
       "      <td>1215</td>\n",
       "      <td>1</td>\n",
       "    </tr>\n",
       "    <tr>\n",
       "      <th>2</th>\n",
       "      <td>448</td>\n",
       "      <td>1</td>\n",
       "    </tr>\n",
       "    <tr>\n",
       "      <th>3</th>\n",
       "      <td>125</td>\n",
       "      <td>1</td>\n",
       "    </tr>\n",
       "    <tr>\n",
       "      <th>4</th>\n",
       "      <td>484</td>\n",
       "      <td>1</td>\n",
       "    </tr>\n",
       "  </tbody>\n",
       "</table>\n",
       "</div>"
      ],
      "text/plain": [
       "   VisitorId  Day\n",
       "0        580    1\n",
       "1       1215    1\n",
       "2        448    1\n",
       "3        125    1\n",
       "4        484    1"
      ]
     },
     "execution_count": 21,
     "metadata": {},
     "output_type": "execute_result"
    }
   ],
   "source": [
    "# check the data\n",
    "visitor_df[[\"VisitorId\",\"Day\"]].head()"
   ]
  },
  {
   "cell_type": "code",
   "execution_count": 22,
   "metadata": {},
   "outputs": [
    {
     "name": "stdout",
     "output_type": "stream",
     "text": [
      "7\n"
     ]
    }
   ],
   "source": [
    "# Day for index - check \n",
    "print(visitor_df.loc[2849,\"Day\"])"
   ]
  },
  {
   "cell_type": "code",
   "execution_count": 23,
   "metadata": {},
   "outputs": [
    {
     "name": "stdout",
     "output_type": "stream",
     "text": [
      "     VisitorId Time entered  Time spent (minutes)  Money spent (euros)  Day\n",
      "0          580   9:27:00 AM                    29                   17    1\n",
      "1         1215   9:16:00 AM                    45                   18    1\n",
      "2          448  11:55:00 AM                    12                   16    1\n",
      "3          125  10:47:00 AM                    27                   20    1\n",
      "4          484  11:08:00 AM                    35                   13    1\n",
      "5          514   9:11:00 AM                    34                   18    1\n",
      "6          346   9:51:00 AM                    55                   25    1\n",
      "7          326   9:35:00 AM                    49                   19    1\n",
      "8          527  10:59:00 AM                    38                   30    1\n",
      "9          180  10:57:00 AM                    51                   14    1\n",
      "10         696   9:36:00 AM                    29                   19    1\n",
      "11        1224   9:18:00 AM                    30                   18    1\n",
      "12        1084   9:34:00 AM                    54                   19    1\n",
      "13         560  11:25:00 AM                    35                   15    1\n",
      "14         342   9:56:00 AM                    13                   25    1\n",
      "15          77   9:36:00 AM                    29                   29    1\n",
      "16         948  10:43:00 AM                    32                   14    1\n",
      "17        1070  11:15:00 AM                    37                   11    1\n",
      "18        1057  10:04:00 AM                    21                   21    1\n",
      "19         981   9:04:00 AM                    11                   15    1\n",
      "20         798  11:03:00 AM                    37                   19    1\n",
      "21         427  10:01:00 AM                    10                   23    1\n",
      "22         719  10:48:00 AM                    45                   15    1\n",
      "23         408  11:35:00 AM                    43                   17    1\n",
      "24         367  11:46:00 AM                    11                   29    1\n",
      "25        1381   9:58:00 AM                    40                   14    1\n",
      "26         582  11:27:00 AM                    27                   18    1\n",
      "27         470  10:45:00 AM                    49                   26    1\n",
      "28         239  10:30:00 AM                    45                   22    1\n",
      "29         767  11:25:00 AM                    21                   26    1\n",
      "..         ...          ...                   ...                  ...  ...\n",
      "270       1423   8:16:00 PM                    21                   44    1\n",
      "271        605   8:13:00 PM                   110                   50    1\n",
      "272        941   8:42:00 PM                   115                   22    1\n",
      "273        418   7:54:00 PM                    79                   21    1\n",
      "274        627   7:03:00 PM                    25                   43    1\n",
      "275       1030   8:26:00 PM                    74                   28    1\n",
      "276        186   8:21:00 PM                    27                   42    1\n",
      "277       1303   8:56:00 PM                    85                   29    1\n",
      "278       1160   8:09:00 PM                    55                   27    1\n",
      "279       1403   7:20:00 PM                    34                   23    1\n",
      "280        757   7:28:00 PM                    87                   48    1\n",
      "281       1539   7:54:00 PM                    52                   32    1\n",
      "282        742   7:59:00 PM                    67                   29    1\n",
      "283        472   7:06:00 PM                    28                   28    1\n",
      "284       1463   8:03:00 PM                   114                   49    1\n",
      "285        995   8:33:00 PM                    76                   20    1\n",
      "286       1095   7:46:00 PM                    84                   50    1\n",
      "287        247   8:13:00 PM                   116                   42    1\n",
      "288       1136   8:20:00 PM                    47                   20    1\n",
      "289        278   7:26:00 PM                   113                   43    1\n",
      "290        759   8:13:00 PM                    24                   50    1\n",
      "291        482   8:43:00 PM                    59                   47    1\n",
      "292        723   7:26:00 PM                   115                   50    1\n",
      "293       1335   8:21:00 PM                    76                   31    1\n",
      "294        611   8:09:00 PM                    67                   21    1\n",
      "295        682   7:38:00 PM                    68                   43    1\n",
      "296       1018   7:46:00 PM                    89                   24    1\n",
      "297       1385   7:09:00 PM                    22                   24    1\n",
      "298       1448   7:43:00 PM                    21                   32    1\n",
      "299       1401   7:28:00 PM                    42                   24    1\n",
      "\n",
      "[300 rows x 5 columns]\n",
      "      VisitorId Time entered  Time spent (minutes)  Money spent (euros)  Day\n",
      "1          1215   9:16:00 AM                    45                   18    1\n",
      "419        1215   1:16:00 PM                    77                   28    2\n",
      "2014       1215   6:47:00 PM                    45                   36    6\n",
      "2759       1215   7:23:00 PM                    62                   22    7\n",
      "True\n",
      "True\n",
      "1       1\n",
      "419     2\n",
      "2014    6\n",
      "2759    7\n",
      "Name: Day, dtype: int64\n"
     ]
    }
   ],
   "source": [
    "#view and check \n",
    "#Visitors in Day -1 \n",
    "day1 = visitor_df.loc[visitor_df[\"Day\"] == 1]\n",
    "print(day1)\n",
    "\n",
    "# Search Visitor ID details\n",
    "visitor = visitor_df.loc[visitor_df[\"VisitorId\"] == 1215]\n",
    "print(visitor)\n",
    "\n",
    "# Count number of days visit per week > 3\n",
    "print(visitor[\"Day\"].count() > 3)\n",
    "\n",
    "# combining the two - visit count > 3per week\n",
    "print(visitor_df.loc[visitor_df[\"VisitorId\"] == 1215][\"Day\"].count() > 3)\n",
    "\n",
    "# days of visit\n",
    "visitor_day= visitor_df.loc[visitor_df[\"VisitorId\"] == 1215][\"Day\"]\n",
    "print(visitor_day)"
   ]
  },
  {
   "cell_type": "code",
   "execution_count": 24,
   "metadata": {},
   "outputs": [
    {
     "name": "stdout",
     "output_type": "stream",
     "text": [
      "[{'Day_1': 0}, {'Day_2': 0}, {'Day_3': 0}, {'Day_4': 0}, {'Day_5': 0}, {'Day_6': 0}, {'Day_7': 0}]\n",
      "['Day_1', 'Day_2', 'Day_3', 'Day_4', 'Day_5', 'Day_6', 'Day_7']\n",
      "[1, 2, 3, 4, 5, 6, 7]\n"
     ]
    }
   ],
   "source": [
    "day = [ {\"Day_\"+str(i) : 0} for i in visitor_df[\"Day\"].unique()]\n",
    "print(day)\n",
    "\n",
    "days = [ \"Day_\"+str(i)  for i in visitor_df[\"Day\"].unique() ]\n",
    "print(days)\n",
    "\n",
    "days_int = [ i for i in visitor_df[\"Day\"].unique() ]\n",
    "print(days_int)"
   ]
  },
  {
   "cell_type": "code",
   "execution_count": 25,
   "metadata": {},
   "outputs": [],
   "source": [
    "# Another DataFrame for maxPartitionsContributed per day\n",
    "visitor_count_df = pd.DataFrame( {'VisitorId' : visitor_df[\"VisitorId\"].unique()})\n",
    "#print(visitor_count)\n",
    "\n",
    "# Set all Days visit to 0 and Count_perWeek (<= 3) to False\n",
    "def set_visitor_count0(df):\n",
    "    for i in days:\n",
    "        df[i] = 0\n",
    "        \n",
    "    df[\"valid_contribution\"] = False\n",
    "    return df"
   ]
  },
  {
   "cell_type": "code",
   "execution_count": 26,
   "metadata": {},
   "outputs": [
    {
     "data": {
      "text/html": [
       "<div>\n",
       "<style scoped>\n",
       "    .dataframe tbody tr th:only-of-type {\n",
       "        vertical-align: middle;\n",
       "    }\n",
       "\n",
       "    .dataframe tbody tr th {\n",
       "        vertical-align: top;\n",
       "    }\n",
       "\n",
       "    .dataframe thead th {\n",
       "        text-align: right;\n",
       "    }\n",
       "</style>\n",
       "<table border=\"1\" class=\"dataframe\">\n",
       "  <thead>\n",
       "    <tr style=\"text-align: right;\">\n",
       "      <th></th>\n",
       "      <th>VisitorId</th>\n",
       "      <th>Day_1</th>\n",
       "      <th>Day_2</th>\n",
       "      <th>Day_3</th>\n",
       "      <th>Day_4</th>\n",
       "      <th>Day_5</th>\n",
       "      <th>Day_6</th>\n",
       "      <th>Day_7</th>\n",
       "      <th>valid_contribution</th>\n",
       "    </tr>\n",
       "  </thead>\n",
       "  <tbody>\n",
       "    <tr>\n",
       "      <th>0</th>\n",
       "      <td>580</td>\n",
       "      <td>0</td>\n",
       "      <td>0</td>\n",
       "      <td>0</td>\n",
       "      <td>0</td>\n",
       "      <td>0</td>\n",
       "      <td>0</td>\n",
       "      <td>0</td>\n",
       "      <td>False</td>\n",
       "    </tr>\n",
       "    <tr>\n",
       "      <th>1</th>\n",
       "      <td>1215</td>\n",
       "      <td>0</td>\n",
       "      <td>0</td>\n",
       "      <td>0</td>\n",
       "      <td>0</td>\n",
       "      <td>0</td>\n",
       "      <td>0</td>\n",
       "      <td>0</td>\n",
       "      <td>False</td>\n",
       "    </tr>\n",
       "    <tr>\n",
       "      <th>2</th>\n",
       "      <td>448</td>\n",
       "      <td>0</td>\n",
       "      <td>0</td>\n",
       "      <td>0</td>\n",
       "      <td>0</td>\n",
       "      <td>0</td>\n",
       "      <td>0</td>\n",
       "      <td>0</td>\n",
       "      <td>False</td>\n",
       "    </tr>\n",
       "    <tr>\n",
       "      <th>3</th>\n",
       "      <td>125</td>\n",
       "      <td>0</td>\n",
       "      <td>0</td>\n",
       "      <td>0</td>\n",
       "      <td>0</td>\n",
       "      <td>0</td>\n",
       "      <td>0</td>\n",
       "      <td>0</td>\n",
       "      <td>False</td>\n",
       "    </tr>\n",
       "    <tr>\n",
       "      <th>4</th>\n",
       "      <td>484</td>\n",
       "      <td>0</td>\n",
       "      <td>0</td>\n",
       "      <td>0</td>\n",
       "      <td>0</td>\n",
       "      <td>0</td>\n",
       "      <td>0</td>\n",
       "      <td>0</td>\n",
       "      <td>False</td>\n",
       "    </tr>\n",
       "  </tbody>\n",
       "</table>\n",
       "</div>"
      ],
      "text/plain": [
       "   VisitorId  Day_1  Day_2  Day_3  Day_4  Day_5  Day_6  Day_7  \\\n",
       "0        580      0      0      0      0      0      0      0   \n",
       "1       1215      0      0      0      0      0      0      0   \n",
       "2        448      0      0      0      0      0      0      0   \n",
       "3        125      0      0      0      0      0      0      0   \n",
       "4        484      0      0      0      0      0      0      0   \n",
       "\n",
       "   valid_contribution  \n",
       "0               False  \n",
       "1               False  \n",
       "2               False  \n",
       "3               False  \n",
       "4               False  "
      ]
     },
     "execution_count": 26,
     "metadata": {},
     "output_type": "execute_result"
    }
   ],
   "source": [
    "# Reset the count of day visit to 0\n",
    "\n",
    "set_visitor_count0(visitor_count_df).head()"
   ]
  },
  {
   "cell_type": "code",
   "execution_count": 27,
   "metadata": {},
   "outputs": [],
   "source": [
    "# Add Per Day visit to visitor_count_df\n",
    "# 1 - present , 0 - absent\n",
    "\n",
    "def per_day_visits(df):\n",
    "    for index_no in visitor_df.index:\n",
    "        day_no = visitor_df.loc[index_no,'Day']\n",
    "        id_no = visitor_df.loc[index_no,'VisitorId']\n",
    "        #index_val = visitor_df.loc[visitor_df[\"VisitorId\"] == id_no].index[0]\n",
    "        #print(\"index val : \",index_val, \"day_no :\", day_no)\n",
    "        \n",
    "        #in visitor_count_df dataframe\n",
    "        visitor_index_val = df.loc[df[\"VisitorId\"] == id_no].index[0]\n",
    "        #print(\"New index val : \",visitor_index_val)\n",
    "        visitor_day_val = df.loc[visitor_index_val, \"Day_\"+str(day_no)]\n",
    "        #print(\"Day val : \",visitor_day_val)\n",
    "        df.at[visitor_index_val, \"Day_\"+str(day_no) ] = visitor_day_val + 1\n",
    "        \n",
    "    return df\n",
    "    "
   ]
  },
  {
   "cell_type": "code",
   "execution_count": 28,
   "metadata": {},
   "outputs": [
    {
     "data": {
      "text/html": [
       "<div>\n",
       "<style scoped>\n",
       "    .dataframe tbody tr th:only-of-type {\n",
       "        vertical-align: middle;\n",
       "    }\n",
       "\n",
       "    .dataframe tbody tr th {\n",
       "        vertical-align: top;\n",
       "    }\n",
       "\n",
       "    .dataframe thead th {\n",
       "        text-align: right;\n",
       "    }\n",
       "</style>\n",
       "<table border=\"1\" class=\"dataframe\">\n",
       "  <thead>\n",
       "    <tr style=\"text-align: right;\">\n",
       "      <th></th>\n",
       "      <th>VisitorId</th>\n",
       "      <th>Day_1</th>\n",
       "      <th>Day_2</th>\n",
       "      <th>Day_3</th>\n",
       "      <th>Day_4</th>\n",
       "      <th>Day_5</th>\n",
       "      <th>Day_6</th>\n",
       "      <th>Day_7</th>\n",
       "      <th>valid_contribution</th>\n",
       "    </tr>\n",
       "  </thead>\n",
       "  <tbody>\n",
       "    <tr>\n",
       "      <th>0</th>\n",
       "      <td>580</td>\n",
       "      <td>1</td>\n",
       "      <td>1</td>\n",
       "      <td>1</td>\n",
       "      <td>0</td>\n",
       "      <td>1</td>\n",
       "      <td>0</td>\n",
       "      <td>1</td>\n",
       "      <td>False</td>\n",
       "    </tr>\n",
       "    <tr>\n",
       "      <th>1</th>\n",
       "      <td>1215</td>\n",
       "      <td>1</td>\n",
       "      <td>1</td>\n",
       "      <td>0</td>\n",
       "      <td>0</td>\n",
       "      <td>0</td>\n",
       "      <td>1</td>\n",
       "      <td>1</td>\n",
       "      <td>False</td>\n",
       "    </tr>\n",
       "    <tr>\n",
       "      <th>2</th>\n",
       "      <td>448</td>\n",
       "      <td>1</td>\n",
       "      <td>1</td>\n",
       "      <td>0</td>\n",
       "      <td>0</td>\n",
       "      <td>0</td>\n",
       "      <td>0</td>\n",
       "      <td>0</td>\n",
       "      <td>False</td>\n",
       "    </tr>\n",
       "    <tr>\n",
       "      <th>3</th>\n",
       "      <td>125</td>\n",
       "      <td>1</td>\n",
       "      <td>1</td>\n",
       "      <td>1</td>\n",
       "      <td>1</td>\n",
       "      <td>1</td>\n",
       "      <td>0</td>\n",
       "      <td>0</td>\n",
       "      <td>False</td>\n",
       "    </tr>\n",
       "    <tr>\n",
       "      <th>4</th>\n",
       "      <td>484</td>\n",
       "      <td>1</td>\n",
       "      <td>0</td>\n",
       "      <td>0</td>\n",
       "      <td>0</td>\n",
       "      <td>0</td>\n",
       "      <td>0</td>\n",
       "      <td>0</td>\n",
       "      <td>False</td>\n",
       "    </tr>\n",
       "  </tbody>\n",
       "</table>\n",
       "</div>"
      ],
      "text/plain": [
       "   VisitorId  Day_1  Day_2  Day_3  Day_4  Day_5  Day_6  Day_7  \\\n",
       "0        580      1      1      1      0      1      0      1   \n",
       "1       1215      1      1      0      0      0      1      1   \n",
       "2        448      1      1      0      0      0      0      0   \n",
       "3        125      1      1      1      1      1      0      0   \n",
       "4        484      1      0      0      0      0      0      0   \n",
       "\n",
       "   valid_contribution  \n",
       "0               False  \n",
       "1               False  \n",
       "2               False  \n",
       "3               False  \n",
       "4               False  "
      ]
     },
     "execution_count": 28,
     "metadata": {},
     "output_type": "execute_result"
    }
   ],
   "source": [
    "per_day_visits(visitor_count_df).head()  "
   ]
  },
  {
   "cell_type": "code",
   "execution_count": 31,
   "metadata": {},
   "outputs": [
    {
     "data": {
      "text/plain": [
       "886     3\n",
       "2349    6\n",
       "Name: Day, dtype: int64"
      ]
     },
     "execution_count": 31,
     "metadata": {},
     "output_type": "execute_result"
    }
   ],
   "source": [
    "# Day visits for VisitorId\n",
    "visitor_df.loc[visitor_df['VisitorId']== 1251]['Day']  # for this example -> Day_3 and Day_6"
   ]
  },
  {
   "cell_type": "code",
   "execution_count": 32,
   "metadata": {},
   "outputs": [
    {
     "data": {
      "text/html": [
       "<div>\n",
       "<style scoped>\n",
       "    .dataframe tbody tr th:only-of-type {\n",
       "        vertical-align: middle;\n",
       "    }\n",
       "\n",
       "    .dataframe tbody tr th {\n",
       "        vertical-align: top;\n",
       "    }\n",
       "\n",
       "    .dataframe thead th {\n",
       "        text-align: right;\n",
       "    }\n",
       "</style>\n",
       "<table border=\"1\" class=\"dataframe\">\n",
       "  <thead>\n",
       "    <tr style=\"text-align: right;\">\n",
       "      <th></th>\n",
       "      <th>VisitorId</th>\n",
       "      <th>Day_1</th>\n",
       "      <th>Day_2</th>\n",
       "      <th>Day_3</th>\n",
       "      <th>Day_4</th>\n",
       "      <th>Day_5</th>\n",
       "      <th>Day_6</th>\n",
       "      <th>Day_7</th>\n",
       "      <th>valid_contribution</th>\n",
       "    </tr>\n",
       "  </thead>\n",
       "  <tbody>\n",
       "    <tr>\n",
       "      <th>721</th>\n",
       "      <td>1251</td>\n",
       "      <td>0</td>\n",
       "      <td>0</td>\n",
       "      <td>1</td>\n",
       "      <td>0</td>\n",
       "      <td>0</td>\n",
       "      <td>1</td>\n",
       "      <td>0</td>\n",
       "      <td>False</td>\n",
       "    </tr>\n",
       "  </tbody>\n",
       "</table>\n",
       "</div>"
      ],
      "text/plain": [
       "     VisitorId  Day_1  Day_2  Day_3  Day_4  Day_5  Day_6  Day_7  \\\n",
       "721       1251      0      0      1      0      0      1      0   \n",
       "\n",
       "     valid_contribution  \n",
       "721               False  "
      ]
     },
     "execution_count": 32,
     "metadata": {},
     "output_type": "execute_result"
    }
   ],
   "source": [
    "# verifying the results for per_day_visits()\n",
    "visitor_count_df.loc[visitor_count_df['VisitorId']== 1251]"
   ]
  },
  {
   "cell_type": "code",
   "execution_count": 33,
   "metadata": {},
   "outputs": [
    {
     "data": {
      "text/plain": [
       "Series([], Name: Day_6, dtype: int64)"
      ]
     },
     "execution_count": 33,
     "metadata": {},
     "output_type": "execute_result"
    }
   ],
   "source": [
    "# valid_contribution is all set to False \n",
    "visitor_count_df.loc[visitor_count_df['valid_contribution']==True]['Day_6']"
   ]
  },
  {
   "cell_type": "markdown",
   "metadata": {},
   "source": [
    "**Bounding the number of contributed partitions**\n",
    "\n",
    "The parameter maxPartitionsContributed in Google's Java example, defines the maximum number of partitions a visitor may contribute to. You might notice that the value of maxPartitionsContributed in the example is 3 instead of 7. Why is that? Differential Privacy adds some amount of random noise to hide contributions of an individual. The more contributions an individual has, the larger the noise is. This affects the utility of the data. In order to preserve the data utility, an approximate estimate of how many times a week a person may visit a restaurant on average was made, and assumed that the value is around 3 instead of scaling the noise by the factor of 7.\n",
    "\n",
    "**max_partitions_contributed()** limits the max contribution to the entered number, in this case 3, i.e., a visitor may contribute or visit the restaurant max 3 times in a week. The rest of the exceeding data is discarded. Everyone with contributions greater than 3 will have **\"valid_contribution\"** as False.\n"
   ]
  },
  {
   "cell_type": "markdown",
   "metadata": {},
   "source": [
    "## Case 2 : Max contribution per week set to 3 times a week"
   ]
  },
  {
   "cell_type": "code",
   "execution_count": 34,
   "metadata": {},
   "outputs": [],
   "source": [
    "# Check the visitors with greater than Max Contribution are marked as False\n",
    "\n",
    "def max_partitions_contributed(max_days: int, df): \n",
    "    for index_no in df.index:\n",
    "        day_count = 0\n",
    "        for day_no in days_int:\n",
    "            if (df.loc[index_no, \"Day_\"+str(day_no)] > 0 ):\n",
    "                day_count = day_count + 1\n",
    "                \n",
    "        # check whether day count is > max_days or not\n",
    "        if day_count <= max_days:\n",
    "            df.at[index_no, \"valid_contribution\"] = True           \n",
    "    return df\n",
    "    "
   ]
  },
  {
   "cell_type": "code",
   "execution_count": 35,
   "metadata": {},
   "outputs": [
    {
     "data": {
      "text/html": [
       "<div>\n",
       "<style scoped>\n",
       "    .dataframe tbody tr th:only-of-type {\n",
       "        vertical-align: middle;\n",
       "    }\n",
       "\n",
       "    .dataframe tbody tr th {\n",
       "        vertical-align: top;\n",
       "    }\n",
       "\n",
       "    .dataframe thead th {\n",
       "        text-align: right;\n",
       "    }\n",
       "</style>\n",
       "<table border=\"1\" class=\"dataframe\">\n",
       "  <thead>\n",
       "    <tr style=\"text-align: right;\">\n",
       "      <th></th>\n",
       "      <th>VisitorId</th>\n",
       "      <th>Day_1</th>\n",
       "      <th>Day_2</th>\n",
       "      <th>Day_3</th>\n",
       "      <th>Day_4</th>\n",
       "      <th>Day_5</th>\n",
       "      <th>Day_6</th>\n",
       "      <th>Day_7</th>\n",
       "      <th>valid_contribution</th>\n",
       "    </tr>\n",
       "  </thead>\n",
       "  <tbody>\n",
       "    <tr>\n",
       "      <th>0</th>\n",
       "      <td>580</td>\n",
       "      <td>1</td>\n",
       "      <td>1</td>\n",
       "      <td>1</td>\n",
       "      <td>0</td>\n",
       "      <td>1</td>\n",
       "      <td>0</td>\n",
       "      <td>1</td>\n",
       "      <td>False</td>\n",
       "    </tr>\n",
       "    <tr>\n",
       "      <th>1</th>\n",
       "      <td>1215</td>\n",
       "      <td>1</td>\n",
       "      <td>1</td>\n",
       "      <td>0</td>\n",
       "      <td>0</td>\n",
       "      <td>0</td>\n",
       "      <td>1</td>\n",
       "      <td>1</td>\n",
       "      <td>False</td>\n",
       "    </tr>\n",
       "    <tr>\n",
       "      <th>2</th>\n",
       "      <td>448</td>\n",
       "      <td>1</td>\n",
       "      <td>1</td>\n",
       "      <td>0</td>\n",
       "      <td>0</td>\n",
       "      <td>0</td>\n",
       "      <td>0</td>\n",
       "      <td>0</td>\n",
       "      <td>True</td>\n",
       "    </tr>\n",
       "    <tr>\n",
       "      <th>3</th>\n",
       "      <td>125</td>\n",
       "      <td>1</td>\n",
       "      <td>1</td>\n",
       "      <td>1</td>\n",
       "      <td>1</td>\n",
       "      <td>1</td>\n",
       "      <td>0</td>\n",
       "      <td>0</td>\n",
       "      <td>False</td>\n",
       "    </tr>\n",
       "    <tr>\n",
       "      <th>4</th>\n",
       "      <td>484</td>\n",
       "      <td>1</td>\n",
       "      <td>0</td>\n",
       "      <td>0</td>\n",
       "      <td>0</td>\n",
       "      <td>0</td>\n",
       "      <td>0</td>\n",
       "      <td>0</td>\n",
       "      <td>True</td>\n",
       "    </tr>\n",
       "  </tbody>\n",
       "</table>\n",
       "</div>"
      ],
      "text/plain": [
       "   VisitorId  Day_1  Day_2  Day_3  Day_4  Day_5  Day_6  Day_7  \\\n",
       "0        580      1      1      1      0      1      0      1   \n",
       "1       1215      1      1      0      0      0      1      1   \n",
       "2        448      1      1      0      0      0      0      0   \n",
       "3        125      1      1      1      1      1      0      0   \n",
       "4        484      1      0      0      0      0      0      0   \n",
       "\n",
       "   valid_contribution  \n",
       "0               False  \n",
       "1               False  \n",
       "2                True  \n",
       "3               False  \n",
       "4                True  "
      ]
     },
     "execution_count": 35,
     "metadata": {},
     "output_type": "execute_result"
    }
   ],
   "source": [
    "# max_partitions_contributed(max_days: int, df)\n",
    "max_partitions_contributed(3,visitor_count_df).head() "
   ]
  },
  {
   "cell_type": "code",
   "execution_count": 36,
   "metadata": {},
   "outputs": [
    {
     "data": {
      "text/html": [
       "<div>\n",
       "<style scoped>\n",
       "    .dataframe tbody tr th:only-of-type {\n",
       "        vertical-align: middle;\n",
       "    }\n",
       "\n",
       "    .dataframe tbody tr th {\n",
       "        vertical-align: top;\n",
       "    }\n",
       "\n",
       "    .dataframe thead th {\n",
       "        text-align: right;\n",
       "    }\n",
       "</style>\n",
       "<table border=\"1\" class=\"dataframe\">\n",
       "  <thead>\n",
       "    <tr style=\"text-align: right;\">\n",
       "      <th></th>\n",
       "      <th>VisitorId</th>\n",
       "      <th>Day_1</th>\n",
       "      <th>Day_2</th>\n",
       "      <th>Day_3</th>\n",
       "      <th>Day_4</th>\n",
       "      <th>Day_5</th>\n",
       "      <th>Day_6</th>\n",
       "      <th>Day_7</th>\n",
       "      <th>valid_contribution</th>\n",
       "    </tr>\n",
       "  </thead>\n",
       "  <tbody>\n",
       "    <tr>\n",
       "      <th>0</th>\n",
       "      <td>580</td>\n",
       "      <td>1</td>\n",
       "      <td>1</td>\n",
       "      <td>1</td>\n",
       "      <td>0</td>\n",
       "      <td>1</td>\n",
       "      <td>0</td>\n",
       "      <td>1</td>\n",
       "      <td>False</td>\n",
       "    </tr>\n",
       "    <tr>\n",
       "      <th>1</th>\n",
       "      <td>1215</td>\n",
       "      <td>1</td>\n",
       "      <td>1</td>\n",
       "      <td>0</td>\n",
       "      <td>0</td>\n",
       "      <td>0</td>\n",
       "      <td>1</td>\n",
       "      <td>1</td>\n",
       "      <td>False</td>\n",
       "    </tr>\n",
       "    <tr>\n",
       "      <th>2</th>\n",
       "      <td>448</td>\n",
       "      <td>1</td>\n",
       "      <td>1</td>\n",
       "      <td>0</td>\n",
       "      <td>0</td>\n",
       "      <td>0</td>\n",
       "      <td>0</td>\n",
       "      <td>0</td>\n",
       "      <td>True</td>\n",
       "    </tr>\n",
       "    <tr>\n",
       "      <th>3</th>\n",
       "      <td>125</td>\n",
       "      <td>1</td>\n",
       "      <td>1</td>\n",
       "      <td>1</td>\n",
       "      <td>1</td>\n",
       "      <td>1</td>\n",
       "      <td>0</td>\n",
       "      <td>0</td>\n",
       "      <td>False</td>\n",
       "    </tr>\n",
       "    <tr>\n",
       "      <th>4</th>\n",
       "      <td>484</td>\n",
       "      <td>1</td>\n",
       "      <td>0</td>\n",
       "      <td>0</td>\n",
       "      <td>0</td>\n",
       "      <td>0</td>\n",
       "      <td>0</td>\n",
       "      <td>0</td>\n",
       "      <td>True</td>\n",
       "    </tr>\n",
       "  </tbody>\n",
       "</table>\n",
       "</div>"
      ],
      "text/plain": [
       "   VisitorId  Day_1  Day_2  Day_3  Day_4  Day_5  Day_6  Day_7  \\\n",
       "0        580      1      1      1      0      1      0      1   \n",
       "1       1215      1      1      0      0      0      1      1   \n",
       "2        448      1      1      0      0      0      0      0   \n",
       "3        125      1      1      1      1      1      0      0   \n",
       "4        484      1      0      0      0      0      0      0   \n",
       "\n",
       "   valid_contribution  \n",
       "0               False  \n",
       "1               False  \n",
       "2                True  \n",
       "3               False  \n",
       "4                True  "
      ]
     },
     "execution_count": 36,
     "metadata": {},
     "output_type": "execute_result"
    }
   ],
   "source": [
    "# create a copy visitors_maxweek DataFrame for max 3 days count\n",
    "visitors_maxweek = visitor_count_df.copy()\n",
    "visitors_maxweek.head()"
   ]
  },
  {
   "cell_type": "code",
   "execution_count": 37,
   "metadata": {},
   "outputs": [
    {
     "data": {
      "text/plain": [
       "Int64Index([   0,    1,    3,    5,    9,   11,   14,   15,   16,   20,\n",
       "            ...\n",
       "             781,  789,  803,  828,  845,  896,  952,  955,  981, 1000],\n",
       "           dtype='int64', length=132)"
      ]
     },
     "execution_count": 37,
     "metadata": {},
     "output_type": "execute_result"
    }
   ],
   "source": [
    "# check index\n",
    "visitors_maxweek.loc[visitor_count_df[\"valid_contribution\"] == False].index "
   ]
  },
  {
   "cell_type": "code",
   "execution_count": 38,
   "metadata": {},
   "outputs": [],
   "source": [
    "# If Max contribution is greater than the desired value here 3, then, \n",
    "# remove the extra contributions from that visitors per day of week\n",
    "# set the \"valid_contribution\" to True after the extra value has been removed.\n",
    "#This might introduce some bias as when max_contribution = 3, the first 3 days will remain mostly unchanged \n",
    "# Day_4 to Day_7 count values will be effected the most.\n",
    "# But, for simplicity we will go ahead with this approach.\n",
    "\n",
    "def remove_extra_contributions(max_contribution: int, df):\n",
    "    \n",
    "    for index_no in df.loc[df[\"valid_contribution\"] == False].index:\n",
    "        day_count = 0\n",
    "        for day_no in days_int:\n",
    "            if (df.loc[index_no, \"Day_\"+str(day_no)] > 0 ):\n",
    "                day_count = day_count + 1\n",
    "                \n",
    "            if day_count > max_contribution:\n",
    "                df.at[index_no, \"Day_\"+str(day_no)] = 0\n",
    "                \n",
    "        df.at[index_no, \"valid_contribution\"] = True\n",
    "            \n",
    "    return df   "
   ]
  },
  {
   "cell_type": "code",
   "execution_count": 39,
   "metadata": {},
   "outputs": [
    {
     "data": {
      "text/html": [
       "<div>\n",
       "<style scoped>\n",
       "    .dataframe tbody tr th:only-of-type {\n",
       "        vertical-align: middle;\n",
       "    }\n",
       "\n",
       "    .dataframe tbody tr th {\n",
       "        vertical-align: top;\n",
       "    }\n",
       "\n",
       "    .dataframe thead th {\n",
       "        text-align: right;\n",
       "    }\n",
       "</style>\n",
       "<table border=\"1\" class=\"dataframe\">\n",
       "  <thead>\n",
       "    <tr style=\"text-align: right;\">\n",
       "      <th></th>\n",
       "      <th>VisitorId</th>\n",
       "      <th>Day_1</th>\n",
       "      <th>Day_2</th>\n",
       "      <th>Day_3</th>\n",
       "      <th>Day_4</th>\n",
       "      <th>Day_5</th>\n",
       "      <th>Day_6</th>\n",
       "      <th>Day_7</th>\n",
       "      <th>valid_contribution</th>\n",
       "    </tr>\n",
       "  </thead>\n",
       "  <tbody>\n",
       "    <tr>\n",
       "      <th>0</th>\n",
       "      <td>580</td>\n",
       "      <td>1</td>\n",
       "      <td>1</td>\n",
       "      <td>1</td>\n",
       "      <td>0</td>\n",
       "      <td>0</td>\n",
       "      <td>0</td>\n",
       "      <td>0</td>\n",
       "      <td>True</td>\n",
       "    </tr>\n",
       "    <tr>\n",
       "      <th>1</th>\n",
       "      <td>1215</td>\n",
       "      <td>1</td>\n",
       "      <td>1</td>\n",
       "      <td>0</td>\n",
       "      <td>0</td>\n",
       "      <td>0</td>\n",
       "      <td>1</td>\n",
       "      <td>0</td>\n",
       "      <td>True</td>\n",
       "    </tr>\n",
       "    <tr>\n",
       "      <th>2</th>\n",
       "      <td>448</td>\n",
       "      <td>1</td>\n",
       "      <td>1</td>\n",
       "      <td>0</td>\n",
       "      <td>0</td>\n",
       "      <td>0</td>\n",
       "      <td>0</td>\n",
       "      <td>0</td>\n",
       "      <td>True</td>\n",
       "    </tr>\n",
       "    <tr>\n",
       "      <th>3</th>\n",
       "      <td>125</td>\n",
       "      <td>1</td>\n",
       "      <td>1</td>\n",
       "      <td>1</td>\n",
       "      <td>0</td>\n",
       "      <td>0</td>\n",
       "      <td>0</td>\n",
       "      <td>0</td>\n",
       "      <td>True</td>\n",
       "    </tr>\n",
       "    <tr>\n",
       "      <th>4</th>\n",
       "      <td>484</td>\n",
       "      <td>1</td>\n",
       "      <td>0</td>\n",
       "      <td>0</td>\n",
       "      <td>0</td>\n",
       "      <td>0</td>\n",
       "      <td>0</td>\n",
       "      <td>0</td>\n",
       "      <td>True</td>\n",
       "    </tr>\n",
       "  </tbody>\n",
       "</table>\n",
       "</div>"
      ],
      "text/plain": [
       "   VisitorId  Day_1  Day_2  Day_3  Day_4  Day_5  Day_6  Day_7  \\\n",
       "0        580      1      1      1      0      0      0      0   \n",
       "1       1215      1      1      0      0      0      1      0   \n",
       "2        448      1      1      0      0      0      0      0   \n",
       "3        125      1      1      1      0      0      0      0   \n",
       "4        484      1      0      0      0      0      0      0   \n",
       "\n",
       "   valid_contribution  \n",
       "0                True  \n",
       "1                True  \n",
       "2                True  \n",
       "3                True  \n",
       "4                True  "
      ]
     },
     "execution_count": 39,
     "metadata": {},
     "output_type": "execute_result"
    }
   ],
   "source": [
    "remove_extra_contributions(3,visitors_maxweek ).head()"
   ]
  },
  {
   "cell_type": "code",
   "execution_count": 40,
   "metadata": {},
   "outputs": [
    {
     "data": {
      "text/plain": [
       "Int64Index([], dtype='int64')"
      ]
     },
     "execution_count": 40,
     "metadata": {},
     "output_type": "execute_result"
    }
   ],
   "source": [
    "# check index \n",
    "visitors_maxweek.loc[visitors_maxweek[\"valid_contribution\"] == False].index "
   ]
  },
  {
   "cell_type": "markdown",
   "metadata": {},
   "source": [
    "## Day wise count for both the cases"
   ]
  },
  {
   "cell_type": "code",
   "execution_count": 41,
   "metadata": {},
   "outputs": [
    {
     "name": "stdout",
     "output_type": "stream",
     "text": [
      "['Day_1', 'Day_2', 'Day_3', 'Day_4', 'Day_5', 'Day_6', 'Day_7']\n",
      "Case 1:  [300, 300, 400, 400, 450, 500, 500]\n",
      "Case 2:  [300, 300, 400, 394, 432, 460, 407]\n"
     ]
    }
   ],
   "source": [
    "# Calculate the day wise count for both the cases\n",
    "print(days)    \n",
    "total_visitors_max3days = [] # case 2 \n",
    "total_visitors_day = []      # case 1\n",
    "\n",
    "for i in days:\n",
    "    total_visitors_max3days.append(visitors_maxweek.loc[visitors_maxweek[i] > 0][i].count())  # case 2\n",
    "    total_visitors_day.append(visitor_count_df.loc[visitor_count_df[i] > 0][i].count())       # case 1\n",
    "    \n",
    "\n",
    "print('Case 1: ', total_visitors_day)     # for all 7 days\n",
    "print('Case 2: ',total_visitors_max3days)    # for max 3 days\n"
   ]
  },
  {
   "cell_type": "markdown",
   "metadata": {},
   "source": [
    "### Bar Plots for Case 1 \n",
    "Visitors can visit one time a day and any day in a week, i.e., max 7 days in a week."
   ]
  },
  {
   "cell_type": "code",
   "execution_count": 42,
   "metadata": {},
   "outputs": [
    {
     "data": {
      "image/png": "[encoded data removed]",
      "text/plain": [
       "<Figure size 576x288 with 1 Axes>"
      ]
     },
     "metadata": {},
     "output_type": "display_data"
    }
   ],
   "source": [
    "# bar_plot(x,y,title,x_label,y_label)\n",
    "x = ['Monday', 'Tuesday', 'Wednesday', 'Thursday', 'Friday', 'Saturday', 'Sunday']\n",
    "\n",
    "bar_plot(x,total_visitors_day,\"Visitor count per Day\",\"Week Days\",\"Visitors\")"
   ]
  },
  {
   "cell_type": "markdown",
   "metadata": {},
   "source": [
    "### Bar Plots for Case 2 \n",
    "Visitors can visit one time a day and max 3 days in a week."
   ]
  },
  {
   "cell_type": "code",
   "execution_count": 43,
   "metadata": {},
   "outputs": [
    {
     "data": {
      "image/png": "[encoded data removed]",
      "text/plain": [
       "<Figure size 576x288 with 1 Axes>"
      ]
     },
     "metadata": {},
     "output_type": "display_data"
    }
   ],
   "source": [
    "# bar_plot(x,y,title,x_label,y_label)\n",
    "x = ['Monday', 'Tuesday', 'Wednesday', 'Thursday', 'Friday', 'Saturday', 'Sunday']\n",
    "\n",
    "bar_plot(x,total_visitors_max3days,\"Visitor count per Day : Max 3 times a week\",\"Week Days\",\"Visitors\")"
   ]
  },
  {
   "cell_type": "markdown",
   "metadata": {},
   "source": [
    "# Private Count for the above Cases using PyDP library"
   ]
  },
  {
   "cell_type": "code",
   "execution_count": 44,
   "metadata": {},
   "outputs": [],
   "source": [
    "def cal_private_count_per_day(privacy_budget: float, data_list: list):\n",
    "    private_count = []\n",
    "    for data in data_list:\n",
    "        x = Count(privacy_budget)        \n",
    "        count = x.quick_result(data)\n",
    "        private_count.append(count)\n",
    "    return private_count"
   ]
  },
  {
   "cell_type": "code",
   "execution_count": 45,
   "metadata": {},
   "outputs": [],
   "source": [
    "visits_case1 = []  #list for case 1 \n",
    "visits_case2 = []  # list for case 2\n",
    "\n",
    "\n",
    "for i in days:\n",
    "    # Case 1: List for max contribution 7 days a week\n",
    "    visits_case1.append(visitor_count_df.loc[visitor_count_df[i]>0][i].tolist())\n",
    "    \n",
    "    # Case 2: List for Max contribution 3 days a week\n",
    "    visits_case2.append(visitors_maxweek.loc[visitors_maxweek[i] > 0][i].tolist())"
   ]
  },
  {
   "cell_type": "code",
   "execution_count": 46,
   "metadata": {},
   "outputs": [
    {
     "name": "stdout",
     "output_type": "stream",
     "text": [
      "['Day_1', 'Day_2', 'Day_3', 'Day_4', 'Day_5', 'Day_6', 'Day_7']\n",
      "Case 1: Private Count per day in a week\n",
      "[298, 299, 402, 399, 448, 500, 498]\n",
      "Case 2: Private Count Max 3 days in a week\n",
      "[300, 300, 401, 390, 430, 460, 407]\n"
     ]
    }
   ],
   "source": [
    "# caluculate the private count \n",
    "epsilon = math.log(3)\n",
    "private_count_perDay_week = cal_private_count_per_day(epsilon, visits_case1)\n",
    "private_count_max3Day_week = cal_private_count_per_day(epsilon,visits_case2)\n",
    "\n",
    "print(days) \n",
    "print(\"Case 1: Private Count per day in a week\")\n",
    "print(private_count_perDay_week)\n",
    "print(\"Case 2: Private Count Max 3 days in a week\")\n",
    "print(private_count_max3Day_week)"
   ]
  },
  {
   "cell_type": "code",
   "execution_count": 47,
   "metadata": {},
   "outputs": [
    {
     "data": {
      "image/png": "[encoded data removed]",
      "text/plain": [
       "<Figure size 576x288 with 1 Axes>"
      ]
     },
     "metadata": {},
     "output_type": "display_data"
    }
   ],
   "source": [
    "# private_bar_plot(x,y,title,x_label,y_label)\n",
    "x = ['Monday', 'Tuesday', 'Wednesday', 'Thursday', 'Friday', 'Saturday', 'Sunday']\n",
    "\n",
    "private_bar_plot(x,private_count_perDay_week,\"CASE 1: Differentially private - Visitors Count per Day\",\"Week days\",\"Visitors\")"
   ]
  },
  {
   "cell_type": "code",
   "execution_count": 48,
   "metadata": {},
   "outputs": [
    {
     "data": {
      "image/png": "[encoded data removed]",
      "text/plain": [
       "<Figure size 576x288 with 1 Axes>"
      ]
     },
     "metadata": {},
     "output_type": "display_data"
    }
   ],
   "source": [
    "# private_bar_plot(x,y,title,x_label,y_label)\n",
    "x = ['Monday', 'Tuesday', 'Wednesday', 'Thursday', 'Friday', 'Saturday', 'Sunday']\n",
    "\n",
    "private_bar_plot(x,private_count_max3Day_week,\"CASE 2: Differentially private - Visitors Count per Max 3 Days in Week\",\"Week days\",\"Visitors\")"
   ]
  },
  {
   "cell_type": "markdown",
   "metadata": {},
   "source": [
    "# Comparison between private and non-private count"
   ]
  },
  {
   "cell_type": "code",
   "execution_count": 49,
   "metadata": {},
   "outputs": [
    {
     "data": {
      "image/png": "[encoded data removed]",
      "text/plain": [
       "<Figure size 1008x432 with 1 Axes>"
      ]
     },
     "metadata": {},
     "output_type": "display_data"
    }
   ],
   "source": [
    "#Case 1 Comparison \n",
    "# if error occurs loading - reload total_visitors_day cell above\n",
    "labels = ['Monday', 'Tuesday', 'Wednesday', 'Thursday', 'Friday', 'Saturday', 'Sunday']\n",
    "x1 = total_visitors_day\n",
    "x2 = private_count_perDay_week\n",
    "\n",
    "comparison_graph(labels, x1, x2, 'count_perDay_week', 'private_count_perDay_week', 'Visitors','CASE 1: Visitors Count per Day VS Differentially private - Visitors Count per Day'  )\n"
   ]
  },
  {
   "cell_type": "code",
   "execution_count": 50,
   "metadata": {},
   "outputs": [
    {
     "data": {
      "image/png": "[encoded data removed]",
      "text/plain": [
       "<Figure size 1008x432 with 1 Axes>"
      ]
     },
     "metadata": {},
     "output_type": "display_data"
    }
   ],
   "source": [
    "#Case 2 Comparison \n",
    "labels = ['Monday', 'Tuesday', 'Wednesday', 'Thursday', 'Friday', 'Saturday', 'Sunday']\n",
    "x1 = total_visitors_max3days\n",
    "x2 = private_count_max3Day_week\n",
    "\n",
    "comparison_graph(labels, x1, x2, 'count_perDay_week', 'private_count_perDay_max3week', 'CASE 2: Visitors','Visitors Count per Day VS Differentially private - Visitors Count per Day'  )\n"
   ]
  },
  {
   "cell_type": "markdown",
   "metadata": {},
   "source": [
    "## Sum-up revenue per day of the week"
   ]
  },
  {
   "cell_type": "markdown",
   "metadata": {},
   "source": [
    "The previous example demonstrates how the contributed partitions are bounded. Now, we will demonstrate how individual contributions are clamped. Imagine Alice decides to calculate the sum of the restaurant revenue per week day in a differentially private way. For this she needs to sum up the visitors’ daily spending at the restaurant. For simplicity, let’s assume a visitor enters the restaurant at most once a day but multiple times a week."
   ]
  },
  {
   "cell_type": "code",
   "execution_count": 51,
   "metadata": {},
   "outputs": [],
   "source": [
    "# MAX_CONTRIBUTED_DAYS = 4\n",
    "MIN_EUROS_SPENT = 0\n",
    "\n",
    "MAX_EUROS_SPENT = 50\n",
    "\n",
    "epsilon = math.log(3)"
   ]
  },
  {
   "cell_type": "code",
   "execution_count": 52,
   "metadata": {},
   "outputs": [
    {
     "data": {
      "text/html": [
       "<div>\n",
       "<style scoped>\n",
       "    .dataframe tbody tr th:only-of-type {\n",
       "        vertical-align: middle;\n",
       "    }\n",
       "\n",
       "    .dataframe tbody tr th {\n",
       "        vertical-align: top;\n",
       "    }\n",
       "\n",
       "    .dataframe thead th {\n",
       "        text-align: right;\n",
       "    }\n",
       "</style>\n",
       "<table border=\"1\" class=\"dataframe\">\n",
       "  <thead>\n",
       "    <tr style=\"text-align: right;\">\n",
       "      <th></th>\n",
       "      <th>VisitorId</th>\n",
       "      <th>Day_1</th>\n",
       "      <th>Day_2</th>\n",
       "      <th>Day_3</th>\n",
       "      <th>Day_4</th>\n",
       "      <th>Day_5</th>\n",
       "      <th>Day_6</th>\n",
       "      <th>Day_7</th>\n",
       "      <th>valid_contribution</th>\n",
       "    </tr>\n",
       "  </thead>\n",
       "  <tbody>\n",
       "    <tr>\n",
       "      <th>0</th>\n",
       "      <td>580</td>\n",
       "      <td>0</td>\n",
       "      <td>0</td>\n",
       "      <td>0</td>\n",
       "      <td>0</td>\n",
       "      <td>0</td>\n",
       "      <td>0</td>\n",
       "      <td>0</td>\n",
       "      <td>False</td>\n",
       "    </tr>\n",
       "    <tr>\n",
       "      <th>1</th>\n",
       "      <td>1215</td>\n",
       "      <td>0</td>\n",
       "      <td>0</td>\n",
       "      <td>0</td>\n",
       "      <td>0</td>\n",
       "      <td>0</td>\n",
       "      <td>0</td>\n",
       "      <td>0</td>\n",
       "      <td>False</td>\n",
       "    </tr>\n",
       "    <tr>\n",
       "      <th>2</th>\n",
       "      <td>448</td>\n",
       "      <td>0</td>\n",
       "      <td>0</td>\n",
       "      <td>0</td>\n",
       "      <td>0</td>\n",
       "      <td>0</td>\n",
       "      <td>0</td>\n",
       "      <td>0</td>\n",
       "      <td>False</td>\n",
       "    </tr>\n",
       "    <tr>\n",
       "      <th>3</th>\n",
       "      <td>125</td>\n",
       "      <td>0</td>\n",
       "      <td>0</td>\n",
       "      <td>0</td>\n",
       "      <td>0</td>\n",
       "      <td>0</td>\n",
       "      <td>0</td>\n",
       "      <td>0</td>\n",
       "      <td>False</td>\n",
       "    </tr>\n",
       "    <tr>\n",
       "      <th>4</th>\n",
       "      <td>484</td>\n",
       "      <td>0</td>\n",
       "      <td>0</td>\n",
       "      <td>0</td>\n",
       "      <td>0</td>\n",
       "      <td>0</td>\n",
       "      <td>0</td>\n",
       "      <td>0</td>\n",
       "      <td>False</td>\n",
       "    </tr>\n",
       "  </tbody>\n",
       "</table>\n",
       "</div>"
      ],
      "text/plain": [
       "   VisitorId  Day_1  Day_2  Day_3  Day_4  Day_5  Day_6  Day_7  \\\n",
       "0        580      0      0      0      0      0      0      0   \n",
       "1       1215      0      0      0      0      0      0      0   \n",
       "2        448      0      0      0      0      0      0      0   \n",
       "3        125      0      0      0      0      0      0      0   \n",
       "4        484      0      0      0      0      0      0      0   \n",
       "\n",
       "   valid_contribution  \n",
       "0               False  \n",
       "1               False  \n",
       "2               False  \n",
       "3               False  \n",
       "4               False  "
      ]
     },
     "execution_count": 52,
     "metadata": {},
     "output_type": "execute_result"
    }
   ],
   "source": [
    "revenue_df = pd.DataFrame( {'VisitorId' : visitor_df[\"VisitorId\"].unique()}) \n",
    "\n",
    "set_visitor_count0(revenue_df).head() # returns revenue_df set days values to 0"
   ]
  },
  {
   "cell_type": "code",
   "execution_count": 53,
   "metadata": {},
   "outputs": [
    {
     "data": {
      "text/html": [
       "<div>\n",
       "<style scoped>\n",
       "    .dataframe tbody tr th:only-of-type {\n",
       "        vertical-align: middle;\n",
       "    }\n",
       "\n",
       "    .dataframe tbody tr th {\n",
       "        vertical-align: top;\n",
       "    }\n",
       "\n",
       "    .dataframe thead th {\n",
       "        text-align: right;\n",
       "    }\n",
       "</style>\n",
       "<table border=\"1\" class=\"dataframe\">\n",
       "  <thead>\n",
       "    <tr style=\"text-align: right;\">\n",
       "      <th></th>\n",
       "      <th>VisitorId</th>\n",
       "      <th>Day_1</th>\n",
       "      <th>Day_2</th>\n",
       "      <th>Day_3</th>\n",
       "      <th>Day_4</th>\n",
       "      <th>Day_5</th>\n",
       "      <th>Day_6</th>\n",
       "      <th>Day_7</th>\n",
       "      <th>valid_contribution</th>\n",
       "    </tr>\n",
       "  </thead>\n",
       "  <tbody>\n",
       "    <tr>\n",
       "      <th>0</th>\n",
       "      <td>580</td>\n",
       "      <td>1</td>\n",
       "      <td>1</td>\n",
       "      <td>1</td>\n",
       "      <td>0</td>\n",
       "      <td>1</td>\n",
       "      <td>0</td>\n",
       "      <td>1</td>\n",
       "      <td>False</td>\n",
       "    </tr>\n",
       "    <tr>\n",
       "      <th>1</th>\n",
       "      <td>1215</td>\n",
       "      <td>1</td>\n",
       "      <td>1</td>\n",
       "      <td>0</td>\n",
       "      <td>0</td>\n",
       "      <td>0</td>\n",
       "      <td>1</td>\n",
       "      <td>1</td>\n",
       "      <td>False</td>\n",
       "    </tr>\n",
       "    <tr>\n",
       "      <th>2</th>\n",
       "      <td>448</td>\n",
       "      <td>1</td>\n",
       "      <td>1</td>\n",
       "      <td>0</td>\n",
       "      <td>0</td>\n",
       "      <td>0</td>\n",
       "      <td>0</td>\n",
       "      <td>0</td>\n",
       "      <td>False</td>\n",
       "    </tr>\n",
       "    <tr>\n",
       "      <th>3</th>\n",
       "      <td>125</td>\n",
       "      <td>1</td>\n",
       "      <td>1</td>\n",
       "      <td>1</td>\n",
       "      <td>1</td>\n",
       "      <td>1</td>\n",
       "      <td>0</td>\n",
       "      <td>0</td>\n",
       "      <td>False</td>\n",
       "    </tr>\n",
       "    <tr>\n",
       "      <th>4</th>\n",
       "      <td>484</td>\n",
       "      <td>1</td>\n",
       "      <td>0</td>\n",
       "      <td>0</td>\n",
       "      <td>0</td>\n",
       "      <td>0</td>\n",
       "      <td>0</td>\n",
       "      <td>0</td>\n",
       "      <td>False</td>\n",
       "    </tr>\n",
       "  </tbody>\n",
       "</table>\n",
       "</div>"
      ],
      "text/plain": [
       "   VisitorId  Day_1  Day_2  Day_3  Day_4  Day_5  Day_6  Day_7  \\\n",
       "0        580      1      1      1      0      1      0      1   \n",
       "1       1215      1      1      0      0      0      1      1   \n",
       "2        448      1      1      0      0      0      0      0   \n",
       "3        125      1      1      1      1      1      0      0   \n",
       "4        484      1      0      0      0      0      0      0   \n",
       "\n",
       "   valid_contribution  \n",
       "0               False  \n",
       "1               False  \n",
       "2               False  \n",
       "3               False  \n",
       "4               False  "
      ]
     },
     "execution_count": 53,
     "metadata": {},
     "output_type": "execute_result"
    }
   ],
   "source": [
    "per_day_visits(revenue_df).head() # returns revenue_df days values - 1 -> present 0 -> absent"
   ]
  },
  {
   "cell_type": "code",
   "execution_count": 54,
   "metadata": {},
   "outputs": [
    {
     "data": {
      "text/html": [
       "<div>\n",
       "<style scoped>\n",
       "    .dataframe tbody tr th:only-of-type {\n",
       "        vertical-align: middle;\n",
       "    }\n",
       "\n",
       "    .dataframe tbody tr th {\n",
       "        vertical-align: top;\n",
       "    }\n",
       "\n",
       "    .dataframe thead th {\n",
       "        text-align: right;\n",
       "    }\n",
       "</style>\n",
       "<table border=\"1\" class=\"dataframe\">\n",
       "  <thead>\n",
       "    <tr style=\"text-align: right;\">\n",
       "      <th></th>\n",
       "      <th>VisitorId</th>\n",
       "      <th>Day_1</th>\n",
       "      <th>Day_2</th>\n",
       "      <th>Day_3</th>\n",
       "      <th>Day_4</th>\n",
       "      <th>Day_5</th>\n",
       "      <th>Day_6</th>\n",
       "      <th>Day_7</th>\n",
       "      <th>valid_contribution</th>\n",
       "    </tr>\n",
       "  </thead>\n",
       "  <tbody>\n",
       "    <tr>\n",
       "      <th>0</th>\n",
       "      <td>580</td>\n",
       "      <td>17</td>\n",
       "      <td>32</td>\n",
       "      <td>23</td>\n",
       "      <td>0</td>\n",
       "      <td>26</td>\n",
       "      <td>0</td>\n",
       "      <td>29</td>\n",
       "      <td>False</td>\n",
       "    </tr>\n",
       "    <tr>\n",
       "      <th>1</th>\n",
       "      <td>1215</td>\n",
       "      <td>18</td>\n",
       "      <td>28</td>\n",
       "      <td>0</td>\n",
       "      <td>0</td>\n",
       "      <td>0</td>\n",
       "      <td>36</td>\n",
       "      <td>22</td>\n",
       "      <td>False</td>\n",
       "    </tr>\n",
       "    <tr>\n",
       "      <th>2</th>\n",
       "      <td>448</td>\n",
       "      <td>16</td>\n",
       "      <td>35</td>\n",
       "      <td>0</td>\n",
       "      <td>0</td>\n",
       "      <td>0</td>\n",
       "      <td>0</td>\n",
       "      <td>0</td>\n",
       "      <td>False</td>\n",
       "    </tr>\n",
       "    <tr>\n",
       "      <th>3</th>\n",
       "      <td>125</td>\n",
       "      <td>20</td>\n",
       "      <td>47</td>\n",
       "      <td>24</td>\n",
       "      <td>26</td>\n",
       "      <td>20</td>\n",
       "      <td>0</td>\n",
       "      <td>0</td>\n",
       "      <td>False</td>\n",
       "    </tr>\n",
       "    <tr>\n",
       "      <th>4</th>\n",
       "      <td>484</td>\n",
       "      <td>13</td>\n",
       "      <td>0</td>\n",
       "      <td>0</td>\n",
       "      <td>0</td>\n",
       "      <td>0</td>\n",
       "      <td>0</td>\n",
       "      <td>0</td>\n",
       "      <td>False</td>\n",
       "    </tr>\n",
       "  </tbody>\n",
       "</table>\n",
       "</div>"
      ],
      "text/plain": [
       "   VisitorId  Day_1  Day_2  Day_3  Day_4  Day_5  Day_6  Day_7  \\\n",
       "0        580     17     32     23      0     26      0     29   \n",
       "1       1215     18     28      0      0      0     36     22   \n",
       "2        448     16     35      0      0      0      0      0   \n",
       "3        125     20     47     24     26     20      0      0   \n",
       "4        484     13      0      0      0      0      0      0   \n",
       "\n",
       "   valid_contribution  \n",
       "0               False  \n",
       "1               False  \n",
       "2               False  \n",
       "3               False  \n",
       "4               False  "
      ]
     },
     "execution_count": 54,
     "metadata": {},
     "output_type": "execute_result"
    }
   ],
   "source": [
    "# Add Per Day Amount to visitor_count_df\n",
    "# Replace the Day attendance with the amount spent on that day\n",
    "\n",
    "def per_day_amount(df):\n",
    "    for index_no in visitor_df.index:\n",
    "        day_no = visitor_df.loc[index_no,'Day']\n",
    "        id_no = visitor_df.loc[index_no,'VisitorId']\n",
    "        amount = visitor_df.loc[index_no,'Money spent (euros)']\n",
    "        #index_val = visitor_df.loc[visitor_df[\"VisitorId\"] == id_no].index[0]\n",
    "        #print(\"index val : \",index_val, \"day_no :\", day_no)\n",
    "        \n",
    "        #other dataframe\n",
    "        visitor_index_val = df.loc[visitor_count_df[\"VisitorId\"] == id_no].index[0]\n",
    "        #print(\"New index val : \",visitor_index_val)\n",
    "        visitor_day_val = df.loc[visitor_index_val, \"Day_\"+str(day_no)]\n",
    "        #print(\"Day val : \",visitor_day_val)\n",
    "        df.at[visitor_index_val, \"Day_\"+str(day_no) ] = amount\n",
    "        \n",
    "    return df\n",
    "        \n",
    "per_day_amount(revenue_df).head()"
   ]
  },
  {
   "cell_type": "code",
   "execution_count": 55,
   "metadata": {},
   "outputs": [
    {
     "data": {
      "text/html": [
       "<div>\n",
       "<style scoped>\n",
       "    .dataframe tbody tr th:only-of-type {\n",
       "        vertical-align: middle;\n",
       "    }\n",
       "\n",
       "    .dataframe tbody tr th {\n",
       "        vertical-align: top;\n",
       "    }\n",
       "\n",
       "    .dataframe thead th {\n",
       "        text-align: right;\n",
       "    }\n",
       "</style>\n",
       "<table border=\"1\" class=\"dataframe\">\n",
       "  <thead>\n",
       "    <tr style=\"text-align: right;\">\n",
       "      <th></th>\n",
       "      <th>VisitorId</th>\n",
       "      <th>Day_1</th>\n",
       "      <th>Day_2</th>\n",
       "      <th>Day_3</th>\n",
       "      <th>Day_4</th>\n",
       "      <th>Day_5</th>\n",
       "      <th>Day_6</th>\n",
       "      <th>Day_7</th>\n",
       "      <th>valid_contribution</th>\n",
       "    </tr>\n",
       "  </thead>\n",
       "  <tbody>\n",
       "    <tr>\n",
       "      <th>0</th>\n",
       "      <td>580</td>\n",
       "      <td>17</td>\n",
       "      <td>32</td>\n",
       "      <td>23</td>\n",
       "      <td>0</td>\n",
       "      <td>26</td>\n",
       "      <td>0</td>\n",
       "      <td>29</td>\n",
       "      <td>False</td>\n",
       "    </tr>\n",
       "    <tr>\n",
       "      <th>1</th>\n",
       "      <td>1215</td>\n",
       "      <td>18</td>\n",
       "      <td>28</td>\n",
       "      <td>0</td>\n",
       "      <td>0</td>\n",
       "      <td>0</td>\n",
       "      <td>36</td>\n",
       "      <td>22</td>\n",
       "      <td>True</td>\n",
       "    </tr>\n",
       "    <tr>\n",
       "      <th>2</th>\n",
       "      <td>448</td>\n",
       "      <td>16</td>\n",
       "      <td>35</td>\n",
       "      <td>0</td>\n",
       "      <td>0</td>\n",
       "      <td>0</td>\n",
       "      <td>0</td>\n",
       "      <td>0</td>\n",
       "      <td>True</td>\n",
       "    </tr>\n",
       "    <tr>\n",
       "      <th>3</th>\n",
       "      <td>125</td>\n",
       "      <td>20</td>\n",
       "      <td>47</td>\n",
       "      <td>24</td>\n",
       "      <td>26</td>\n",
       "      <td>20</td>\n",
       "      <td>0</td>\n",
       "      <td>0</td>\n",
       "      <td>False</td>\n",
       "    </tr>\n",
       "    <tr>\n",
       "      <th>4</th>\n",
       "      <td>484</td>\n",
       "      <td>13</td>\n",
       "      <td>0</td>\n",
       "      <td>0</td>\n",
       "      <td>0</td>\n",
       "      <td>0</td>\n",
       "      <td>0</td>\n",
       "      <td>0</td>\n",
       "      <td>True</td>\n",
       "    </tr>\n",
       "  </tbody>\n",
       "</table>\n",
       "</div>"
      ],
      "text/plain": [
       "   VisitorId  Day_1  Day_2  Day_3  Day_4  Day_5  Day_6  Day_7  \\\n",
       "0        580     17     32     23      0     26      0     29   \n",
       "1       1215     18     28      0      0      0     36     22   \n",
       "2        448     16     35      0      0      0      0      0   \n",
       "3        125     20     47     24     26     20      0      0   \n",
       "4        484     13      0      0      0      0      0      0   \n",
       "\n",
       "   valid_contribution  \n",
       "0               False  \n",
       "1                True  \n",
       "2                True  \n",
       "3               False  \n",
       "4                True  "
      ]
     },
     "execution_count": 55,
     "metadata": {},
     "output_type": "execute_result"
    }
   ],
   "source": [
    "max_partitions_contributed(4,revenue_df).head()  # returns revenue_df with True and False values for max contribution = 4"
   ]
  },
  {
   "cell_type": "code",
   "execution_count": 56,
   "metadata": {},
   "outputs": [
    {
     "data": {
      "text/html": [
       "<div>\n",
       "<style scoped>\n",
       "    .dataframe tbody tr th:only-of-type {\n",
       "        vertical-align: middle;\n",
       "    }\n",
       "\n",
       "    .dataframe tbody tr th {\n",
       "        vertical-align: top;\n",
       "    }\n",
       "\n",
       "    .dataframe thead th {\n",
       "        text-align: right;\n",
       "    }\n",
       "</style>\n",
       "<table border=\"1\" class=\"dataframe\">\n",
       "  <thead>\n",
       "    <tr style=\"text-align: right;\">\n",
       "      <th></th>\n",
       "      <th>VisitorId</th>\n",
       "      <th>Day_1</th>\n",
       "      <th>Day_2</th>\n",
       "      <th>Day_3</th>\n",
       "      <th>Day_4</th>\n",
       "      <th>Day_5</th>\n",
       "      <th>Day_6</th>\n",
       "      <th>Day_7</th>\n",
       "      <th>valid_contribution</th>\n",
       "    </tr>\n",
       "  </thead>\n",
       "  <tbody>\n",
       "    <tr>\n",
       "      <th>0</th>\n",
       "      <td>580</td>\n",
       "      <td>17</td>\n",
       "      <td>32</td>\n",
       "      <td>23</td>\n",
       "      <td>0</td>\n",
       "      <td>26</td>\n",
       "      <td>0</td>\n",
       "      <td>0</td>\n",
       "      <td>True</td>\n",
       "    </tr>\n",
       "    <tr>\n",
       "      <th>1</th>\n",
       "      <td>1215</td>\n",
       "      <td>18</td>\n",
       "      <td>28</td>\n",
       "      <td>0</td>\n",
       "      <td>0</td>\n",
       "      <td>0</td>\n",
       "      <td>36</td>\n",
       "      <td>22</td>\n",
       "      <td>True</td>\n",
       "    </tr>\n",
       "    <tr>\n",
       "      <th>2</th>\n",
       "      <td>448</td>\n",
       "      <td>16</td>\n",
       "      <td>35</td>\n",
       "      <td>0</td>\n",
       "      <td>0</td>\n",
       "      <td>0</td>\n",
       "      <td>0</td>\n",
       "      <td>0</td>\n",
       "      <td>True</td>\n",
       "    </tr>\n",
       "    <tr>\n",
       "      <th>3</th>\n",
       "      <td>125</td>\n",
       "      <td>20</td>\n",
       "      <td>47</td>\n",
       "      <td>24</td>\n",
       "      <td>26</td>\n",
       "      <td>0</td>\n",
       "      <td>0</td>\n",
       "      <td>0</td>\n",
       "      <td>True</td>\n",
       "    </tr>\n",
       "    <tr>\n",
       "      <th>4</th>\n",
       "      <td>484</td>\n",
       "      <td>13</td>\n",
       "      <td>0</td>\n",
       "      <td>0</td>\n",
       "      <td>0</td>\n",
       "      <td>0</td>\n",
       "      <td>0</td>\n",
       "      <td>0</td>\n",
       "      <td>True</td>\n",
       "    </tr>\n",
       "  </tbody>\n",
       "</table>\n",
       "</div>"
      ],
      "text/plain": [
       "   VisitorId  Day_1  Day_2  Day_3  Day_4  Day_5  Day_6  Day_7  \\\n",
       "0        580     17     32     23      0     26      0      0   \n",
       "1       1215     18     28      0      0      0     36     22   \n",
       "2        448     16     35      0      0      0      0      0   \n",
       "3        125     20     47     24     26      0      0      0   \n",
       "4        484     13      0      0      0      0      0      0   \n",
       "\n",
       "   valid_contribution  \n",
       "0                True  \n",
       "1                True  \n",
       "2                True  \n",
       "3                True  \n",
       "4                True  "
      ]
     },
     "execution_count": 56,
     "metadata": {},
     "output_type": "execute_result"
    }
   ],
   "source": [
    "# Remove extra contribution from visitors_Maxweek DataFrame \n",
    "# returns visitors_Maxweek\n",
    "remove_extra_contributions(4, revenue_df).head()"
   ]
  },
  {
   "cell_type": "code",
   "execution_count": 57,
   "metadata": {
    "scrolled": false
   },
   "outputs": [
    {
     "name": "stdout",
     "output_type": "stream",
     "text": [
      "['Day_1', 'Day_2', 'Day_3', 'Day_4', 'Day_5', 'Day_6', 'Day_7']\n",
      "[8678, 8696, 12088, 12079, 13682, 16311, 16082]\n"
     ]
    }
   ],
   "source": [
    "# Calculate per day amount - Unbounded sum\n",
    "# To check the difference between unbounded and bounded sum\n",
    "per_day_amount = []\n",
    "\n",
    "for day in days:  # day = day_1\n",
    "    amount = revenue_df.loc[:, day ].sum()\n",
    "    per_day_amount.append(amount)\n",
    "    \n",
    "\n",
    "print(days)\n",
    "print(per_day_amount)"
   ]
  },
  {
   "cell_type": "code",
   "execution_count": 58,
   "metadata": {},
   "outputs": [],
   "source": [
    "#CAlculate Differentially private amount\n",
    "def private_per_day_amount_bounded(lt):\n",
    "    x = BoundedSum(epsilon,\n",
    "                MIN_EUROS_SPENT,\n",
    "                MAX_EUROS_SPENT,\n",
    "                  4)\n",
    "    return x.quick_result(lt)"
   ]
  },
  {
   "cell_type": "code",
   "execution_count": 59,
   "metadata": {},
   "outputs": [
    {
     "name": "stdout",
     "output_type": "stream",
     "text": [
      "['Day_1', 'Day_2', 'Day_3', 'Day_4', 'Day_5', 'Day_6', 'Day_7']\n",
      "Private Values: [9230, 9140, 12193, 12568, 13868, 16020, 15640]\n",
      "Original Values: [8642, 8696, 11998, 12054, 13682, 16311, 16082]\n"
     ]
    }
   ],
   "source": [
    "bounded = []\n",
    "private_bounded = []\n",
    "\n",
    "for day in days:\n",
    "\n",
    "    amount_bounded = []\n",
    "    \n",
    "    for index_no in revenue_df.index:\n",
    "        amount = revenue_df.loc[index_no, day]\n",
    "        \n",
    "        if amount > MAX_EUROS_SPENT:\n",
    "            amount = MAX_EUROS_SPENT\n",
    "            \n",
    "        if amount != 0:\n",
    "            amount_bounded.append(amount)\n",
    "            \n",
    "    total = private_per_day_amount_bounded(amount_bounded)\n",
    "    total1 = sum(amount_bounded)\n",
    "    private_bounded.append(total)\n",
    "    bounded.append(total1)\n",
    "    \n",
    "print(days)\n",
    "print('Private Values:', private_bounded)   \n",
    "print('Original Values:',bounded)"
   ]
  },
  {
   "cell_type": "code",
   "execution_count": 60,
   "metadata": {},
   "outputs": [
    {
     "data": {
      "image/png": "[encoded data removed]",
      "text/plain": [
       "<Figure size 576x288 with 1 Axes>"
      ]
     },
     "metadata": {},
     "output_type": "display_data"
    }
   ],
   "source": [
    "# bar_plot(x,y,title,x_label,y_label)\n",
    "x = ['Monday', 'Tuesday', 'Wednesday', 'Thursday', 'Friday', 'Saturday', 'Sunday']\n",
    "\n",
    "bar_plot(x,bounded,\"Amount per day of week - Bounded\",\"Week days\",\"Visitors\")"
   ]
  },
  {
   "cell_type": "code",
   "execution_count": 61,
   "metadata": {},
   "outputs": [
    {
     "data": {
      "image/png": "[encoded data removed]",
      "text/plain": [
       "<Figure size 576x288 with 1 Axes>"
      ]
     },
     "metadata": {},
     "output_type": "display_data"
    }
   ],
   "source": [
    "# private_bar_plot(x,y,title,x_label,y_label)\n",
    "x = ['Monday', 'Tuesday', 'Wednesday', 'Thursday', 'Friday', 'Saturday', 'Sunday']\n",
    "\n",
    "private_bar_plot(x,private_bounded,\"Differentially Private Amount per day of week - Bounded\",\"Week days\",\"Visitors\")"
   ]
  },
  {
   "cell_type": "code",
   "execution_count": 62,
   "metadata": {},
   "outputs": [
    {
     "data": {
      "image/png": "[encoded data removed]",
      "text/plain": [
       "<Figure size 1008x432 with 1 Axes>"
      ]
     },
     "metadata": {},
     "output_type": "display_data"
    }
   ],
   "source": [
    "#Comparison graph\n",
    "\n",
    "labels = ['Monday', 'Tuesday', 'Wednesday', 'Thursday', 'Friday', 'Saturday', 'Sunday']\n",
    "x1 = bounded\n",
    "x2 = private_bounded\n",
    "\n",
    "comparison_graph(labels, x1, x2, 'perDayAmountBounded', 'privatePerDayAmountBounded', 'Visitors','Amount Spent Per Day VS Differentially private - Amount Spent Per Day'  )\n"
   ]
  },
  {
   "cell_type": "code",
   "execution_count": null,
   "metadata": {},
   "outputs": [],
   "source": [
    "\n"
   ]
  }
 ],
 "metadata": {
  "kernelspec": {
   "display_name": "Python 3",
   "language": "python",
   "name": "python3"
  },
  "language_info": {
   "codemirror_mode": {
    "name": "ipython",
    "version": 3
   },
   "file_extension": ".py",
   "mimetype": "text/x-python",
   "name": "python",
   "nbconvert_exporter": "python",
   "pygments_lexer": "ipython3",
   "version": "3.6.10"
  }
 },
 "nbformat": 4,
 "nbformat_minor": 2
}
